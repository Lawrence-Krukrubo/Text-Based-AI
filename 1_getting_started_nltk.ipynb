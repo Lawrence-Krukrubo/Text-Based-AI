{
  "nbformat": 4,
  "nbformat_minor": 0,
  "metadata": {
    "colab": {
      "name": "1_getting_started_nltk.ipynb",
      "provenance": [],
      "collapsed_sections": [],
      "mount_file_id": "1HTt1mxwu19-g5PmSJSJMIuvvTH3fjjYN",
      "authorship_tag": "ABX9TyNNlxFhN6zXsKE15uTopOhB",
      "include_colab_link": true
    },
    "kernelspec": {
      "name": "python3",
      "display_name": "Python 3"
    }
  },
  "cells": [
    {
      "cell_type": "markdown",
      "metadata": {
        "id": "view-in-github",
        "colab_type": "text"
      },
      "source": [
        "<a href=\"https://colab.research.google.com/github/Lawrence-Krukrubo/Text-Based-AI/blob/master/1_getting_started_nltk.ipynb\" target=\"_parent\"><img src=\"https://colab.research.google.com/assets/colab-badge.svg\" alt=\"Open In Colab\"/></a>"
      ]
    },
    {
      "cell_type": "code",
      "metadata": {
        "id": "AGGS_jsdfAKA",
        "outputId": "8fbd3d23-7650-4115-9080-683128034f17",
        "colab": {
          "base_uri": "https://localhost:8080/",
          "height": 34
        }
      },
      "source": [
        "% cd \"/content/drive/My Drive/Colab_Notebooks/data_tools/nltk\""
      ],
      "execution_count": 1,
      "outputs": [
        {
          "output_type": "stream",
          "text": [
            "/content/drive/My Drive/Colab_Notebooks/data_tools/nltk\n"
          ],
          "name": "stdout"
        }
      ]
    },
    {
      "cell_type": "markdown",
      "metadata": {
        "id": "cgR4Cc5bAZ2m"
      },
      "source": [
        "1. [**NLTK-Book**](http://www.nltk.org/book/)\n",
        "2. [more-on-Viterbi-algorithm](http://people.cs.georgetown.edu/nschneid/cosc572/f16/12_viterbi_slides.pdf)\n",
        "3. [pos-tagging-using-HMM](http://www.phontron.com/slides/nlp-programming-en-04-hmm.pdf)\n",
        "4. [pos-with-deep-learning](https://becominghuman.ai/part-of-speech-tagging-tutorial-with-the-keras-deep-learning-library-d7f93fa05537)"
      ]
    },
    {
      "cell_type": "markdown",
      "metadata": {
        "id": "o4jYmV0ovotS"
      },
      "source": [
        "**It is easy to get our hands on millions of words of text. What can we do with it, assuming we can write some simple programs? Here, we'll address the following questions:**\n",
        "\n",
        "1. What can we achieve by combining simple programming techniques with large quantities of text?\n",
        "2. How can we automatically extract key words and phrases that sum up the style and content of a text?\n",
        "3. What tools and techniques does the Python programming language provide for such work?\n",
        "4. What are some of the interesting challenges of natural language processing?"
      ]
    },
    {
      "cell_type": "markdown",
      "metadata": {
        "id": "ZPVAdpn_29Zb"
      },
      "source": [
        "<h2>1. Downloads and Imports</h2>"
      ]
    },
    {
      "cell_type": "code",
      "metadata": {
        "id": "uTc8CJm2cuOf",
        "outputId": "e3d734b0-d932-4023-e58b-e94de033e063",
        "colab": {
          "base_uri": "https://localhost:8080/",
          "height": 34
        }
      },
      "source": [
        "import nltk\n",
        "import seaborn as sns\n",
        "import matplotlib.pyplot as plt\n",
        "import pandas as pd\n",
        "from collections import Counter, defaultdict\n",
        "import string\n",
        "from nltk.corpus import stopwords\n",
        "\n",
        "print(f'nltk version: {nltk.__version__}')"
      ],
      "execution_count": 45,
      "outputs": [
        {
          "output_type": "stream",
          "text": [
            "nltk version: 3.2.5\n"
          ],
          "name": "stdout"
        }
      ]
    },
    {
      "cell_type": "code",
      "metadata": {
        "id": "qiOh8SbigjtV",
        "outputId": "57b1e3ff-e213-4c27-e972-348dd18c0b3e",
        "colab": {
          "base_uri": "https://localhost:8080/",
          "height": 1000
        }
      },
      "source": [
        "nltk.download()\n",
        "from nltk.book import *"
      ],
      "execution_count": 3,
      "outputs": [
        {
          "output_type": "stream",
          "text": [
            "NLTK Downloader\n",
            "---------------------------------------------------------------------------\n",
            "    d) Download   l) List    u) Update   c) Config   h) Help   q) Quit\n",
            "---------------------------------------------------------------------------\n",
            "Downloader> d\n",
            "\n",
            "Download which package (l=list; x=cancel)?\n",
            "  Identifier> books\n",
            "    Error loading books: Package 'books' not found in index\n",
            "\n",
            "---------------------------------------------------------------------------\n",
            "    d) Download   l) List    u) Update   c) Config   h) Help   q) Quit\n",
            "---------------------------------------------------------------------------\n",
            "Downloader> book\n",
            "Command 'book' unrecognized\n",
            "\n",
            "---------------------------------------------------------------------------\n",
            "    d) Download   l) List    u) Update   c) Config   h) Help   q) Quit\n",
            "---------------------------------------------------------------------------\n",
            "Downloader> d\n",
            "\n",
            "Download which package (l=list; x=cancel)?\n",
            "  Identifier> book\n",
            "    Downloading collection 'book'\n",
            "       | \n",
            "       | Downloading package abc to /root/nltk_data...\n",
            "       |   Unzipping corpora/abc.zip.\n",
            "       | Downloading package brown to /root/nltk_data...\n",
            "       |   Unzipping corpora/brown.zip.\n",
            "       | Downloading package chat80 to /root/nltk_data...\n",
            "       |   Unzipping corpora/chat80.zip.\n",
            "       | Downloading package cmudict to /root/nltk_data...\n",
            "       |   Unzipping corpora/cmudict.zip.\n",
            "       | Downloading package conll2000 to /root/nltk_data...\n",
            "       |   Unzipping corpora/conll2000.zip.\n",
            "       | Downloading package conll2002 to /root/nltk_data...\n",
            "       |   Unzipping corpora/conll2002.zip.\n",
            "       | Downloading package dependency_treebank to /root/nltk_data...\n",
            "       |   Unzipping corpora/dependency_treebank.zip.\n",
            "       | Downloading package genesis to /root/nltk_data...\n",
            "       |   Unzipping corpora/genesis.zip.\n",
            "       | Downloading package gutenberg to /root/nltk_data...\n",
            "       |   Unzipping corpora/gutenberg.zip.\n",
            "       | Downloading package ieer to /root/nltk_data...\n",
            "       |   Unzipping corpora/ieer.zip.\n",
            "       | Downloading package inaugural to /root/nltk_data...\n",
            "       |   Unzipping corpora/inaugural.zip.\n",
            "       | Downloading package movie_reviews to /root/nltk_data...\n",
            "       |   Unzipping corpora/movie_reviews.zip.\n",
            "       | Downloading package nps_chat to /root/nltk_data...\n",
            "       |   Unzipping corpora/nps_chat.zip.\n",
            "       | Downloading package names to /root/nltk_data...\n",
            "       |   Unzipping corpora/names.zip.\n",
            "       | Downloading package ppattach to /root/nltk_data...\n",
            "       |   Unzipping corpora/ppattach.zip.\n",
            "       | Downloading package reuters to /root/nltk_data...\n",
            "       | Downloading package senseval to /root/nltk_data...\n",
            "       |   Unzipping corpora/senseval.zip.\n",
            "       | Downloading package state_union to /root/nltk_data...\n",
            "       |   Unzipping corpora/state_union.zip.\n",
            "       | Downloading package stopwords to /root/nltk_data...\n",
            "       |   Unzipping corpora/stopwords.zip.\n",
            "       | Downloading package swadesh to /root/nltk_data...\n",
            "       |   Unzipping corpora/swadesh.zip.\n",
            "       | Downloading package timit to /root/nltk_data...\n",
            "       |   Unzipping corpora/timit.zip.\n",
            "       | Downloading package treebank to /root/nltk_data...\n",
            "       |   Unzipping corpora/treebank.zip.\n",
            "       | Downloading package toolbox to /root/nltk_data...\n",
            "       |   Unzipping corpora/toolbox.zip.\n",
            "       | Downloading package udhr to /root/nltk_data...\n",
            "       |   Unzipping corpora/udhr.zip.\n",
            "       | Downloading package udhr2 to /root/nltk_data...\n",
            "       |   Unzipping corpora/udhr2.zip.\n",
            "       | Downloading package unicode_samples to /root/nltk_data...\n",
            "       |   Unzipping corpora/unicode_samples.zip.\n",
            "       | Downloading package webtext to /root/nltk_data...\n",
            "       |   Unzipping corpora/webtext.zip.\n",
            "       | Downloading package wordnet to /root/nltk_data...\n",
            "       |   Unzipping corpora/wordnet.zip.\n",
            "       | Downloading package wordnet_ic to /root/nltk_data...\n",
            "       |   Unzipping corpora/wordnet_ic.zip.\n",
            "       | Downloading package words to /root/nltk_data...\n",
            "       |   Unzipping corpora/words.zip.\n",
            "       | Downloading package maxent_treebank_pos_tagger to\n",
            "       |     /root/nltk_data...\n",
            "       |   Unzipping taggers/maxent_treebank_pos_tagger.zip.\n",
            "       | Downloading package maxent_ne_chunker to /root/nltk_data...\n",
            "       |   Unzipping chunkers/maxent_ne_chunker.zip.\n",
            "       | Downloading package universal_tagset to /root/nltk_data...\n",
            "       |   Unzipping taggers/universal_tagset.zip.\n",
            "       | Downloading package punkt to /root/nltk_data...\n",
            "       |   Unzipping tokenizers/punkt.zip.\n",
            "       | Downloading package book_grammars to /root/nltk_data...\n",
            "       |   Unzipping grammars/book_grammars.zip.\n",
            "       | Downloading package city_database to /root/nltk_data...\n",
            "       |   Unzipping corpora/city_database.zip.\n",
            "       | Downloading package tagsets to /root/nltk_data...\n",
            "       |   Unzipping help/tagsets.zip.\n",
            "       | Downloading package panlex_swadesh to /root/nltk_data...\n",
            "       | Downloading package averaged_perceptron_tagger to\n",
            "       |     /root/nltk_data...\n",
            "       |   Unzipping taggers/averaged_perceptron_tagger.zip.\n",
            "       | \n",
            "     Done downloading collection book\n",
            "\n",
            "---------------------------------------------------------------------------\n",
            "    d) Download   l) List    u) Update   c) Config   h) Help   q) Quit\n",
            "---------------------------------------------------------------------------\n",
            "Downloader> q\n",
            "*** Introductory Examples for the NLTK Book ***\n",
            "Loading text1, ..., text9 and sent1, ..., sent9\n",
            "Type the name of the text or sentence to view it.\n",
            "Type: 'texts()' or 'sents()' to list the materials.\n",
            "text1: Moby Dick by Herman Melville 1851\n",
            "text2: Sense and Sensibility by Jane Austen 1811\n",
            "text3: The Book of Genesis\n",
            "text4: Inaugural Address Corpus\n",
            "text5: Chat Corpus\n",
            "text6: Monty Python and the Holy Grail\n",
            "text7: Wall Street Journal\n",
            "text8: Personals Corpus\n",
            "text9: The Man Who Was Thursday by G . K . Chesterton 1908\n"
          ],
          "name": "stdout"
        }
      ]
    },
    {
      "cell_type": "markdown",
      "metadata": {
        "id": "fy_gF2SYiIDS"
      },
      "source": [
        "<h2>2. Searching Text:</h2>\n",
        "\n",
        "There are many ways to examine the context of a text apart from simply reading it. A concordance view shows us every occurrence of a given word, together with some context. Here we look up the word monstrous in Moby Dick.\n",
        "\n"
      ]
    },
    {
      "cell_type": "code",
      "metadata": {
        "id": "1F1L1E6Qgjfi",
        "outputId": "036ec0a0-0d5b-4ae7-a9fc-d00c50906429",
        "colab": {
          "base_uri": "https://localhost:8080/",
          "height": 221
        }
      },
      "source": [
        "text1.concordance('monstrous')"
      ],
      "execution_count": 4,
      "outputs": [
        {
          "output_type": "stream",
          "text": [
            "Displaying 11 of 11 matches:\n",
            "ong the former , one was of a most monstrous size . ... This came towards us , \n",
            "ON OF THE PSALMS . \" Touching that monstrous bulk of the whale or ork we have r\n",
            "ll over with a heathenish array of monstrous clubs and spears . Some were thick\n",
            "d as you gazed , and wondered what monstrous cannibal and savage could ever hav\n",
            "that has survived the flood ; most monstrous and most mountainous ! That Himmal\n",
            "they might scout at Moby Dick as a monstrous fable , or still worse and more de\n",
            "th of Radney .'\" CHAPTER 55 Of the Monstrous Pictures of Whales . I shall ere l\n",
            "ing Scenes . In connexion with the monstrous pictures of whales , I am strongly\n",
            "ere to enter upon those still more monstrous stories of them which are to be fo\n",
            "ght have been rummaged out of this monstrous cabinet there is no telling . But \n",
            "of Whale - Bones ; for Whales of a monstrous size are oftentimes cast up dead u\n"
          ],
          "name": "stdout"
        }
      ]
    },
    {
      "cell_type": "markdown",
      "metadata": {
        "id": "7G-BA8-0nwL-"
      },
      "source": [
        "What other words appear in a similar range of contexts as monstrous? We can find out by appending the term similar to the name of the text in question, then inserting the relevant word in parentheses:"
      ]
    },
    {
      "cell_type": "code",
      "metadata": {
        "id": "1P7nEYXKjc70",
        "outputId": "6c6c117f-91ba-414b-9784-5a8a80b6d1f3",
        "colab": {
          "base_uri": "https://localhost:8080/",
          "height": 68
        }
      },
      "source": [
        "text1.similar('monstrous')"
      ],
      "execution_count": 5,
      "outputs": [
        {
          "output_type": "stream",
          "text": [
            "true contemptible christian abundant few part mean careful puzzled\n",
            "mystifying passing curious loving wise doleful gamesome singular\n",
            "delightfully perilous fearless\n"
          ],
          "name": "stdout"
        }
      ]
    },
    {
      "cell_type": "code",
      "metadata": {
        "id": "flBB9FCpogJj",
        "outputId": "38f23c97-4169-4cfb-b58b-3a22932812a6",
        "colab": {
          "base_uri": "https://localhost:8080/",
          "height": 221
        }
      },
      "source": [
        "text2.concordance('monstrous')"
      ],
      "execution_count": 6,
      "outputs": [
        {
          "output_type": "stream",
          "text": [
            "Displaying 11 of 11 matches:\n",
            ". \" Now , Palmer , you shall see a monstrous pretty girl .\" He immediately went\n",
            "your sister is to marry him . I am monstrous glad of it , for then I shall have\n",
            "ou may tell your sister . She is a monstrous lucky girl to get him , upon my ho\n",
            "k how you will like them . Lucy is monstrous pretty , and so good humoured and \n",
            " Jennings , \" I am sure I shall be monstrous glad of Miss Marianne ' s company \n",
            " usual noisy cheerfulness , \" I am monstrous glad to see you -- sorry I could n\n",
            "t however , as it turns out , I am monstrous glad there was never any thing in \n",
            "so scornfully ! for they say he is monstrous fond of her , as well he may . I s\n",
            "possible that she should .\" \" I am monstrous glad of it . Good gracious ! I hav\n",
            "thing of the kind . So then he was monstrous happy , and talked on some time ab\n",
            "e very genteel people . He makes a monstrous deal of money , and they keep thei\n"
          ],
          "name": "stdout"
        }
      ]
    },
    {
      "cell_type": "code",
      "metadata": {
        "id": "87hfvjPPoPlO",
        "outputId": "3f89c6d3-9b09-4fe4-e1e1-3fd964e16503",
        "colab": {
          "base_uri": "https://localhost:8080/",
          "height": 51
        }
      },
      "source": [
        "text2.similar('monstrous')"
      ],
      "execution_count": 7,
      "outputs": [
        {
          "output_type": "stream",
          "text": [
            "very so exceedingly heartily a as good great extremely remarkably\n",
            "sweet vast amazingly\n"
          ],
          "name": "stdout"
        }
      ]
    },
    {
      "cell_type": "markdown",
      "metadata": {
        "id": "1jd9ySAzpwwf"
      },
      "source": [
        "Observe that we get different results for different texts. Austen uses this word quite differently from Melville; for her, monstrous has positive connotations, and sometimes functions as an intensifier like the word very."
      ]
    },
    {
      "cell_type": "markdown",
      "metadata": {
        "id": "y4J_d0Wep7zw"
      },
      "source": [
        "The term common_contexts allows us to examine just the contexts that are shared by two or more words, such as monstrous and very"
      ]
    },
    {
      "cell_type": "code",
      "metadata": {
        "id": "q6GRP_qspxXB",
        "outputId": "bb092378-c8e6-4695-b3a7-55be43bab482",
        "colab": {
          "base_uri": "https://localhost:8080/",
          "height": 34
        }
      },
      "source": [
        "text2.common_contexts(['monstrous','very'])"
      ],
      "execution_count": 8,
      "outputs": [
        {
          "output_type": "stream",
          "text": [
            "a_pretty am_glad a_lucky is_pretty be_glad\n"
          ],
          "name": "stdout"
        }
      ]
    },
    {
      "cell_type": "code",
      "metadata": {
        "id": "3IL2Iplbqhlx",
        "outputId": "d50a4cad-5e57-4298-acc1-b282305ffe37",
        "colab": {
          "base_uri": "https://localhost:8080/",
          "height": 34
        }
      },
      "source": [
        "text1.common_contexts(['monstrous', 'perilous'])"
      ],
      "execution_count": 9,
      "outputs": [
        {
          "output_type": "stream",
          "text": [
            "most_and\n"
          ],
          "name": "stdout"
        }
      ]
    },
    {
      "cell_type": "markdown",
      "metadata": {
        "id": "5FQKD0L5r256"
      },
      "source": [
        "we can also determine the location of a word in the text: how many words from the beginning it appears. This positional information can be displayed using a dispersion plot. Each stripe represents an instance of a word, and each row represents the entire text"
      ]
    },
    {
      "cell_type": "markdown",
      "metadata": {
        "id": "YgUA4vozwSza"
      },
      "source": [
        "Lexical Dispersion Plot for Words in U.S. Presidential Inaugural Addresses: This can be used to investigate changes in language use over time"
      ]
    },
    {
      "cell_type": "code",
      "metadata": {
        "id": "6KEOG_0Dr6cj",
        "outputId": "28385dd0-3968-4773-efea-317a5c3cae4a",
        "colab": {
          "base_uri": "https://localhost:8080/",
          "height": 295
        }
      },
      "source": [
        "sns.set_style('ticks')\n",
        "text4.dispersion_plot(['nation', 'citizens', 'America', 'right'])"
      ],
      "execution_count": 10,
      "outputs": [
        {
          "output_type": "display_data",
          "data": {
            "image/png": "[encoded data removed]",
            "text/plain": [
              "<Figure size 432x288 with 1 Axes>"
            ]
          },
          "metadata": {
            "tags": []
          }
        }
      ]
    },
    {
      "cell_type": "markdown",
      "metadata": {
        "id": "FbBVPAYZ03pA"
      },
      "source": [
        "<h2>3. Counting Vocabulary:</h2>\n",
        "\n",
        "In this section we will see how to use the computer to count the words in a text in a variety of useful ways"
      ]
    },
    {
      "cell_type": "code",
      "metadata": {
        "id": "AvADi-B8r6xe",
        "outputId": "f3831a03-3865-4b33-d954-80b89797c62c",
        "colab": {
          "base_uri": "https://localhost:8080/",
          "height": 34
        }
      },
      "source": [
        "len(text3)"
      ],
      "execution_count": 11,
      "outputs": [
        {
          "output_type": "execute_result",
          "data": {
            "text/plain": [
              "44764"
            ]
          },
          "metadata": {
            "tags": []
          },
          "execution_count": 11
        }
      ]
    },
    {
      "cell_type": "markdown",
      "metadata": {
        "id": "8Z3TWuM04GK0"
      },
      "source": [
        "So Genesis has 44,764 words and punctuation symbols, or **`\"tokens.\"`** A token is the technical name for a sequence of characters — such as hairy, his, or...<br>How many distinct words does the book of Genesis contain?  The vocabulary of a text is just the set of tokens that it uses, since in a set, all duplicates are collapsed together. We can find this with `set(text3)`"
      ]
    },
    {
      "cell_type": "code",
      "metadata": {
        "id": "GjvHhfzP5X66",
        "outputId": "9192a37f-7724-4b76-dc00-2244ff0e8aed",
        "colab": {
          "base_uri": "https://localhost:8080/",
          "height": 34
        }
      },
      "source": [
        "# confirming what type of documents we're dealing with\n",
        "type(text1)"
      ],
      "execution_count": 13,
      "outputs": [
        {
          "output_type": "execute_result",
          "data": {
            "text/plain": [
              "nltk.text.Text"
            ]
          },
          "metadata": {
            "tags": []
          },
          "execution_count": 13
        }
      ]
    },
    {
      "cell_type": "code",
      "metadata": {
        "id": "OB0eDdEmtruD"
      },
      "source": [
        "def get_unique_tokens(text):\n",
        "    \"\"\"Find the unique tokens in a text\n",
        "\n",
        "    @param text: an nltk.text.Text object\n",
        "    @return: two items, first is the count,\n",
        "            second is a list of unique items\n",
        "    \"\"\"\n",
        "    unique_list = list(sorted(set(text)))\n",
        "    return len(unique_list), unique_list"
      ],
      "execution_count": 14,
      "outputs": []
    },
    {
      "cell_type": "code",
      "metadata": {
        "id": "eEyJCndhr62T",
        "outputId": "ded304bc-36df-4c6c-fa84-8b4d9e4f3e28",
        "colab": {
          "base_uri": "https://localhost:8080/",
          "height": 391
        }
      },
      "source": [
        "unique_text3 = get_unique_tokens(text3)\n",
        "print(f'Genesis contains {unique_text3[0]} unique tokens\\n')\n",
        "unique_text3[1][:20]"
      ],
      "execution_count": 15,
      "outputs": [
        {
          "output_type": "stream",
          "text": [
            "Genesis contains 2789 unique tokens\n",
            "\n"
          ],
          "name": "stdout"
        },
        {
          "output_type": "execute_result",
          "data": {
            "text/plain": [
              "['!',\n",
              " \"'\",\n",
              " '(',\n",
              " ')',\n",
              " ',',\n",
              " ',)',\n",
              " '.',\n",
              " '.)',\n",
              " ':',\n",
              " ';',\n",
              " ';)',\n",
              " '?',\n",
              " '?)',\n",
              " 'A',\n",
              " 'Abel',\n",
              " 'Abelmizraim',\n",
              " 'Abidah',\n",
              " 'Abide',\n",
              " 'Abimael',\n",
              " 'Abimelech']"
            ]
          },
          "metadata": {
            "tags": []
          },
          "execution_count": 15
        }
      ]
    },
    {
      "cell_type": "markdown",
      "metadata": {
        "id": "jfVJIBhz6oZM"
      },
      "source": [
        "Although it has 44,764 tokens, this book has only 2,789 distinct words, vocabulary, or \"word types.\" A word type is the form or spelling of the word independently of its specific occurrences in a text — that is, the word considered as a unique item of vocabulary. Our count of 2,789 items will include punctuation symbols, so we will generally call these unique items types instead of word types."
      ]
    },
    {
      "cell_type": "markdown",
      "metadata": {
        "id": "Yk9ucIuk7WLU"
      },
      "source": [
        "**lexical richness of the text:**<br>\n",
        "The lexical richness of the text computes the ratio of unique words to the number of distinct words in the text.\n",
        "Let's write a function to print the lexical richness for all texts here"
      ]
    },
    {
      "cell_type": "code",
      "metadata": {
        "id": "t0KeVXYMr6gg"
      },
      "source": [
        "# First get the titles\n",
        "titles = ['text1: Moby Dick by Herman Melville 1851', \\\n",
        "          'text2: Sense and Sensibility by Jane Austen 1811', \\\n",
        "          'text3: The Book of Genesis', \\\n",
        "          'text4: Inaugural Address Corpus', \\\n",
        "          'text5: Chat Corpus', \\\n",
        "          'text6: Monty Python and the Holy Grail', \\\n",
        "          'text7: Wall Street Journal', \\\n",
        "          'text8: Personals Corpus', \\\n",
        "          'text9: The Man Who Was Thursday by G . K . Chesterton 1908']\n",
        "texts = [text1, text2, text3, text4, text5, text6, text7, text8, text9]"
      ],
      "execution_count": 16,
      "outputs": []
    },
    {
      "cell_type": "code",
      "metadata": {
        "id": "D-hwLTHEuloh"
      },
      "source": [
        "def lexical_richness(texts=texts, titles=titles):\n",
        "    dictt = {}\n",
        "    for text, title in zip(texts, titles):\n",
        "        key = title[:5]\n",
        "        unique_tokens = get_unique_tokens(text)[0]\n",
        "        total_tokens = len(text)\n",
        "        richness = round((unique_tokens / total_tokens)*100, 2)\n",
        "        dictt[key] = richness\n",
        "\n",
        "    return dictt"
      ],
      "execution_count": 17,
      "outputs": []
    },
    {
      "cell_type": "code",
      "metadata": {
        "id": "ehZYmj8TyAEZ",
        "outputId": "2f1a54fd-6a61-4714-8b38-0538c9c95cf7",
        "colab": {
          "base_uri": "https://localhost:8080/",
          "height": 34
        }
      },
      "source": [
        "lex_richness = lexical_richness()\n",
        "print(lex_richness)"
      ],
      "execution_count": 18,
      "outputs": [
        {
          "output_type": "stream",
          "text": [
            "{'text1': 7.41, 'text2': 4.83, 'text3': 6.23, 'text4': 6.62, 'text5': 13.48, 'text6': 12.77, 'text7': 12.32, 'text8': 22.77, 'text9': 9.83}\n"
          ],
          "name": "stdout"
        }
      ]
    },
    {
      "cell_type": "markdown",
      "metadata": {
        "id": "J_DkdlFs4KVR"
      },
      "source": [
        "Now to identify the text that has the highest lexical richness, simply use the max()."
      ]
    },
    {
      "cell_type": "code",
      "metadata": {
        "id": "MXHx9Xzh0t51",
        "outputId": "9e267db4-d86a-4546-e375-34a0787d3b8a",
        "colab": {
          "base_uri": "https://localhost:8080/",
          "height": 35
        }
      },
      "source": [
        "max(lex_richness, key=lex_richness.get)"
      ],
      "execution_count": 19,
      "outputs": [
        {
          "output_type": "execute_result",
          "data": {
            "application/vnd.google.colaboratory.intrinsic+json": {
              "type": "string"
            },
            "text/plain": [
              "'text8'"
            ]
          },
          "metadata": {
            "tags": []
          },
          "execution_count": 19
        }
      ]
    },
    {
      "cell_type": "markdown",
      "metadata": {
        "id": "6EM-9wIKsFsm"
      },
      "source": [
        "<h2>1. A Closer Look at Python: Texts as Lists of Words</h2>\n",
        "<h2>2. Python Variables and Strings,  "
      ]
    },
    {
      "cell_type": "code",
      "metadata": {
        "id": "51uwwqp1_6TU",
        "outputId": "f8c93ca1-00e7-46bd-8496-2941c80b3938",
        "colab": {
          "base_uri": "https://localhost:8080/",
          "height": 35
        }
      },
      "source": [
        "text4[5]"
      ],
      "execution_count": 25,
      "outputs": [
        {
          "output_type": "execute_result",
          "data": {
            "application/vnd.google.colaboratory.intrinsic+json": {
              "type": "string"
            },
            "text/plain": [
              "'Senate'"
            ]
          },
          "metadata": {
            "tags": []
          },
          "execution_count": 25
        }
      ]
    },
    {
      "cell_type": "code",
      "metadata": {
        "id": "-jT9tPqTrPlT",
        "outputId": "e1ba37ec-4a9a-4ed7-d5bb-bf1c3f410133",
        "colab": {
          "base_uri": "https://localhost:8080/",
          "height": 34
        }
      },
      "source": [
        "text4.index('Senate')"
      ],
      "execution_count": 26,
      "outputs": [
        {
          "output_type": "execute_result",
          "data": {
            "text/plain": [
              "5"
            ]
          },
          "metadata": {
            "tags": []
          },
          "execution_count": 26
        }
      ]
    },
    {
      "cell_type": "markdown",
      "metadata": {
        "id": "kdD-53W_rrIi"
      },
      "source": [
        "Notice that our indexes start from zero: sent element zero, written sent[0]. The reason is simple: the moment Python accesses the content of a list from the computer's memory, it is already at the first element; we have to tell it how many elements forward to go. Thus, zero steps forward leaves it at the first element."
      ]
    },
    {
      "cell_type": "markdown",
      "metadata": {
        "id": "OAma0tjPseet"
      },
      "source": [
        "We can also replace an entire slice with new material"
      ]
    },
    {
      "cell_type": "code",
      "metadata": {
        "id": "8kM0OSHNrzUv",
        "outputId": "3e1dc62f-9f79-4dd4-bfb2-4d5c7f89796e",
        "colab": {
          "base_uri": "https://localhost:8080/",
          "height": 34
        }
      },
      "source": [
        "list_x = ['one', 'two', 'three', 'four', 'five', 'six']\n",
        "\n",
        "# Now slice off a chunk of the list and assign smtn\n",
        "list_x[2:] = ['ten']  # putting in a list keeps the element together\n",
        "\n",
        "#show list\n",
        "list_x"
      ],
      "execution_count": 29,
      "outputs": [
        {
          "output_type": "execute_result",
          "data": {
            "text/plain": [
              "['one', 'two', 'ten']"
            ]
          },
          "metadata": {
            "tags": []
          },
          "execution_count": 29
        }
      ]
    },
    {
      "cell_type": "markdown",
      "metadata": {
        "id": "KjLWnzu8uzwo"
      },
      "source": [
        "<h2>3. Computing with Language: Simple Statistics</h2>\n",
        "\n",
        "Now, we pick up the question of what makes a text distinct, and use automatic methods to find characteristic words and expressions of a text"
      ]
    },
    {
      "cell_type": "code",
      "metadata": {
        "id": "qSn8h0qVvAaR",
        "outputId": "7c60e966-208e-4da2-eaa2-4da5e39e7c13",
        "colab": {
          "base_uri": "https://localhost:8080/",
          "height": 34
        }
      },
      "source": [
        "saying = ['After', 'all', 'is', 'said', 'and', 'done','more', 'is', 'said', 'than', 'done']\n",
        "# let' tokenize it\n",
        "tokens = get_unique_tokens(saying)[1]\n",
        "tokens[-2:]"
      ],
      "execution_count": 32,
      "outputs": [
        {
          "output_type": "execute_result",
          "data": {
            "text/plain": [
              "['said', 'than']"
            ]
          },
          "metadata": {
            "tags": []
          },
          "execution_count": 32
        }
      ]
    },
    {
      "cell_type": "markdown",
      "metadata": {
        "id": "INsv6g0yxXTX"
      },
      "source": [
        "<h3>3.1. Frequency Distributions</h3>\n",
        "\n",
        "How can we automatically identify the words of a text that are most informative about the topic and genre of the text?"
      ]
    },
    {
      "cell_type": "markdown",
      "metadata": {
        "id": "drKN2bkh5jdY"
      },
      "source": [
        "**Using The Counter Object**"
      ]
    },
    {
      "cell_type": "code",
      "metadata": {
        "id": "GF0VfWaky1O_"
      },
      "source": [
        "# first remove punctuation and stop-words\n",
        "text3_list3 = [i for i in text1 if i not in string.punctuation and i not in stopwords.words('english')]"
      ],
      "execution_count": 61,
      "outputs": []
    },
    {
      "cell_type": "code",
      "metadata": {
        "id": "BjHWsClF1zBL"
      },
      "source": [
        "# Then use a counter object to count unique words\n",
        "text_dict3 = Counter(text3_list3)"
      ],
      "execution_count": 62,
      "outputs": []
    },
    {
      "cell_type": "code",
      "metadata": {
        "id": "W4PnCPeG1CaX",
        "outputId": "f9158c48-86b4-4266-8606-3aabf8e2e682",
        "colab": {
          "base_uri": "https://localhost:8080/",
          "height": 34
        }
      },
      "source": [
        "# Count howmany unique words exist in text3 without punctuations and stop words.\n",
        "len(text_dict3)"
      ],
      "execution_count": 63,
      "outputs": [
        {
          "output_type": "execute_result",
          "data": {
            "text/plain": [
              "19154"
            ]
          },
          "metadata": {
            "tags": []
          },
          "execution_count": 63
        }
      ]
    },
    {
      "cell_type": "code",
      "metadata": {
        "id": "FGKIMW7b1Vsf",
        "outputId": "c8ff48ce-1055-4e3a-99f8-52f30c5f0e35",
        "colab": {
          "base_uri": "https://localhost:8080/",
          "height": 35
        }
      },
      "source": [
        "# find word with maximum frequency\n",
        "max(text_dict3, key=text_dict3.get)"
      ],
      "execution_count": 64,
      "outputs": [
        {
          "output_type": "execute_result",
          "data": {
            "application/vnd.google.colaboratory.intrinsic+json": {
              "type": "string"
            },
            "text/plain": [
              "'I'"
            ]
          },
          "metadata": {
            "tags": []
          },
          "execution_count": 64
        }
      ]
    },
    {
      "cell_type": "code",
      "metadata": {
        "id": "v-ZUp81b7_cL",
        "outputId": "613af487-676e-4f4c-9a1f-20a13a4528c8",
        "colab": {
          "base_uri": "https://localhost:8080/",
          "height": 34
        }
      },
      "source": [
        "text_dict3['I']"
      ],
      "execution_count": 68,
      "outputs": [
        {
          "output_type": "execute_result",
          "data": {
            "text/plain": [
              "2124"
            ]
          },
          "metadata": {
            "tags": []
          },
          "execution_count": 68
        }
      ]
    },
    {
      "cell_type": "markdown",
      "metadata": {
        "id": "KYwSBDLM5tlH"
      },
      "source": [
        "**Using NLTK freqdist**\n",
        "\n",
        "Since we often need frequency distributions in language processing, NLTK provides built-in support for them. Let's use a FreqDist to find the 50 most frequent words of `Moby Dick`:<br>\n",
        "Note: it's called frequency distribution cos it tells us the frequency of each vocabulary item in the text."
      ]
    },
    {
      "cell_type": "code",
      "metadata": {
        "id": "mU-HLMI65zBn",
        "outputId": "269175c9-ad77-4cf1-e5bd-0648fd04baff",
        "colab": {
          "base_uri": "https://localhost:8080/",
          "height": 34
        }
      },
      "source": [
        "fdist1 = FreqDist(text1)\n",
        "print(fdist1)"
      ],
      "execution_count": 65,
      "outputs": [
        {
          "output_type": "stream",
          "text": [
            "<FreqDist with 19317 samples and 260819 outcomes>\n"
          ],
          "name": "stdout"
        }
      ]
    },
    {
      "cell_type": "code",
      "metadata": {
        "id": "a90443LO6ftq",
        "outputId": "5aad0949-10cb-48ad-845b-d91ead7672b1",
        "colab": {
          "base_uri": "https://localhost:8080/",
          "height": 867
        }
      },
      "source": [
        "# Let's print the 50 most common words of text1\n",
        "fdist1.most_common(50)"
      ],
      "execution_count": 69,
      "outputs": [
        {
          "output_type": "execute_result",
          "data": {
            "text/plain": [
              "[(',', 18713),\n",
              " ('the', 13721),\n",
              " ('.', 6862),\n",
              " ('of', 6536),\n",
              " ('and', 6024),\n",
              " ('a', 4569),\n",
              " ('to', 4542),\n",
              " (';', 4072),\n",
              " ('in', 3916),\n",
              " ('that', 2982),\n",
              " (\"'\", 2684),\n",
              " ('-', 2552),\n",
              " ('his', 2459),\n",
              " ('it', 2209),\n",
              " ('I', 2124),\n",
              " ('s', 1739),\n",
              " ('is', 1695),\n",
              " ('he', 1661),\n",
              " ('with', 1659),\n",
              " ('was', 1632),\n",
              " ('as', 1620),\n",
              " ('\"', 1478),\n",
              " ('all', 1462),\n",
              " ('for', 1414),\n",
              " ('this', 1280),\n",
              " ('!', 1269),\n",
              " ('at', 1231),\n",
              " ('by', 1137),\n",
              " ('but', 1113),\n",
              " ('not', 1103),\n",
              " ('--', 1070),\n",
              " ('him', 1058),\n",
              " ('from', 1052),\n",
              " ('be', 1030),\n",
              " ('on', 1005),\n",
              " ('so', 918),\n",
              " ('whale', 906),\n",
              " ('one', 889),\n",
              " ('you', 841),\n",
              " ('had', 767),\n",
              " ('have', 760),\n",
              " ('there', 715),\n",
              " ('But', 705),\n",
              " ('or', 697),\n",
              " ('were', 680),\n",
              " ('now', 646),\n",
              " ('which', 640),\n",
              " ('?', 637),\n",
              " ('me', 627),\n",
              " ('like', 624)]"
            ]
          },
          "metadata": {
            "tags": []
          },
          "execution_count": 69
        }
      ]
    },
    {
      "cell_type": "markdown",
      "metadata": {
        "id": "cdb3wWRp9PtL"
      },
      "source": [
        "Only one word, whale, is slightly informative! It occurs over 906 times. The rest of the words tell us nothing about the text; they're just English `\"plumbing.\"` What proportion of the text is taken up with such words? We can generate a cumulative frequency plot for these words"
      ]
    },
    {
      "cell_type": "markdown",
      "metadata": {
        "id": "DPm6og2P8elR"
      },
      "source": [
        "When we first invoke FreqDist, we pass the name of the text as an argument. We can inspect the total number of words (**\"outcomes\"**) that have been counted up— 260,819 in the case of Moby Dick."
      ]
    },
    {
      "cell_type": "code",
      "metadata": {
        "id": "3S39xpw99xJA",
        "outputId": "0e6b90ec-ac28-4f1f-e907-9f7361309f11",
        "colab": {
          "base_uri": "https://localhost:8080/",
          "height": 424
        }
      },
      "source": [
        "plt.figure(figsize=(8,6))\n",
        "plt.title('CFP for top 50 words in Moby-Dict')\n",
        "fdist1.plot(50, cumulative=True)"
      ],
      "execution_count": 76,
      "outputs": [
        {
          "output_type": "display_data",
          "data": {
            "image/png": "[encoded data removed]",
            "text/plain": [
              "<Figure size 576x432 with 1 Axes>"
            ]
          },
          "metadata": {
            "tags": []
          }
        }
      ]
    },
    {
      "cell_type": "markdown",
      "metadata": {
        "id": "28WxJ8w5-6UF"
      },
      "source": [
        "Wow! These 50 words account for nearly half the book!"
      ]
    },
    {
      "cell_type": "markdown",
      "metadata": {
        "id": "LXP_gmMm_m0L"
      },
      "source": [
        "If the frequent words don't help us, how about the words that occur once only, the so-called **`hapaxes`**?"
      ]
    },
    {
      "cell_type": "code",
      "metadata": {
        "id": "ohpPQYJB_0GC",
        "outputId": "4c27939d-0656-4006-dbcc-869e2f499123",
        "colab": {
          "base_uri": "https://localhost:8080/",
          "height": 1000
        }
      },
      "source": [
        "fdist1.hapaxes()"
      ],
      "execution_count": 77,
      "outputs": [
        {
          "output_type": "execute_result",
          "data": {
            "text/plain": [
              "['Herman',\n",
              " 'Melville',\n",
              " ']',\n",
              " 'ETYMOLOGY',\n",
              " 'Late',\n",
              " 'Consumptive',\n",
              " 'School',\n",
              " 'threadbare',\n",
              " 'lexicons',\n",
              " 'mockingly',\n",
              " 'flags',\n",
              " 'mortality',\n",
              " 'signification',\n",
              " 'HACKLUYT',\n",
              " 'Sw',\n",
              " 'HVAL',\n",
              " 'roundness',\n",
              " 'Dut',\n",
              " 'Ger',\n",
              " 'WALLEN',\n",
              " 'WALW',\n",
              " 'IAN',\n",
              " 'RICHARDSON',\n",
              " 'KETOS',\n",
              " 'GREEK',\n",
              " 'CETUS',\n",
              " 'LATIN',\n",
              " 'WHOEL',\n",
              " 'ANGLO',\n",
              " 'SAXON',\n",
              " 'WAL',\n",
              " 'HWAL',\n",
              " 'SWEDISH',\n",
              " 'ICELANDIC',\n",
              " 'BALEINE',\n",
              " 'BALLENA',\n",
              " 'FEGEE',\n",
              " 'ERROMANGOAN',\n",
              " 'Librarian',\n",
              " 'painstaking',\n",
              " 'burrower',\n",
              " 'grub',\n",
              " 'Vaticans',\n",
              " 'stalls',\n",
              " 'higgledy',\n",
              " 'piggledy',\n",
              " 'gospel',\n",
              " 'promiscuously',\n",
              " 'commentator',\n",
              " 'belongest',\n",
              " 'sallow',\n",
              " 'Pale',\n",
              " 'Sherry',\n",
              " 'loves',\n",
              " 'bluntly',\n",
              " 'Subs',\n",
              " 'thankless',\n",
              " 'Hampton',\n",
              " 'Court',\n",
              " 'hie',\n",
              " 'refugees',\n",
              " 'pampered',\n",
              " 'Michael',\n",
              " 'Raphael',\n",
              " 'unsplinterable',\n",
              " 'GENESIS',\n",
              " 'JOB',\n",
              " 'JONAH',\n",
              " 'punish',\n",
              " 'ISAIAH',\n",
              " 'soever',\n",
              " 'cometh',\n",
              " 'incontinently',\n",
              " 'perisheth',\n",
              " 'PLUTARCH',\n",
              " 'MORALS',\n",
              " 'breedeth',\n",
              " 'Whirlpooles',\n",
              " 'Balaene',\n",
              " 'arpens',\n",
              " 'PLINY',\n",
              " 'Scarcely',\n",
              " 'TOOKE',\n",
              " 'LUCIAN',\n",
              " 'TRUE',\n",
              " 'catched',\n",
              " 'OCTHER',\n",
              " 'VERBAL',\n",
              " 'TAKEN',\n",
              " 'MOUTH',\n",
              " 'ALFRED',\n",
              " '890',\n",
              " 'gudgeon',\n",
              " 'retires',\n",
              " 'MONTAIGNE',\n",
              " 'APOLOGY',\n",
              " 'RAIMOND',\n",
              " 'SEBOND',\n",
              " 'Nick',\n",
              " 'RABELAIS',\n",
              " 'cartloads',\n",
              " 'STOWE',\n",
              " 'ANNALS',\n",
              " 'LORD',\n",
              " 'BACON',\n",
              " 'Touching',\n",
              " 'ork',\n",
              " 'DEATH',\n",
              " 'sovereignest',\n",
              " 'bruise',\n",
              " 'HAMLET',\n",
              " 'leach',\n",
              " 'Mote',\n",
              " 'availle',\n",
              " 'returne',\n",
              " 'againe',\n",
              " 'worker',\n",
              " 'Dinting',\n",
              " 'paine',\n",
              " 'thro',\n",
              " 'maine',\n",
              " 'FAERIE',\n",
              " 'Immense',\n",
              " 'til',\n",
              " 'DAVENANT',\n",
              " 'PREFACE',\n",
              " 'GONDIBERT',\n",
              " 'spermacetti',\n",
              " 'Hosmannus',\n",
              " 'Nescio',\n",
              " 'VIDE',\n",
              " 'Spencer',\n",
              " 'Talus',\n",
              " 'flail',\n",
              " 'threatens',\n",
              " 'jav',\n",
              " 'lins',\n",
              " 'WALLER',\n",
              " 'SUMMER',\n",
              " 'ISLANDS',\n",
              " 'Commonwealth',\n",
              " 'Civitas',\n",
              " 'OPENING',\n",
              " 'SENTENCE',\n",
              " 'HOBBES',\n",
              " 'LEVIATHAN',\n",
              " 'Silly',\n",
              " 'Mansoul',\n",
              " 'chewing',\n",
              " 'sprat',\n",
              " 'PILGRIM',\n",
              " 'PROGRESS',\n",
              " 'Created',\n",
              " 'PARADISE',\n",
              " 'LOST',\n",
              " '---\"',\n",
              " 'Hugest',\n",
              " 'Stretched',\n",
              " 'Draws',\n",
              " 'FULLLER',\n",
              " 'PROFANE',\n",
              " 'HOLY',\n",
              " 'STATE',\n",
              " 'DRYDEN',\n",
              " 'ANNUS',\n",
              " 'MIRABILIS',\n",
              " 'aground',\n",
              " 'EDGE',\n",
              " 'TEN',\n",
              " 'SPITZBERGEN',\n",
              " 'PURCHAS',\n",
              " 'wantonness',\n",
              " 'fuzzing',\n",
              " 'vents',\n",
              " 'HERBERT',\n",
              " 'INTO',\n",
              " 'ASIA',\n",
              " 'AFRICA',\n",
              " 'SCHOUTEN',\n",
              " 'SIXTH',\n",
              " 'CIRCUMNAVIGATION',\n",
              " 'Elbe',\n",
              " 'ducat',\n",
              " 'herrings',\n",
              " 'GREENLAND',\n",
              " 'Several',\n",
              " 'Fife',\n",
              " 'Anno',\n",
              " '1652',\n",
              " 'Pitferren',\n",
              " 'SIBBALD',\n",
              " 'FIFE',\n",
              " 'KINROSS',\n",
              " 'Myself',\n",
              " 'Sperma',\n",
              " 'ceti',\n",
              " 'fierceness',\n",
              " 'RICHARD',\n",
              " 'STRAFFORD',\n",
              " 'LETTER',\n",
              " 'BERMUDAS',\n",
              " 'PHIL',\n",
              " 'TRANS',\n",
              " '1668',\n",
              " 'PRIMER',\n",
              " 'COWLEY',\n",
              " '1729',\n",
              " '\"...',\n",
              " 'frequendy',\n",
              " 'insupportable',\n",
              " 'disorder',\n",
              " 'ULLOA',\n",
              " 'SOUTH',\n",
              " 'AMERICA',\n",
              " 'sylphs',\n",
              " 'petticoat',\n",
              " 'Oft',\n",
              " 'Tho',\n",
              " 'RAPE',\n",
              " 'LOCK',\n",
              " 'NAT',\n",
              " 'wales',\n",
              " 'JOHNSON',\n",
              " 'COOK',\n",
              " 'dung',\n",
              " 'lime',\n",
              " 'juniper',\n",
              " 'UNO',\n",
              " 'VON',\n",
              " 'TROIL',\n",
              " 'LETTERS',\n",
              " 'BANKS',\n",
              " 'SOLANDER',\n",
              " '1772',\n",
              " 'Nantuckois',\n",
              " 'JEFFERSON',\n",
              " 'MEMORIAL',\n",
              " 'MINISTER',\n",
              " 'REFERENCE',\n",
              " 'PARLIAMENT',\n",
              " 'SOMEWHERE',\n",
              " 'guarding',\n",
              " 'protecting',\n",
              " 'robbers',\n",
              " 'BLACKSTONE',\n",
              " 'Rodmond',\n",
              " 'suspends',\n",
              " 'attends',\n",
              " 'FALCONER',\n",
              " 'Bright',\n",
              " 'roofs',\n",
              " 'domes',\n",
              " 'rockets',\n",
              " 'Around',\n",
              " 'unwieldy',\n",
              " 'COWPER',\n",
              " 'VISIT',\n",
              " 'LONDON',\n",
              " 'HUNTER',\n",
              " 'DISSECTION',\n",
              " 'SMALL',\n",
              " 'SIZED',\n",
              " 'aorta',\n",
              " 'gushing',\n",
              " 'PALEY',\n",
              " 'THEOLOGY',\n",
              " 'mammiferous',\n",
              " 'hind',\n",
              " 'BARON',\n",
              " 'CUVIER',\n",
              " 'COLNETT',\n",
              " 'PURPOSE',\n",
              " 'EXTENDING',\n",
              " 'SPERMACETI',\n",
              " 'Floundered',\n",
              " 'chace',\n",
              " 'peopling',\n",
              " 'Gather',\n",
              " 'Led',\n",
              " 'instincts',\n",
              " 'trackless',\n",
              " 'Assaulted',\n",
              " 'voracious',\n",
              " 'spiral',\n",
              " 'MONTGOMERY',\n",
              " 'WORLD',\n",
              " 'FLOOD',\n",
              " 'Paean',\n",
              " 'fatter',\n",
              " 'Flounders',\n",
              " 'CHARLES',\n",
              " 'LAMB',\n",
              " 'TRIUMPH',\n",
              " '1690',\n",
              " 'OBED',\n",
              " 'Susan',\n",
              " 'HAWTHORNE',\n",
              " 'TWICE',\n",
              " 'bespeak',\n",
              " 'raal',\n",
              " 'COOPER',\n",
              " 'PILOT',\n",
              " 'Berlin',\n",
              " 'Gazette',\n",
              " 'ECKERMANN',\n",
              " 'CONVERSATIONS',\n",
              " 'GOETHE',\n",
              " 'ESSEX',\n",
              " 'WAS',\n",
              " 'ATTACKED',\n",
              " 'FINALLY',\n",
              " 'DESTROYED',\n",
              " 'OWEN',\n",
              " 'CHACE',\n",
              " 'FIRST',\n",
              " 'SAID',\n",
              " 'VESSEL',\n",
              " 'YORK',\n",
              " '1821',\n",
              " 'piping',\n",
              " 'dimmed',\n",
              " 'phospher',\n",
              " 'ELIZABETH',\n",
              " 'OAKES',\n",
              " 'SMITH',\n",
              " 'amounted',\n",
              " '440',\n",
              " 'SCORESBY',\n",
              " 'Mad',\n",
              " 'agonies',\n",
              " 'endures',\n",
              " 'infuriated',\n",
              " 'rears',\n",
              " 'snaps',\n",
              " 'propelled',\n",
              " 'observers',\n",
              " 'opportunities',\n",
              " 'habitudes',\n",
              " 'BEALE',\n",
              " 'offensively',\n",
              " 'artful',\n",
              " 'mischievous',\n",
              " 'FREDERICK',\n",
              " 'DEBELL',\n",
              " '1840',\n",
              " 'October',\n",
              " 'Raise',\n",
              " 'ay',\n",
              " 'THAR',\n",
              " 'bowes',\n",
              " 'os',\n",
              " 'ROSS',\n",
              " 'ETCHINGS',\n",
              " 'CRUIZE',\n",
              " '1846',\n",
              " 'Globe',\n",
              " 'transactions',\n",
              " 'relate',\n",
              " 'HUSSEY',\n",
              " 'SURVIVORS',\n",
              " 'parried',\n",
              " 'MISSIONARY',\n",
              " 'JOURNAL',\n",
              " 'TYERMAN',\n",
              " 'boldest',\n",
              " 'persevering',\n",
              " 'REPORT',\n",
              " 'DANIEL',\n",
              " 'SPEECH',\n",
              " 'SENATE',\n",
              " 'APPLICATION',\n",
              " 'ERECTION',\n",
              " 'BREAKWATER',\n",
              " 'CAPTORS',\n",
              " 'WHALEMAN',\n",
              " 'ADVENTURES',\n",
              " 'BIOGRAPHY',\n",
              " 'GATHERED',\n",
              " 'HOMEWARD',\n",
              " 'COMMODORE',\n",
              " 'PREBLE',\n",
              " 'REV',\n",
              " 'CHEEVER',\n",
              " 'MUTINEER',\n",
              " 'BROTHER',\n",
              " 'ANOTHER',\n",
              " 'MCCULLOCH',\n",
              " 'COMMERCIAL',\n",
              " 'reciprocal',\n",
              " 'clews',\n",
              " 'SOMETHING',\n",
              " 'UNPUBLISHED',\n",
              " 'CURRENTS',\n",
              " 'Pedestrians',\n",
              " 'recollect',\n",
              " 'gateways',\n",
              " 'VOYAGER',\n",
              " 'ARCTIC',\n",
              " 'NEWSPAPER',\n",
              " 'TAKING',\n",
              " 'RETAKING',\n",
              " 'HOBOMACK',\n",
              " 'MIRIAM',\n",
              " 'FISHERMAN',\n",
              " 'appliance',\n",
              " 'RIBS',\n",
              " 'TRUCKS',\n",
              " 'Terra',\n",
              " 'Del',\n",
              " 'Fuego',\n",
              " 'DARWIN',\n",
              " 'NATURALIST',\n",
              " \";--'\",\n",
              " '!\\'\"',\n",
              " 'WHARTON',\n",
              " 'Loomings',\n",
              " 'spleen',\n",
              " 'regulating',\n",
              " 'circulation',\n",
              " 'Whenever',\n",
              " 'drizzly',\n",
              " 'hypos',\n",
              " 'philosophical',\n",
              " 'Cato',\n",
              " 'Manhattoes',\n",
              " 'reefs',\n",
              " 'downtown',\n",
              " 'gazers',\n",
              " 'Circumambulate',\n",
              " 'Corlears',\n",
              " 'Coenties',\n",
              " 'Slip',\n",
              " 'Whitehall',\n",
              " 'Posted',\n",
              " 'sentinels',\n",
              " 'spiles',\n",
              " 'pier',\n",
              " 'lath',\n",
              " 'counters',\n",
              " 'desks',\n",
              " 'loitering',\n",
              " 'shady',\n",
              " 'Inlanders',\n",
              " 'lanes',\n",
              " 'alleys',\n",
              " 'attract',\n",
              " 'dale',\n",
              " 'dreamiest',\n",
              " 'shadiest',\n",
              " 'quietest',\n",
              " 'enchanting',\n",
              " 'Saco',\n",
              " 'crucifix',\n",
              " 'Deep',\n",
              " 'mazy',\n",
              " 'Tiger',\n",
              " 'Tennessee',\n",
              " 'Rockaway',\n",
              " 'Persians',\n",
              " 'deity',\n",
              " 'Narcissus',\n",
              " 'ungraspable',\n",
              " 'hazy',\n",
              " 'quarrelsome',\n",
              " 'offices',\n",
              " 'abominate',\n",
              " 'toils',\n",
              " 'trials',\n",
              " 'barques',\n",
              " 'schooners',\n",
              " 'broiling',\n",
              " 'buttered',\n",
              " 'judgmatically',\n",
              " 'peppered',\n",
              " 'reverentially',\n",
              " 'idolatrous',\n",
              " 'dotings',\n",
              " 'ibis',\n",
              " 'roasted',\n",
              " 'bake',\n",
              " 'plumb',\n",
              " 'Van',\n",
              " 'Rensselaers',\n",
              " 'Randolphs',\n",
              " 'Hardicanutes',\n",
              " 'lording',\n",
              " 'tallest',\n",
              " 'decoction',\n",
              " 'Seneca',\n",
              " 'Stoics',\n",
              " 'Testament',\n",
              " 'promptly',\n",
              " 'rub',\n",
              " 'infliction',\n",
              " 'BEING',\n",
              " 'PAID',\n",
              " 'urbane',\n",
              " 'ills',\n",
              " 'monied',\n",
              " 'consign',\n",
              " 'prevalent',\n",
              " 'violate',\n",
              " 'Pythagorean',\n",
              " 'commonalty',\n",
              " 'police',\n",
              " 'surveillance',\n",
              " 'programme',\n",
              " 'solo',\n",
              " 'CONTESTED',\n",
              " 'ELECTION',\n",
              " 'PRESIDENCY',\n",
              " 'UNITED',\n",
              " 'STATES',\n",
              " 'ISHMAEL',\n",
              " 'BLOODY',\n",
              " 'AFFGHANISTAN',\n",
              " 'managers',\n",
              " 'genteel',\n",
              " 'comedies',\n",
              " 'farces',\n",
              " 'cunningly',\n",
              " 'disguises',\n",
              " 'cajoling',\n",
              " 'unbiased',\n",
              " 'freewill',\n",
              " 'discriminating',\n",
              " 'overwhelming',\n",
              " 'undeliverable',\n",
              " 'itch',\n",
              " 'forbidden',\n",
              " 'ignoring',\n",
              " 'lodges',\n",
              " 'Carpet',\n",
              " 'Bag',\n",
              " 'Manhatto',\n",
              " 'candidates',\n",
              " 'penalties',\n",
              " 'Tyre',\n",
              " 'Carthage',\n",
              " 'imported',\n",
              " 'cobblestones',\n",
              " 'bitingly',\n",
              " 'shouldering',\n",
              " 'price',\n",
              " 'fervent',\n",
              " 'asphaltic',\n",
              " 'pavement',\n",
              " 'flinty',\n",
              " 'projections',\n",
              " 'soles',\n",
              " 'Too',\n",
              " 'cheapest',\n",
              " 'cheeriest',\n",
              " 'invitingly',\n",
              " 'particles',\n",
              " 'peer',\n",
              " 'Angel',\n",
              " 'Doom',\n",
              " 'wailing',\n",
              " 'gnashing',\n",
              " 'Wretched',\n",
              " 'entertainment',\n",
              " 'Moving',\n",
              " 'emigrant',\n",
              " 'poverty',\n",
              " 'creak',\n",
              " 'lodgings',\n",
              " 'zephyr',\n",
              " 'hob',\n",
              " 'toasting',\n",
              " 'observest',\n",
              " 'sashless',\n",
              " 'glazier',\n",
              " 'reasonest',\n",
              " 'chinks',\n",
              " 'crannies',\n",
              " 'lint',\n",
              " 'chattering',\n",
              " 'shiverings',\n",
              " 'cob',\n",
              " 'redder',\n",
              " 'Orion',\n",
              " 'glitters',\n",
              " 'conservatories',\n",
              " 'president',\n",
              " 'temperance',\n",
              " 'blubbering',\n",
              " 'straggling',\n",
              " 'wainscots',\n",
              " 'reminding',\n",
              " 'oilpainting',\n",
              " 'besmoked',\n",
              " 'defaced',\n",
              " 'unequal',\n",
              " 'crosslights',\n",
              " 'hags',\n",
              " 'delineate',\n",
              " 'bewitched',\n",
              " 'ponderings',\n",
              " 'boggy',\n",
              " 'soggy',\n",
              " 'squitchy',\n",
              " 'froze',\n",
              " 'heath',\n",
              " 'icebound',\n",
              " 'represents',\n",
              " 'Horner',\n",
              " 'foundered',\n",
              " 'clubs',\n",
              " 'harvesting',\n",
              " 'hacking',\n",
              " 'horrifying',\n",
              " 'Mixed',\n",
              " 'Nathan',\n",
              " 'Swain',\n",
              " 'corkscrew',\n",
              " 'Blanco',\n",
              " 'sojourning',\n",
              " 'fireplaces',\n",
              " 'duskier',\n",
              " 'cockpits',\n",
              " 'rarities',\n",
              " 'Projecting',\n",
              " 'Within',\n",
              " 'shelves',\n",
              " 'flasks',\n",
              " 'bustles',\n",
              " 'deliriums',\n",
              " 'Abominable',\n",
              " 'tumblers',\n",
              " 'cylinders',\n",
              " 'goggling',\n",
              " 'deceitfully',\n",
              " 'tapered',\n",
              " 'Parallel',\n",
              " 'pecked',\n",
              " 'footpads',\n",
              " 'Fill',\n",
              " 'shilling',\n",
              " 'examining',\n",
              " 'SKRIMSHANDER',\n",
              " 'accommodated',\n",
              " 'unoccupied',\n",
              " 'haint',\n",
              " 'pose',\n",
              " 'whalin',\n",
              " 'decidedly',\n",
              " 'objectionable',\n",
              " 'wander',\n",
              " 'Battery',\n",
              " 'ruminating',\n",
              " 'adorning',\n",
              " 'potatoes',\n",
              " 'sartainty',\n",
              " 'diabolically',\n",
              " 'steaks',\n",
              " 'undress',\n",
              " 'looker',\n",
              " 'rioting',\n",
              " 'Grampus',\n",
              " 'seed',\n",
              " 'Feegees',\n",
              " 'tramping',\n",
              " 'Enveloped',\n",
              " 'bedarned',\n",
              " 'eruption',\n",
              " 'officiating',\n",
              " 'brimmers',\n",
              " 'complained',\n",
              " 'potion',\n",
              " 'colds',\n",
              " 'catarrhs',\n",
              " 'liquor',\n",
              " 'arrantest',\n",
              " 'topers',\n",
              " 'obstreperously',\n",
              " 'aloof',\n",
              " 'desirous',\n",
              " 'hilarity',\n",
              " 'coffer',\n",
              " 'Southerner',\n",
              " 'mountaineers',\n",
              " 'Alleghanian',\n",
              " 'missed',\n",
              " 'supernaturally',\n",
              " 'congratulate',\n",
              " 'multiply',\n",
              " 'bachelor',\n",
              " 'abominated',\n",
              " 'tidiest',\n",
              " 'bedwards',\n",
              " 'shan',\n",
              " 'tablecloth',\n",
              " 'Skrimshander',\n",
              " 'bump',\n",
              " 'spraining',\n",
              " 'eider',\n",
              " 'yoking',\n",
              " 'rickety',\n",
              " 'whirlwinds',\n",
              " 'knockings',\n",
              " 'dismissed',\n",
              " 'popped',\n",
              " 'cherishing',\n",
              " 'chuckled',\n",
              " 'chuckle',\n",
              " 'mightily',\n",
              " 'catches',\n",
              " 'bamboozingly',\n",
              " 'overstocked',\n",
              " 'toothpick',\n",
              " 'rayther',\n",
              " 'BROWN',\n",
              " 'slanderin',\n",
              " 'farrago',\n",
              " 'BROKE',\n",
              " 'Sartain',\n",
              " 'Mt',\n",
              " 'Hecla',\n",
              " 'persist',\n",
              " 'mystifying',\n",
              " 'unsay',\n",
              " 'criminal',\n",
              " 'Wall',\n",
              " 'purty',\n",
              " 'sarmon',\n",
              " 'rips',\n",
              " 'tellin',\n",
              " 'bought',\n",
              " 'balmed',\n",
              " 'curios',\n",
              " 'sellin',\n",
              " 'inions',\n",
              " 'fooling',\n",
              " 'idolators',\n",
              " 'Depend',\n",
              " 'reg',\n",
              " 'lar',\n",
              " 'spliced',\n",
              " 'Johnny',\n",
              " 'sprawling',\n",
              " 'Arter',\n",
              " 'glim',\n",
              " 'jiffy',\n",
              " 'irresolute',\n",
              " 'vum',\n",
              " 'WON',\n",
              " 'Folding',\n",
              " 'scrutiny',\n",
              " 'porcupine',\n",
              " 'moccasin',\n",
              " 'ponchos',\n",
              " 'parade',\n",
              " 'rainy',\n",
              " 'remembering',\n",
              " 'commended',\n",
              " 'cobs',\n",
              " 'Nod',\n",
              " 'footfall',\n",
              " 'unlacing',\n",
              " 'blackish',\n",
              " 'plasters',\n",
              " 'inkling',\n",
              " 'Placing',\n",
              " 'crammed',\n",
              " 'scalp',\n",
              " 'mildewed',\n",
              " 'Ignorance',\n",
              " 'parent',\n",
              " 'nonplussed',\n",
              " 'undressing',\n",
              " 'checkered',\n",
              " 'Thirty',\n",
              " 'frogs',\n",
              " 'quaked',\n",
              " 'wrapall',\n",
              " 'dreadnaught',\n",
              " 'fumbled',\n",
              " 'Remembering',\n",
              " 'manikin',\n",
              " 'tenpin',\n",
              " 'andirons',\n",
              " 'jambs',\n",
              " 'bricks',\n",
              " 'appropriate',\n",
              " 'applying',\n",
              " 'hastier',\n",
              " 'withdrawals',\n",
              " 'antics',\n",
              " 'devotee',\n",
              " 'extinguishing',\n",
              " 'unceremoniously',\n",
              " 'bagged',\n",
              " 'sportsman',\n",
              " 'woodcock',\n",
              " 'uncomfortableness',\n",
              " 'deliberating',\n",
              " 'puffed',\n",
              " 'sang',\n",
              " 'Stammering',\n",
              " 'conjured',\n",
              " 'responses',\n",
              " 'debel',\n",
              " 'flourishing',\n",
              " 'Angels',\n",
              " 'flourishings',\n",
              " 'peddlin',\n",
              " 'sleepe',\n",
              " 'grunted',\n",
              " 'gettee',\n",
              " 'motioning',\n",
              " 'comely',\n",
              " 'insured',\n",
              " 'Counterpane',\n",
              " 'parti',\n",
              " 'triangles',\n",
              " 'interminable',\n",
              " 'caper',\n",
              " 'supperless',\n",
              " '21st',\n",
              " 'hemisphere',\n",
              " 'sigh',\n",
              " 'Sixteen',\n",
              " 'ached',\n",
              " 'coaches',\n",
              " 'stockinged',\n",
              " 'slippering',\n",
              " 'misbehaviour',\n",
              " 'unendurable',\n",
              " 'stepmothers',\n",
              " 'misfortunes',\n",
              " 'steeped',\n",
              " 'shudderingly',\n",
              " 'confounding',\n",
              " 'soberly',\n",
              " 'recurred',\n",
              " 'predicament',\n",
              " 'unlock',\n",
              " 'bridegroom',\n",
              " 'clasp',\n",
              " 'hugged',\n",
              " 'rouse',\n",
              " 'snore',\n",
              " 'scratch',\n",
              " 'Throwing',\n",
              " 'expostulations',\n",
              " 'unbecomingness',\n",
              " 'matrimonial',\n",
              " 'dawning',\n",
              " 'overture',\n",
              " 'innate',\n",
              " 'compliment',\n",
              " 'civility',\n",
              " 'rudeness',\n",
              " 'toilette',\n",
              " 'dressing',\n",
              " 'donning',\n",
              " 'gaspings',\n",
              " 'booting',\n",
              " 'caterpillar',\n",
              " 'outlandishness',\n",
              " 'manners',\n",
              " 'education',\n",
              " 'undergraduate',\n",
              " 'dreamt',\n",
              " 'cowhide',\n",
              " 'pinched',\n",
              " 'curtains',\n",
              " 'indecorous',\n",
              " 'contented',\n",
              " 'restricting',\n",
              " 'donned',\n",
              " 'lathering',\n",
              " 'unsheathes',\n",
              " 'whets',\n",
              " 'Rogers',\n",
              " 'cutlery',\n",
              " 'Afterwards',\n",
              " 'baton',\n",
              " 'Breakfast',\n",
              " 'pleasantly',\n",
              " 'bountifully',\n",
              " 'laughable',\n",
              " 'bosky',\n",
              " 'unshorn',\n",
              " 'gowns',\n",
              " 'toasted',\n",
              " 'lingers',\n",
              " 'tarried',\n",
              " 'barred',\n",
              " 'Grub',\n",
              " 'Park',\n",
              " 'assurance',\n",
              " 'polish',\n",
              " 'occasioned',\n",
              " 'embarrassed',\n",
              " 'bashfulness',\n",
              " 'duelled',\n",
              " 'winking',\n",
              " 'tastes',\n",
              " 'sheepishly',\n",
              " 'bashful',\n",
              " 'icicle',\n",
              " 'admirer',\n",
              " 'cordially',\n",
              " 'grappling',\n",
              " 'genteelly',\n",
              " 'eschewed',\n",
              " 'undivided',\n",
              " '6',\n",
              " 'circulating',\n",
              " 'nondescripts',\n",
              " 'Chestnut',\n",
              " 'jostle',\n",
              " 'Regent',\n",
              " 'Lascars',\n",
              " 'Bombay',\n",
              " 'Apollo',\n",
              " 'Feegeeans',\n",
              " 'Tongatobooarrs',\n",
              " 'Erromanggoans',\n",
              " 'Pannangians',\n",
              " 'Brighggians',\n",
              " 'weekly',\n",
              " 'Vermonters',\n",
              " 'stalwart',\n",
              " 'frames',\n",
              " 'felled',\n",
              " 'strutting',\n",
              " 'wester',\n",
              " 'bombazine',\n",
              " 'cloak',\n",
              " 'mow',\n",
              " 'gloves',\n",
              " 'joins',\n",
              " 'outfit',\n",
              " 'waistcoats',\n",
              " 'Hay',\n",
              " 'Seed',\n",
              " 'tract',\n",
              " 'dearest',\n",
              " 'pave',\n",
              " 'eggs',\n",
              " 'patrician',\n",
              " 'parks',\n",
              " 'scraggy',\n",
              " 'scoria',\n",
              " 'Herr',\n",
              " 'dowers',\n",
              " 'nieces',\n",
              " 'reservoirs',\n",
              " 'maples',\n",
              " 'bountiful',\n",
              " 'proffer',\n",
              " 'passer',\n",
              " 'cones',\n",
              " 'blossoms',\n",
              " 'superinduced',\n",
              " 'carnation',\n",
              " 'Salem',\n",
              " 'sweethearts',\n",
              " 'Puritanic',\n",
              " 'Whaleman',\n",
              " 'Wrapping',\n",
              " 'Each',\n",
              " 'quote',\n",
              " 'TALBOT',\n",
              " 'Near',\n",
              " 'Desolation',\n",
              " '1st',\n",
              " 'SISTER',\n",
              " 'ROBERT',\n",
              " 'WILLIS',\n",
              " 'ELLERY',\n",
              " 'NATHAN',\n",
              " 'COLEMAN',\n",
              " 'WALTER',\n",
              " 'CANNY',\n",
              " 'SETH',\n",
              " 'GLEIG',\n",
              " 'Forming',\n",
              " 'ELIZA',\n",
              " '31st',\n",
              " 'MARBLE',\n",
              " 'SHIPMATES',\n",
              " 'EZEKIEL',\n",
              " 'HARDY',\n",
              " 'AUGUST',\n",
              " '3d',\n",
              " '1833',\n",
              " 'WIDOW',\n",
              " 'Shaking',\n",
              " 'glazed',\n",
              " 'Affected',\n",
              " 'relatives',\n",
              " 'unhealing',\n",
              " 'sympathetically',\n",
              " 'wounds',\n",
              " 'bleed',\n",
              " 'blanks',\n",
              " ...]"
            ]
          },
          "metadata": {
            "tags": []
          },
          "execution_count": 77
        }
      ]
    },
    {
      "cell_type": "markdown",
      "metadata": {
        "id": "W0rNkRVIAe5F"
      },
      "source": [
        "It seems that there are too many rare words, and without seeing the context we probably can't guess what half of the hapaxes mean in any case! Since neither frequent nor infrequent words help, we need to try something else."
      ]
    },
    {
      "cell_type": "markdown",
      "metadata": {
        "id": "lv9SEWXD6_of"
      },
      "source": [
        "We can see that fdist1 contains some stop-words as we did not exactly clean text1. let's try it on the cleaned text3"
      ]
    },
    {
      "cell_type": "code",
      "metadata": {
        "id": "Q3AjgAhI69gK",
        "outputId": "46edcab0-2616-44fd-dc69-c7802041e734",
        "colab": {
          "base_uri": "https://localhost:8080/",
          "height": 187
        }
      },
      "source": [
        "fdist3 = FreqDist(text3_list3)\n",
        "fdist3.most_common(10)"
      ],
      "execution_count": 67,
      "outputs": [
        {
          "output_type": "execute_result",
          "data": {
            "text/plain": [
              "[('I', 2124),\n",
              " ('--', 1070),\n",
              " ('whale', 906),\n",
              " ('one', 889),\n",
              " ('But', 705),\n",
              " ('like', 624),\n",
              " ('The', 612),\n",
              " ('upon', 538),\n",
              " ('man', 508),\n",
              " ('ship', 507)]"
            ]
          },
          "metadata": {
            "tags": []
          },
          "execution_count": 67
        }
      ]
    },
    {
      "cell_type": "markdown",
      "metadata": {
        "id": "i3WU5AiIA59O"
      },
      "source": [
        "**3.2 Fine-grained Selection of Words:**"
      ]
    },
    {
      "cell_type": "code",
      "metadata": {
        "id": "8V3_KQwb8nc1"
      },
      "source": [
        ""
      ],
      "execution_count": null,
      "outputs": []
    }
  ]
}