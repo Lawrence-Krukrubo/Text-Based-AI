{
  "nbformat": 4,
  "nbformat_minor": 0,
  "metadata": {
    "colab": {
      "name": "1_getting_started_nltk.ipynb",
      "provenance": [],
      "collapsed_sections": [],
      "mount_file_id": "1HTt1mxwu19-g5PmSJSJMIuvvTH3fjjYN",
      "authorship_tag": "ABX9TyPrsX2O1xmPRGf0A4dxVaUT",
      "include_colab_link": true
    },
    "kernelspec": {
      "name": "python3",
      "display_name": "Python 3"
    }
  },
  "cells": [
    {
      "cell_type": "markdown",
      "metadata": {
        "id": "view-in-github",
        "colab_type": "text"
      },
      "source": [
        "<a href=\"https://colab.research.google.com/github/Lawrence-Krukrubo/Text-Based-AI/blob/master/1_getting_started_nltk.ipynb\" target=\"_parent\"><img src=\"https://colab.research.google.com/assets/colab-badge.svg\" alt=\"Open In Colab\"/></a>"
      ]
    },
    {
      "cell_type": "code",
      "metadata": {
        "id": "AGGS_jsdfAKA",
        "outputId": "3ebcb124-f092-42c2-967c-a5437833c4ef",
        "colab": {
          "base_uri": "https://localhost:8080/"
        }
      },
      "source": [
        "% cd \"/content/drive/My Drive/Colab_Notebooks/data_tools/nltk\""
      ],
      "execution_count": 1,
      "outputs": [
        {
          "output_type": "stream",
          "text": [
            "/content/drive/My Drive/Colab_Notebooks/data_tools/nltk\n"
          ],
          "name": "stdout"
        }
      ]
    },
    {
      "cell_type": "markdown",
      "metadata": {
        "id": "cgR4Cc5bAZ2m"
      },
      "source": [
        "1. [**NLTK-Book**](http://www.nltk.org/book/)\n",
        "2. [more-on-Viterbi-algorithm](http://people.cs.georgetown.edu/nschneid/cosc572/f16/12_viterbi_slides.pdf)\n",
        "3. [pos-tagging-using-HMM](http://www.phontron.com/slides/nlp-programming-en-04-hmm.pdf)\n",
        "4. [pos-with-deep-learning](https://becominghuman.ai/part-of-speech-tagging-tutorial-with-the-keras-deep-learning-library-d7f93fa05537)"
      ]
    },
    {
      "cell_type": "markdown",
      "metadata": {
        "id": "o4jYmV0ovotS"
      },
      "source": [
        "**It is easy to get our hands on millions of words of text. What can we do with it, assuming we can write some simple programs? Here, we'll address the following questions:**\n",
        "\n",
        "1. What can we achieve by combining simple programming techniques with large quantities of text?\n",
        "2. How can we automatically extract key words and phrases that sum up the style and content of a text?\n",
        "3. What tools and techniques does the Python programming language provide for such work?\n",
        "4. What are some of the interesting challenges of natural language processing?"
      ]
    },
    {
      "cell_type": "markdown",
      "metadata": {
        "id": "ZPVAdpn_29Zb"
      },
      "source": [
        "<h2>1. Downloads and Imports</h2>"
      ]
    },
    {
      "cell_type": "code",
      "metadata": {
        "id": "uTc8CJm2cuOf",
        "outputId": "8a18e381-ebd6-4885-e77e-cdc6f51b4c15",
        "colab": {
          "base_uri": "https://localhost:8080/"
        }
      },
      "source": [
        "import nltk\n",
        "import seaborn as sns\n",
        "import matplotlib.pyplot as plt\n",
        "import pandas as pd\n",
        "from collections import Counter, defaultdict\n",
        "import string\n",
        "from nltk.corpus import stopwords\n",
        "\n",
        "print(f'nltk version: {nltk.__version__}')"
      ],
      "execution_count": 72,
      "outputs": [
        {
          "output_type": "stream",
          "text": [
            "nltk version: 3.2.5\n"
          ],
          "name": "stdout"
        }
      ]
    },
    {
      "cell_type": "code",
      "metadata": {
        "id": "sBoMiJVTE4El"
      },
      "source": [
        "punctuations = string.punctuation"
      ],
      "execution_count": 3,
      "outputs": []
    },
    {
      "cell_type": "code",
      "metadata": {
        "id": "qiOh8SbigjtV",
        "outputId": "f4563bb3-546d-47f2-f360-c6bc326d21c1",
        "colab": {
          "base_uri": "https://localhost:8080/"
        }
      },
      "source": [
        "nltk.download()\n",
        "from nltk.book import *"
      ],
      "execution_count": 4,
      "outputs": [
        {
          "output_type": "stream",
          "text": [
            "NLTK Downloader\n",
            "---------------------------------------------------------------------------\n",
            "    d) Download   l) List    u) Update   c) Config   h) Help   q) Quit\n",
            "---------------------------------------------------------------------------\n",
            "Downloader> d\n",
            "\n",
            "Download which package (l=list; x=cancel)?\n",
            "  Identifier> book\n",
            "    Downloading collection 'book'\n",
            "       | \n",
            "       | Downloading package abc to /root/nltk_data...\n",
            "       |   Unzipping corpora/abc.zip.\n",
            "       | Downloading package brown to /root/nltk_data...\n",
            "       |   Unzipping corpora/brown.zip.\n",
            "       | Downloading package chat80 to /root/nltk_data...\n",
            "       |   Unzipping corpora/chat80.zip.\n",
            "       | Downloading package cmudict to /root/nltk_data...\n",
            "       |   Unzipping corpora/cmudict.zip.\n",
            "       | Downloading package conll2000 to /root/nltk_data...\n",
            "       |   Unzipping corpora/conll2000.zip.\n",
            "       | Downloading package conll2002 to /root/nltk_data...\n",
            "       |   Unzipping corpora/conll2002.zip.\n",
            "       | Downloading package dependency_treebank to /root/nltk_data...\n",
            "       |   Unzipping corpora/dependency_treebank.zip.\n",
            "       | Downloading package genesis to /root/nltk_data...\n",
            "       |   Unzipping corpora/genesis.zip.\n",
            "       | Downloading package gutenberg to /root/nltk_data...\n",
            "       |   Unzipping corpora/gutenberg.zip.\n",
            "       | Downloading package ieer to /root/nltk_data...\n",
            "       |   Unzipping corpora/ieer.zip.\n",
            "       | Downloading package inaugural to /root/nltk_data...\n",
            "       |   Unzipping corpora/inaugural.zip.\n",
            "       | Downloading package movie_reviews to /root/nltk_data...\n",
            "       |   Unzipping corpora/movie_reviews.zip.\n",
            "       | Downloading package nps_chat to /root/nltk_data...\n",
            "       |   Unzipping corpora/nps_chat.zip.\n",
            "       | Downloading package names to /root/nltk_data...\n",
            "       |   Unzipping corpora/names.zip.\n",
            "       | Downloading package ppattach to /root/nltk_data...\n",
            "       |   Unzipping corpora/ppattach.zip.\n",
            "       | Downloading package reuters to /root/nltk_data...\n",
            "       | Downloading package senseval to /root/nltk_data...\n",
            "       |   Unzipping corpora/senseval.zip.\n",
            "       | Downloading package state_union to /root/nltk_data...\n",
            "       |   Unzipping corpora/state_union.zip.\n",
            "       | Downloading package stopwords to /root/nltk_data...\n",
            "       |   Unzipping corpora/stopwords.zip.\n",
            "       | Downloading package swadesh to /root/nltk_data...\n",
            "       |   Unzipping corpora/swadesh.zip.\n",
            "       | Downloading package timit to /root/nltk_data...\n",
            "       |   Unzipping corpora/timit.zip.\n",
            "       | Downloading package treebank to /root/nltk_data...\n",
            "       |   Unzipping corpora/treebank.zip.\n",
            "       | Downloading package toolbox to /root/nltk_data...\n",
            "       |   Unzipping corpora/toolbox.zip.\n",
            "       | Downloading package udhr to /root/nltk_data...\n",
            "       |   Unzipping corpora/udhr.zip.\n",
            "       | Downloading package udhr2 to /root/nltk_data...\n",
            "       |   Unzipping corpora/udhr2.zip.\n",
            "       | Downloading package unicode_samples to /root/nltk_data...\n",
            "       |   Unzipping corpora/unicode_samples.zip.\n",
            "       | Downloading package webtext to /root/nltk_data...\n",
            "       |   Unzipping corpora/webtext.zip.\n",
            "       | Downloading package wordnet to /root/nltk_data...\n",
            "       |   Unzipping corpora/wordnet.zip.\n",
            "       | Downloading package wordnet_ic to /root/nltk_data...\n",
            "       |   Unzipping corpora/wordnet_ic.zip.\n",
            "       | Downloading package words to /root/nltk_data...\n",
            "       |   Unzipping corpora/words.zip.\n",
            "       | Downloading package maxent_treebank_pos_tagger to\n",
            "       |     /root/nltk_data...\n",
            "       |   Unzipping taggers/maxent_treebank_pos_tagger.zip.\n",
            "       | Downloading package maxent_ne_chunker to /root/nltk_data...\n",
            "       |   Unzipping chunkers/maxent_ne_chunker.zip.\n",
            "       | Downloading package universal_tagset to /root/nltk_data...\n",
            "       |   Unzipping taggers/universal_tagset.zip.\n",
            "       | Downloading package punkt to /root/nltk_data...\n",
            "       |   Unzipping tokenizers/punkt.zip.\n",
            "       | Downloading package book_grammars to /root/nltk_data...\n",
            "       |   Unzipping grammars/book_grammars.zip.\n",
            "       | Downloading package city_database to /root/nltk_data...\n",
            "       |   Unzipping corpora/city_database.zip.\n",
            "       | Downloading package tagsets to /root/nltk_data...\n",
            "       |   Unzipping help/tagsets.zip.\n",
            "       | Downloading package panlex_swadesh to /root/nltk_data...\n",
            "       | Downloading package averaged_perceptron_tagger to\n",
            "       |     /root/nltk_data...\n",
            "       |   Unzipping taggers/averaged_perceptron_tagger.zip.\n",
            "       | \n",
            "     Done downloading collection book\n",
            "\n",
            "---------------------------------------------------------------------------\n",
            "    d) Download   l) List    u) Update   c) Config   h) Help   q) Quit\n",
            "---------------------------------------------------------------------------\n",
            "Downloader> q\n",
            "*** Introductory Examples for the NLTK Book ***\n",
            "Loading text1, ..., text9 and sent1, ..., sent9\n",
            "Type the name of the text or sentence to view it.\n",
            "Type: 'texts()' or 'sents()' to list the materials.\n",
            "text1: Moby Dick by Herman Melville 1851\n",
            "text2: Sense and Sensibility by Jane Austen 1811\n",
            "text3: The Book of Genesis\n",
            "text4: Inaugural Address Corpus\n",
            "text5: Chat Corpus\n",
            "text6: Monty Python and the Holy Grail\n",
            "text7: Wall Street Journal\n",
            "text8: Personals Corpus\n",
            "text9: The Man Who Was Thursday by G . K . Chesterton 1908\n"
          ],
          "name": "stdout"
        }
      ]
    },
    {
      "cell_type": "markdown",
      "metadata": {
        "id": "fy_gF2SYiIDS"
      },
      "source": [
        "<h2>2. Searching Text:</h2>\n",
        "\n",
        "There are many ways to examine the context of a text apart from simply reading it. A concordance view shows us every occurrence of a given word, together with some context. Here we look up the word monstrous in Moby Dick.\n",
        "\n"
      ]
    },
    {
      "cell_type": "code",
      "metadata": {
        "id": "Rhs-rqHv3xak",
        "outputId": "0b887ca3-a52d-4494-96d9-7ac4dbbf05bc",
        "colab": {
          "base_uri": "https://localhost:8080/"
        }
      },
      "source": [
        "text1"
      ],
      "execution_count": 5,
      "outputs": [
        {
          "output_type": "execute_result",
          "data": {
            "text/plain": [
              "<Text: Moby Dick by Herman Melville 1851>"
            ]
          },
          "metadata": {
            "tags": []
          },
          "execution_count": 5
        }
      ]
    },
    {
      "cell_type": "markdown",
      "metadata": {
        "id": "Mn7-dw1N6Zh8"
      },
      "source": [
        "To add your own text to nltk and use nltk functions on it..<br>\n",
        "You must create a Text instance from a sequence of strings. Use a Tokenizer from nltk.tokenize to tokenize your sentence:"
      ]
    },
    {
      "cell_type": "code",
      "metadata": {
        "id": "ImS5yREr38zA"
      },
      "source": [
        "sent = \"China is an emerging FinTech hotbed thanks to its expanding middle class, rapid digitization and electronic payments adoption. But a new report from Citi found that, while China may be the market to watch for FinTech investments, the U.S. continues to thrive at the top of the B2B FinTech mountain.According to Digital Disruption — Revisited: What FinTech VC Investments Tells Us About A Changing Industry, Citi expects an influx in venture capital across the FinTech startup scape. But not all markets are created equal. China saw more than half of the world’s FinTech investments in the first nine months of 2016, the bank noted.\""
      ],
      "execution_count": 6,
      "outputs": []
    },
    {
      "cell_type": "code",
      "metadata": {
        "id": "bSMHM8-W4O2y",
        "outputId": "4c998bdc-8e7f-4b45-f60b-fa792d68141e",
        "colab": {
          "base_uri": "https://localhost:8080/"
        }
      },
      "source": [
        "t = nltk.tokenize.WhitespaceTokenizer()  # or any other Tokenizer\n",
        "c = Text(t.tokenize(sent))\n",
        "c.concordance('FinTech')"
      ],
      "execution_count": 7,
      "outputs": [
        {
          "output_type": "stream",
          "text": [
            "Displaying 6 of 6 matches:\n",
            "                                    FinTech hotbed thanks to its expanding midd\n",
            "hina may be the market to watch for FinTech investments, the U.S. continues to \n",
            "ues to thrive at the top of the B2B FinTech mountain.According to Digital Disru\n",
            "igital Disruption — Revisited: What FinTech VC Investments Tells Us About A Cha\n",
            "nflux in venture capital across the FinTech startup scape. But not all markets \n",
            "a saw more than half of the world’s FinTech investments in the first nine month\n"
          ],
          "name": "stdout"
        }
      ]
    },
    {
      "cell_type": "code",
      "metadata": {
        "id": "1F1L1E6Qgjfi",
        "outputId": "cd4ff9df-2b99-4702-c4ab-03f8d3dd5e43",
        "colab": {
          "base_uri": "https://localhost:8080/"
        }
      },
      "source": [
        "text1.concordance('monstrous')"
      ],
      "execution_count": 8,
      "outputs": [
        {
          "output_type": "stream",
          "text": [
            "Displaying 11 of 11 matches:\n",
            "ong the former , one was of a most monstrous size . ... This came towards us , \n",
            "ON OF THE PSALMS . \" Touching that monstrous bulk of the whale or ork we have r\n",
            "ll over with a heathenish array of monstrous clubs and spears . Some were thick\n",
            "d as you gazed , and wondered what monstrous cannibal and savage could ever hav\n",
            "that has survived the flood ; most monstrous and most mountainous ! That Himmal\n",
            "they might scout at Moby Dick as a monstrous fable , or still worse and more de\n",
            "th of Radney .'\" CHAPTER 55 Of the Monstrous Pictures of Whales . I shall ere l\n",
            "ing Scenes . In connexion with the monstrous pictures of whales , I am strongly\n",
            "ere to enter upon those still more monstrous stories of them which are to be fo\n",
            "ght have been rummaged out of this monstrous cabinet there is no telling . But \n",
            "of Whale - Bones ; for Whales of a monstrous size are oftentimes cast up dead u\n"
          ],
          "name": "stdout"
        }
      ]
    },
    {
      "cell_type": "markdown",
      "metadata": {
        "id": "7G-BA8-0nwL-"
      },
      "source": [
        "What other words appear in a similar range of contexts as monstrous? We can find out by appending the term similar to the name of the text in question, then inserting the relevant word in parentheses:"
      ]
    },
    {
      "cell_type": "code",
      "metadata": {
        "id": "1P7nEYXKjc70",
        "outputId": "60da1e95-a8cb-4bfa-9cc0-4593960bcbed",
        "colab": {
          "base_uri": "https://localhost:8080/"
        }
      },
      "source": [
        "text1.similar('monstrous')"
      ],
      "execution_count": 9,
      "outputs": [
        {
          "output_type": "stream",
          "text": [
            "true contemptible christian abundant few part mean careful puzzled\n",
            "mystifying passing curious loving wise doleful gamesome singular\n",
            "delightfully perilous fearless\n"
          ],
          "name": "stdout"
        }
      ]
    },
    {
      "cell_type": "code",
      "metadata": {
        "id": "flBB9FCpogJj",
        "outputId": "e2d1f573-3e67-43a5-8e5d-4e721cfdde67",
        "colab": {
          "base_uri": "https://localhost:8080/"
        }
      },
      "source": [
        "text2.concordance('monstrous')"
      ],
      "execution_count": 10,
      "outputs": [
        {
          "output_type": "stream",
          "text": [
            "Displaying 11 of 11 matches:\n",
            ". \" Now , Palmer , you shall see a monstrous pretty girl .\" He immediately went\n",
            "your sister is to marry him . I am monstrous glad of it , for then I shall have\n",
            "ou may tell your sister . She is a monstrous lucky girl to get him , upon my ho\n",
            "k how you will like them . Lucy is monstrous pretty , and so good humoured and \n",
            " Jennings , \" I am sure I shall be monstrous glad of Miss Marianne ' s company \n",
            " usual noisy cheerfulness , \" I am monstrous glad to see you -- sorry I could n\n",
            "t however , as it turns out , I am monstrous glad there was never any thing in \n",
            "so scornfully ! for they say he is monstrous fond of her , as well he may . I s\n",
            "possible that she should .\" \" I am monstrous glad of it . Good gracious ! I hav\n",
            "thing of the kind . So then he was monstrous happy , and talked on some time ab\n",
            "e very genteel people . He makes a monstrous deal of money , and they keep thei\n"
          ],
          "name": "stdout"
        }
      ]
    },
    {
      "cell_type": "code",
      "metadata": {
        "id": "87hfvjPPoPlO",
        "outputId": "d855d072-9940-4d7d-acab-3247be1316ee",
        "colab": {
          "base_uri": "https://localhost:8080/"
        }
      },
      "source": [
        "text2.similar('monstrous')"
      ],
      "execution_count": 11,
      "outputs": [
        {
          "output_type": "stream",
          "text": [
            "very so exceedingly heartily a as good great extremely remarkably\n",
            "sweet vast amazingly\n"
          ],
          "name": "stdout"
        }
      ]
    },
    {
      "cell_type": "markdown",
      "metadata": {
        "id": "1jd9ySAzpwwf"
      },
      "source": [
        "Observe that we get different results for different texts. Austen uses this word quite differently from Melville; for her, monstrous has positive connotations, and sometimes functions as an intensifier like the word very."
      ]
    },
    {
      "cell_type": "markdown",
      "metadata": {
        "id": "y4J_d0Wep7zw"
      },
      "source": [
        "The term common_contexts allows us to examine just the contexts that are shared by two or more words, such as monstrous and very"
      ]
    },
    {
      "cell_type": "code",
      "metadata": {
        "id": "q6GRP_qspxXB",
        "outputId": "0eaa7e1d-cfa9-47b9-bf73-bb2e260fba4b",
        "colab": {
          "base_uri": "https://localhost:8080/"
        }
      },
      "source": [
        "text2.common_contexts(['monstrous','very'])"
      ],
      "execution_count": 12,
      "outputs": [
        {
          "output_type": "stream",
          "text": [
            "a_pretty am_glad a_lucky is_pretty be_glad\n"
          ],
          "name": "stdout"
        }
      ]
    },
    {
      "cell_type": "code",
      "metadata": {
        "id": "3IL2Iplbqhlx",
        "outputId": "11930a59-5e6d-47d7-ab2c-856d22e9f5ad",
        "colab": {
          "base_uri": "https://localhost:8080/"
        }
      },
      "source": [
        "text1.common_contexts(['monstrous', 'perilous'])"
      ],
      "execution_count": 13,
      "outputs": [
        {
          "output_type": "stream",
          "text": [
            "most_and\n"
          ],
          "name": "stdout"
        }
      ]
    },
    {
      "cell_type": "markdown",
      "metadata": {
        "id": "5FQKD0L5r256"
      },
      "source": [
        "we can also determine the location of a word in the text: how many words from the beginning it appears. This positional information can be displayed using a dispersion plot. Each stripe represents an instance of a word, and each row represents the entire text"
      ]
    },
    {
      "cell_type": "markdown",
      "metadata": {
        "id": "YgUA4vozwSza"
      },
      "source": [
        "Lexical Dispersion Plot for Words in U.S. Presidential Inaugural Addresses: This can be used to investigate changes in language use over time"
      ]
    },
    {
      "cell_type": "code",
      "metadata": {
        "id": "6KEOG_0Dr6cj",
        "outputId": "c080f02b-6ee5-4b49-ae21-523c33717316",
        "colab": {
          "base_uri": "https://localhost:8080/",
          "height": 295
        }
      },
      "source": [
        "sns.set_style('ticks')\n",
        "text4.dispersion_plot(['nation', 'citizens', 'America', 'right'])"
      ],
      "execution_count": 14,
      "outputs": [
        {
          "output_type": "display_data",
          "data": {
            "image/png": "[encoded data removed]",
            "text/plain": [
              "<Figure size 432x288 with 1 Axes>"
            ]
          },
          "metadata": {
            "tags": []
          }
        }
      ]
    },
    {
      "cell_type": "markdown",
      "metadata": {
        "id": "FbBVPAYZ03pA"
      },
      "source": [
        "<h2>3. Counting Vocabulary:</h2>\n",
        "\n",
        "In this section we will see how to use the computer to count the words in a text in a variety of useful ways"
      ]
    },
    {
      "cell_type": "code",
      "metadata": {
        "id": "AvADi-B8r6xe",
        "outputId": "f91c7172-a3bf-44f3-83c9-39b204f542a5",
        "colab": {
          "base_uri": "https://localhost:8080/"
        }
      },
      "source": [
        "len(text3)"
      ],
      "execution_count": 15,
      "outputs": [
        {
          "output_type": "execute_result",
          "data": {
            "text/plain": [
              "44764"
            ]
          },
          "metadata": {
            "tags": []
          },
          "execution_count": 15
        }
      ]
    },
    {
      "cell_type": "markdown",
      "metadata": {
        "id": "8Z3TWuM04GK0"
      },
      "source": [
        "So Genesis has 44,764 words and punctuation symbols, or **`\"tokens.\"`** A token is the technical name for a sequence of characters — such as hairy, his, or...<br>How many distinct words does the book of Genesis contain?  The vocabulary of a text is just the set of tokens that it uses, since in a set, all duplicates are collapsed together. We can find this with `set(text3)`"
      ]
    },
    {
      "cell_type": "code",
      "metadata": {
        "id": "GjvHhfzP5X66",
        "outputId": "af66c5b7-2c1d-4576-b6d8-07eb43bcdd9b",
        "colab": {
          "base_uri": "https://localhost:8080/"
        }
      },
      "source": [
        "# confirming what type of documents we're dealing with\n",
        "type(text1)"
      ],
      "execution_count": 16,
      "outputs": [
        {
          "output_type": "execute_result",
          "data": {
            "text/plain": [
              "nltk.text.Text"
            ]
          },
          "metadata": {
            "tags": []
          },
          "execution_count": 16
        }
      ]
    },
    {
      "cell_type": "code",
      "metadata": {
        "id": "OB0eDdEmtruD"
      },
      "source": [
        "def get_unique_tokens(text):\n",
        "    \"\"\"Find the unique tokens in a text\n",
        "\n",
        "    @param text: an nltk.text.Text object\n",
        "    @return: two items, first is the count,\n",
        "            second is a list of unique items\n",
        "    \"\"\"\n",
        "    unique_list = list(sorted(set(text)))\n",
        "    return len(unique_list), unique_list"
      ],
      "execution_count": 17,
      "outputs": []
    },
    {
      "cell_type": "code",
      "metadata": {
        "id": "eEyJCndhr62T",
        "outputId": "d4104d6d-b36d-4e0a-ee82-9dd5aa4cb979",
        "colab": {
          "base_uri": "https://localhost:8080/"
        }
      },
      "source": [
        "unique_text3 = get_unique_tokens(text3)\n",
        "print(f'Genesis contains {unique_text3[0]} unique tokens\\n')\n",
        "unique_text3[1][:20]"
      ],
      "execution_count": 19,
      "outputs": [
        {
          "output_type": "stream",
          "text": [
            "Genesis contains 2789 unique tokens\n",
            "\n"
          ],
          "name": "stdout"
        },
        {
          "output_type": "execute_result",
          "data": {
            "text/plain": [
              "['!',\n",
              " \"'\",\n",
              " '(',\n",
              " ')',\n",
              " ',',\n",
              " ',)',\n",
              " '.',\n",
              " '.)',\n",
              " ':',\n",
              " ';',\n",
              " ';)',\n",
              " '?',\n",
              " '?)',\n",
              " 'A',\n",
              " 'Abel',\n",
              " 'Abelmizraim',\n",
              " 'Abidah',\n",
              " 'Abide',\n",
              " 'Abimael',\n",
              " 'Abimelech']"
            ]
          },
          "metadata": {
            "tags": []
          },
          "execution_count": 19
        }
      ]
    },
    {
      "cell_type": "markdown",
      "metadata": {
        "id": "jfVJIBhz6oZM"
      },
      "source": [
        "Although it has 44,764 tokens, this book has only 2,789 distinct words, vocabulary, or \"word types.\" A word type is the form or spelling of the word independently of its specific occurrences in a text — that is, the word considered as a unique item of vocabulary. Our count of 2,789 items will include punctuation symbols, so we will generally call these unique items types instead of word types."
      ]
    },
    {
      "cell_type": "markdown",
      "metadata": {
        "id": "Yk9ucIuk7WLU"
      },
      "source": [
        "**lexical richness of the text:**<br>\n",
        "The lexical richness of the text computes the ratio of unique words to the number of distinct words in the text.\n",
        "Let's write a function to print the lexical richness for all texts here"
      ]
    },
    {
      "cell_type": "code",
      "metadata": {
        "id": "t0KeVXYMr6gg"
      },
      "source": [
        "# First get the titles\n",
        "titles = ['text1: Moby Dick by Herman Melville 1851', \\\n",
        "          'text2: Sense and Sensibility by Jane Austen 1811', \\\n",
        "          'text3: The Book of Genesis', \\\n",
        "          'text4: Inaugural Address Corpus', \\\n",
        "          'text5: Chat Corpus', \\\n",
        "          'text6: Monty Python and the Holy Grail', \\\n",
        "          'text7: Wall Street Journal', \\\n",
        "          'text8: Personals Corpus', \\\n",
        "          'text9: The Man Who Was Thursday by G . K . Chesterton 1908']\n",
        "texts = [text1, text2, text3, text4, text5, text6, text7, text8, text9]"
      ],
      "execution_count": 20,
      "outputs": []
    },
    {
      "cell_type": "code",
      "metadata": {
        "id": "D-hwLTHEuloh"
      },
      "source": [
        "def lexical_richness(texts=texts, titles=titles):\n",
        "    dictt = {}\n",
        "    for text, title in zip(texts, titles):\n",
        "        key = title[:5]\n",
        "        unique_tokens = get_unique_tokens(text)[0]\n",
        "        total_tokens = len(text)\n",
        "        richness = round((unique_tokens / total_tokens)*100, 2)\n",
        "        dictt[key] = richness\n",
        "\n",
        "    return dictt"
      ],
      "execution_count": 21,
      "outputs": []
    },
    {
      "cell_type": "code",
      "metadata": {
        "id": "ehZYmj8TyAEZ",
        "outputId": "d241da01-d90d-4e4f-d963-fc5db9a23891",
        "colab": {
          "base_uri": "https://localhost:8080/"
        }
      },
      "source": [
        "lex_richness = lexical_richness()\n",
        "print(lex_richness)"
      ],
      "execution_count": 22,
      "outputs": [
        {
          "output_type": "stream",
          "text": [
            "{'text1': 7.41, 'text2': 4.83, 'text3': 6.23, 'text4': 6.62, 'text5': 13.48, 'text6': 12.77, 'text7': 12.32, 'text8': 22.77, 'text9': 9.83}\n"
          ],
          "name": "stdout"
        }
      ]
    },
    {
      "cell_type": "markdown",
      "metadata": {
        "id": "J_DkdlFs4KVR"
      },
      "source": [
        "Now to identify the text that has the highest lexical richness, simply use the max()."
      ]
    },
    {
      "cell_type": "code",
      "metadata": {
        "id": "MXHx9Xzh0t51",
        "outputId": "8a1dfd4a-6761-401e-c1fb-e7cb2c89180b",
        "colab": {
          "base_uri": "https://localhost:8080/",
          "height": 35
        }
      },
      "source": [
        "max(lex_richness, key=lex_richness.get)"
      ],
      "execution_count": 24,
      "outputs": [
        {
          "output_type": "execute_result",
          "data": {
            "application/vnd.google.colaboratory.intrinsic+json": {
              "type": "string"
            },
            "text/plain": [
              "'text8'"
            ]
          },
          "metadata": {
            "tags": []
          },
          "execution_count": 24
        }
      ]
    },
    {
      "cell_type": "markdown",
      "metadata": {
        "id": "6EM-9wIKsFsm"
      },
      "source": [
        "<h2>1. A Closer Look at Python: Texts as Lists of Words</h2>\n",
        "<h2>2. Python Variables and Strings,  "
      ]
    },
    {
      "cell_type": "code",
      "metadata": {
        "id": "51uwwqp1_6TU",
        "outputId": "bad078e5-0227-469d-b298-a6f88efcee42",
        "colab": {
          "base_uri": "https://localhost:8080/",
          "height": 35
        }
      },
      "source": [
        "text4[6]"
      ],
      "execution_count": 25,
      "outputs": [
        {
          "output_type": "execute_result",
          "data": {
            "application/vnd.google.colaboratory.intrinsic+json": {
              "type": "string"
            },
            "text/plain": [
              "'and'"
            ]
          },
          "metadata": {
            "tags": []
          },
          "execution_count": 25
        }
      ]
    },
    {
      "cell_type": "code",
      "metadata": {
        "id": "-jT9tPqTrPlT",
        "outputId": "f9129b9f-7ff7-4773-e2da-01da66b9a8c1",
        "colab": {
          "base_uri": "https://localhost:8080/"
        }
      },
      "source": [
        "text4.index('Senate')"
      ],
      "execution_count": 26,
      "outputs": [
        {
          "output_type": "execute_result",
          "data": {
            "text/plain": [
              "5"
            ]
          },
          "metadata": {
            "tags": []
          },
          "execution_count": 26
        }
      ]
    },
    {
      "cell_type": "markdown",
      "metadata": {
        "id": "kdD-53W_rrIi"
      },
      "source": [
        "* Remember that capitalized words appear before lowercase words in sorted lists\n",
        "\n",
        "* Notice that our indexes start from zero: sent element zero, written sent[0]. The reason is simple: the moment Python accesses the content of a list from the computer's memory, it is already at the first element; we have to tell it how many elements forward to go. Thus, zero steps forward leaves it at the first element."
      ]
    },
    {
      "cell_type": "markdown",
      "metadata": {
        "id": "OAma0tjPseet"
      },
      "source": [
        "We can also replace an entire slice with new material"
      ]
    },
    {
      "cell_type": "code",
      "metadata": {
        "id": "8kM0OSHNrzUv",
        "outputId": "23e45b04-e56d-48cb-a492-7ba377381632",
        "colab": {
          "base_uri": "https://localhost:8080/"
        }
      },
      "source": [
        "list_x = ['one', 'two', 'three', 'four', 'five', 'six']\n",
        "\n",
        "# Now slice off a chunk of the list and assign smtn\n",
        "list_x[2:] = ['ten']  # putting in a list keeps the element together\n",
        "\n",
        "#show list\n",
        "list_x"
      ],
      "execution_count": 27,
      "outputs": [
        {
          "output_type": "execute_result",
          "data": {
            "text/plain": [
              "['one', 'two', 'ten']"
            ]
          },
          "metadata": {
            "tags": []
          },
          "execution_count": 27
        }
      ]
    },
    {
      "cell_type": "markdown",
      "metadata": {
        "id": "KjLWnzu8uzwo"
      },
      "source": [
        "<h2>3. Computing with Language: Simple Statistics</h2>\n",
        "\n",
        "Now, we pick up the question of what makes a text distinct, and use automatic methods to find characteristic words and expressions of a text"
      ]
    },
    {
      "cell_type": "code",
      "metadata": {
        "id": "qSn8h0qVvAaR",
        "outputId": "05342fb1-6e46-4c47-a0a9-483ecd6460a8",
        "colab": {
          "base_uri": "https://localhost:8080/"
        }
      },
      "source": [
        "saying = ['After', 'all', 'is', 'said', 'and', 'done','more', 'is', 'said', 'than', 'done']\n",
        "# let' tokenize it\n",
        "tokens = get_unique_tokens(saying)[1]\n",
        "tokens[-2:]"
      ],
      "execution_count": 28,
      "outputs": [
        {
          "output_type": "execute_result",
          "data": {
            "text/plain": [
              "['said', 'than']"
            ]
          },
          "metadata": {
            "tags": []
          },
          "execution_count": 28
        }
      ]
    },
    {
      "cell_type": "markdown",
      "metadata": {
        "id": "INsv6g0yxXTX"
      },
      "source": [
        "<h3>3.1. Frequency Distributions</h3>\n",
        "\n",
        "How can we automatically identify the words of a text that are most informative about the topic and genre of the text?"
      ]
    },
    {
      "cell_type": "markdown",
      "metadata": {
        "id": "drKN2bkh5jdY"
      },
      "source": [
        "**Using The Counter Object**"
      ]
    },
    {
      "cell_type": "code",
      "metadata": {
        "id": "GF0VfWaky1O_"
      },
      "source": [
        "# first remove punctuation and stop-words\n",
        "text_list3 = [i for i in text3 if i not in string.punctuation and i not in stopwords.words('english')]"
      ],
      "execution_count": 29,
      "outputs": []
    },
    {
      "cell_type": "code",
      "metadata": {
        "id": "BjHWsClF1zBL"
      },
      "source": [
        "# Then use a counter object to count unique words\n",
        "text_dict3 = Counter(text_list3)"
      ],
      "execution_count": 30,
      "outputs": []
    },
    {
      "cell_type": "code",
      "metadata": {
        "id": "W4PnCPeG1CaX",
        "outputId": "03a44704-850d-4059-ee0a-0598196d1112",
        "colab": {
          "base_uri": "https://localhost:8080/"
        }
      },
      "source": [
        "# Count howmany unique words exist in text3 without punctuations and stop words.\n",
        "len(text_list3)"
      ],
      "execution_count": 31,
      "outputs": [
        {
          "output_type": "execute_result",
          "data": {
            "text/plain": [
              "20587"
            ]
          },
          "metadata": {
            "tags": []
          },
          "execution_count": 31
        }
      ]
    },
    {
      "cell_type": "code",
      "metadata": {
        "id": "FGKIMW7b1Vsf",
        "outputId": "a0ab4cea-025b-4a10-deb3-c33b440da7b0",
        "colab": {
          "base_uri": "https://localhost:8080/",
          "height": 35
        }
      },
      "source": [
        "# find word with maximum frequency\n",
        "max(text_dict3, key=text_dict3.get)"
      ],
      "execution_count": 32,
      "outputs": [
        {
          "output_type": "execute_result",
          "data": {
            "application/vnd.google.colaboratory.intrinsic+json": {
              "type": "string"
            },
            "text/plain": [
              "'And'"
            ]
          },
          "metadata": {
            "tags": []
          },
          "execution_count": 32
        }
      ]
    },
    {
      "cell_type": "code",
      "metadata": {
        "id": "v-ZUp81b7_cL",
        "outputId": "50625113-0333-405c-eaf1-5cbba3468b06",
        "colab": {
          "base_uri": "https://localhost:8080/"
        }
      },
      "source": [
        "text_dict3['And']"
      ],
      "execution_count": 33,
      "outputs": [
        {
          "output_type": "execute_result",
          "data": {
            "text/plain": [
              "1250"
            ]
          },
          "metadata": {
            "tags": []
          },
          "execution_count": 33
        }
      ]
    },
    {
      "cell_type": "markdown",
      "metadata": {
        "id": "KYwSBDLM5tlH"
      },
      "source": [
        "**Using NLTK freqdist**\n",
        "\n",
        "Since we often need frequency distributions in language processing, NLTK provides built-in support for them. Let's use a FreqDist to find the 50 most frequent words of `Moby Dick`:<br>\n",
        "Note: it's called frequency distribution cos it tells us the frequency of each vocabulary item in the text."
      ]
    },
    {
      "cell_type": "code",
      "metadata": {
        "id": "mU-HLMI65zBn",
        "outputId": "e319e8dd-82c7-4e48-e330-30c39e32a03a",
        "colab": {
          "base_uri": "https://localhost:8080/"
        }
      },
      "source": [
        "fdist1 = FreqDist(text1)\n",
        "print(fdist1)"
      ],
      "execution_count": 34,
      "outputs": [
        {
          "output_type": "stream",
          "text": [
            "<FreqDist with 19317 samples and 260819 outcomes>\n"
          ],
          "name": "stdout"
        }
      ]
    },
    {
      "cell_type": "code",
      "metadata": {
        "id": "a90443LO6ftq",
        "outputId": "2db24404-1699-471b-8052-10b04aa4cb0e",
        "colab": {
          "base_uri": "https://localhost:8080/"
        }
      },
      "source": [
        "# Let's print the 50 most common words of text1\n",
        "fdist1.most_common(50)"
      ],
      "execution_count": 35,
      "outputs": [
        {
          "output_type": "execute_result",
          "data": {
            "text/plain": [
              "[(',', 18713),\n",
              " ('the', 13721),\n",
              " ('.', 6862),\n",
              " ('of', 6536),\n",
              " ('and', 6024),\n",
              " ('a', 4569),\n",
              " ('to', 4542),\n",
              " (';', 4072),\n",
              " ('in', 3916),\n",
              " ('that', 2982),\n",
              " (\"'\", 2684),\n",
              " ('-', 2552),\n",
              " ('his', 2459),\n",
              " ('it', 2209),\n",
              " ('I', 2124),\n",
              " ('s', 1739),\n",
              " ('is', 1695),\n",
              " ('he', 1661),\n",
              " ('with', 1659),\n",
              " ('was', 1632),\n",
              " ('as', 1620),\n",
              " ('\"', 1478),\n",
              " ('all', 1462),\n",
              " ('for', 1414),\n",
              " ('this', 1280),\n",
              " ('!', 1269),\n",
              " ('at', 1231),\n",
              " ('by', 1137),\n",
              " ('but', 1113),\n",
              " ('not', 1103),\n",
              " ('--', 1070),\n",
              " ('him', 1058),\n",
              " ('from', 1052),\n",
              " ('be', 1030),\n",
              " ('on', 1005),\n",
              " ('so', 918),\n",
              " ('whale', 906),\n",
              " ('one', 889),\n",
              " ('you', 841),\n",
              " ('had', 767),\n",
              " ('have', 760),\n",
              " ('there', 715),\n",
              " ('But', 705),\n",
              " ('or', 697),\n",
              " ('were', 680),\n",
              " ('now', 646),\n",
              " ('which', 640),\n",
              " ('?', 637),\n",
              " ('me', 627),\n",
              " ('like', 624)]"
            ]
          },
          "metadata": {
            "tags": []
          },
          "execution_count": 35
        }
      ]
    },
    {
      "cell_type": "markdown",
      "metadata": {
        "id": "cdb3wWRp9PtL"
      },
      "source": [
        "Only one word, whale, is slightly informative! It occurs over 906 times. The rest of the words tell us nothing about the text; they're just English `\"plumbing.\"` What proportion of the text is taken up with such words? We can generate a cumulative frequency plot for these words"
      ]
    },
    {
      "cell_type": "markdown",
      "metadata": {
        "id": "DPm6og2P8elR"
      },
      "source": [
        "When we first invoke FreqDist, we pass the name of the text as an argument. We can inspect the total number of words (**\"outcomes\"**) that have been counted up— 260,819 in the case of Moby Dick."
      ]
    },
    {
      "cell_type": "code",
      "metadata": {
        "id": "3S39xpw99xJA",
        "outputId": "a8aa832a-b857-475f-f643-c5b756e79133",
        "colab": {
          "base_uri": "https://localhost:8080/",
          "height": 424
        }
      },
      "source": [
        "plt.figure(figsize=(8,6))\n",
        "plt.title('Cumulative Frequency Plot of top 50 words in Moby-Dict')\n",
        "fdist1.plot(50, cumulative=True)"
      ],
      "execution_count": 36,
      "outputs": [
        {
          "output_type": "display_data",
          "data": {
            "image/png": "[encoded data removed]",
            "text/plain": [
              "<Figure size 576x432 with 1 Axes>"
            ]
          },
          "metadata": {
            "tags": []
          }
        }
      ]
    },
    {
      "cell_type": "markdown",
      "metadata": {
        "id": "28WxJ8w5-6UF"
      },
      "source": [
        "Wow! These 50 words account for nearly half the book!"
      ]
    },
    {
      "cell_type": "markdown",
      "metadata": {
        "id": "LXP_gmMm_m0L"
      },
      "source": [
        "If the frequent words don't help us, how about the words that occur once only, the so-called **`hapaxes`**?"
      ]
    },
    {
      "cell_type": "code",
      "metadata": {
        "id": "ohpPQYJB_0GC",
        "outputId": "15b21290-825b-4011-c3c3-9151ade54f34",
        "colab": {
          "base_uri": "https://localhost:8080/"
        }
      },
      "source": [
        "fdist1.hapaxes()"
      ],
      "execution_count": 37,
      "outputs": [
        {
          "output_type": "execute_result",
          "data": {
            "text/plain": [
              "['Herman',\n",
              " 'Melville',\n",
              " ']',\n",
              " 'ETYMOLOGY',\n",
              " 'Late',\n",
              " 'Consumptive',\n",
              " 'School',\n",
              " 'threadbare',\n",
              " 'lexicons',\n",
              " 'mockingly',\n",
              " 'flags',\n",
              " 'mortality',\n",
              " 'signification',\n",
              " 'HACKLUYT',\n",
              " 'Sw',\n",
              " 'HVAL',\n",
              " 'roundness',\n",
              " 'Dut',\n",
              " 'Ger',\n",
              " 'WALLEN',\n",
              " 'WALW',\n",
              " 'IAN',\n",
              " 'RICHARDSON',\n",
              " 'KETOS',\n",
              " 'GREEK',\n",
              " 'CETUS',\n",
              " 'LATIN',\n",
              " 'WHOEL',\n",
              " 'ANGLO',\n",
              " 'SAXON',\n",
              " 'WAL',\n",
              " 'HWAL',\n",
              " 'SWEDISH',\n",
              " 'ICELANDIC',\n",
              " 'BALEINE',\n",
              " 'BALLENA',\n",
              " 'FEGEE',\n",
              " 'ERROMANGOAN',\n",
              " 'Librarian',\n",
              " 'painstaking',\n",
              " 'burrower',\n",
              " 'grub',\n",
              " 'Vaticans',\n",
              " 'stalls',\n",
              " 'higgledy',\n",
              " 'piggledy',\n",
              " 'gospel',\n",
              " 'promiscuously',\n",
              " 'commentator',\n",
              " 'belongest',\n",
              " 'sallow',\n",
              " 'Pale',\n",
              " 'Sherry',\n",
              " 'loves',\n",
              " 'bluntly',\n",
              " 'Subs',\n",
              " 'thankless',\n",
              " 'Hampton',\n",
              " 'Court',\n",
              " 'hie',\n",
              " 'refugees',\n",
              " 'pampered',\n",
              " 'Michael',\n",
              " 'Raphael',\n",
              " 'unsplinterable',\n",
              " 'GENESIS',\n",
              " 'JOB',\n",
              " 'JONAH',\n",
              " 'punish',\n",
              " 'ISAIAH',\n",
              " 'soever',\n",
              " 'cometh',\n",
              " 'incontinently',\n",
              " 'perisheth',\n",
              " 'PLUTARCH',\n",
              " 'MORALS',\n",
              " 'breedeth',\n",
              " 'Whirlpooles',\n",
              " 'Balaene',\n",
              " 'arpens',\n",
              " 'PLINY',\n",
              " 'Scarcely',\n",
              " 'TOOKE',\n",
              " 'LUCIAN',\n",
              " 'TRUE',\n",
              " 'catched',\n",
              " 'OCTHER',\n",
              " 'VERBAL',\n",
              " 'TAKEN',\n",
              " 'MOUTH',\n",
              " 'ALFRED',\n",
              " '890',\n",
              " 'gudgeon',\n",
              " 'retires',\n",
              " 'MONTAIGNE',\n",
              " 'APOLOGY',\n",
              " 'RAIMOND',\n",
              " 'SEBOND',\n",
              " 'Nick',\n",
              " 'RABELAIS',\n",
              " 'cartloads',\n",
              " 'STOWE',\n",
              " 'ANNALS',\n",
              " 'LORD',\n",
              " 'BACON',\n",
              " 'Touching',\n",
              " 'ork',\n",
              " 'DEATH',\n",
              " 'sovereignest',\n",
              " 'bruise',\n",
              " 'HAMLET',\n",
              " 'leach',\n",
              " 'Mote',\n",
              " 'availle',\n",
              " 'returne',\n",
              " 'againe',\n",
              " 'worker',\n",
              " 'Dinting',\n",
              " 'paine',\n",
              " 'thro',\n",
              " 'maine',\n",
              " 'FAERIE',\n",
              " 'Immense',\n",
              " 'til',\n",
              " 'DAVENANT',\n",
              " 'PREFACE',\n",
              " 'GONDIBERT',\n",
              " 'spermacetti',\n",
              " 'Hosmannus',\n",
              " 'Nescio',\n",
              " 'VIDE',\n",
              " 'Spencer',\n",
              " 'Talus',\n",
              " 'flail',\n",
              " 'threatens',\n",
              " 'jav',\n",
              " 'lins',\n",
              " 'WALLER',\n",
              " 'SUMMER',\n",
              " 'ISLANDS',\n",
              " 'Commonwealth',\n",
              " 'Civitas',\n",
              " 'OPENING',\n",
              " 'SENTENCE',\n",
              " 'HOBBES',\n",
              " 'LEVIATHAN',\n",
              " 'Silly',\n",
              " 'Mansoul',\n",
              " 'chewing',\n",
              " 'sprat',\n",
              " 'PILGRIM',\n",
              " 'PROGRESS',\n",
              " 'Created',\n",
              " 'PARADISE',\n",
              " 'LOST',\n",
              " '---\"',\n",
              " 'Hugest',\n",
              " 'Stretched',\n",
              " 'Draws',\n",
              " 'FULLLER',\n",
              " 'PROFANE',\n",
              " 'HOLY',\n",
              " 'STATE',\n",
              " 'DRYDEN',\n",
              " 'ANNUS',\n",
              " 'MIRABILIS',\n",
              " 'aground',\n",
              " 'EDGE',\n",
              " 'TEN',\n",
              " 'SPITZBERGEN',\n",
              " 'PURCHAS',\n",
              " 'wantonness',\n",
              " 'fuzzing',\n",
              " 'vents',\n",
              " 'HERBERT',\n",
              " 'INTO',\n",
              " 'ASIA',\n",
              " 'AFRICA',\n",
              " 'SCHOUTEN',\n",
              " 'SIXTH',\n",
              " 'CIRCUMNAVIGATION',\n",
              " 'Elbe',\n",
              " 'ducat',\n",
              " 'herrings',\n",
              " 'GREENLAND',\n",
              " 'Several',\n",
              " 'Fife',\n",
              " 'Anno',\n",
              " '1652',\n",
              " 'Pitferren',\n",
              " 'SIBBALD',\n",
              " 'FIFE',\n",
              " 'KINROSS',\n",
              " 'Myself',\n",
              " 'Sperma',\n",
              " 'ceti',\n",
              " 'fierceness',\n",
              " 'RICHARD',\n",
              " 'STRAFFORD',\n",
              " 'LETTER',\n",
              " 'BERMUDAS',\n",
              " 'PHIL',\n",
              " 'TRANS',\n",
              " '1668',\n",
              " 'PRIMER',\n",
              " 'COWLEY',\n",
              " '1729',\n",
              " '\"...',\n",
              " 'frequendy',\n",
              " 'insupportable',\n",
              " 'disorder',\n",
              " 'ULLOA',\n",
              " 'SOUTH',\n",
              " 'AMERICA',\n",
              " 'sylphs',\n",
              " 'petticoat',\n",
              " 'Oft',\n",
              " 'Tho',\n",
              " 'RAPE',\n",
              " 'LOCK',\n",
              " 'NAT',\n",
              " 'wales',\n",
              " 'JOHNSON',\n",
              " 'COOK',\n",
              " 'dung',\n",
              " 'lime',\n",
              " 'juniper',\n",
              " 'UNO',\n",
              " 'VON',\n",
              " 'TROIL',\n",
              " 'LETTERS',\n",
              " 'BANKS',\n",
              " 'SOLANDER',\n",
              " '1772',\n",
              " 'Nantuckois',\n",
              " 'JEFFERSON',\n",
              " 'MEMORIAL',\n",
              " 'MINISTER',\n",
              " 'REFERENCE',\n",
              " 'PARLIAMENT',\n",
              " 'SOMEWHERE',\n",
              " 'guarding',\n",
              " 'protecting',\n",
              " 'robbers',\n",
              " 'BLACKSTONE',\n",
              " 'Rodmond',\n",
              " 'suspends',\n",
              " 'attends',\n",
              " 'FALCONER',\n",
              " 'Bright',\n",
              " 'roofs',\n",
              " 'domes',\n",
              " 'rockets',\n",
              " 'Around',\n",
              " 'unwieldy',\n",
              " 'COWPER',\n",
              " 'VISIT',\n",
              " 'LONDON',\n",
              " 'HUNTER',\n",
              " 'DISSECTION',\n",
              " 'SMALL',\n",
              " 'SIZED',\n",
              " 'aorta',\n",
              " 'gushing',\n",
              " 'PALEY',\n",
              " 'THEOLOGY',\n",
              " 'mammiferous',\n",
              " 'hind',\n",
              " 'BARON',\n",
              " 'CUVIER',\n",
              " 'COLNETT',\n",
              " 'PURPOSE',\n",
              " 'EXTENDING',\n",
              " 'SPERMACETI',\n",
              " 'Floundered',\n",
              " 'chace',\n",
              " 'peopling',\n",
              " 'Gather',\n",
              " 'Led',\n",
              " 'instincts',\n",
              " 'trackless',\n",
              " 'Assaulted',\n",
              " 'voracious',\n",
              " 'spiral',\n",
              " 'MONTGOMERY',\n",
              " 'WORLD',\n",
              " 'FLOOD',\n",
              " 'Paean',\n",
              " 'fatter',\n",
              " 'Flounders',\n",
              " 'CHARLES',\n",
              " 'LAMB',\n",
              " 'TRIUMPH',\n",
              " '1690',\n",
              " 'OBED',\n",
              " 'Susan',\n",
              " 'HAWTHORNE',\n",
              " 'TWICE',\n",
              " 'bespeak',\n",
              " 'raal',\n",
              " 'COOPER',\n",
              " 'PILOT',\n",
              " 'Berlin',\n",
              " 'Gazette',\n",
              " 'ECKERMANN',\n",
              " 'CONVERSATIONS',\n",
              " 'GOETHE',\n",
              " 'ESSEX',\n",
              " 'WAS',\n",
              " 'ATTACKED',\n",
              " 'FINALLY',\n",
              " 'DESTROYED',\n",
              " 'OWEN',\n",
              " 'CHACE',\n",
              " 'FIRST',\n",
              " 'SAID',\n",
              " 'VESSEL',\n",
              " 'YORK',\n",
              " '1821',\n",
              " 'piping',\n",
              " 'dimmed',\n",
              " 'phospher',\n",
              " 'ELIZABETH',\n",
              " 'OAKES',\n",
              " 'SMITH',\n",
              " 'amounted',\n",
              " '440',\n",
              " 'SCORESBY',\n",
              " 'Mad',\n",
              " 'agonies',\n",
              " 'endures',\n",
              " 'infuriated',\n",
              " 'rears',\n",
              " 'snaps',\n",
              " 'propelled',\n",
              " 'observers',\n",
              " 'opportunities',\n",
              " 'habitudes',\n",
              " 'BEALE',\n",
              " 'offensively',\n",
              " 'artful',\n",
              " 'mischievous',\n",
              " 'FREDERICK',\n",
              " 'DEBELL',\n",
              " '1840',\n",
              " 'October',\n",
              " 'Raise',\n",
              " 'ay',\n",
              " 'THAR',\n",
              " 'bowes',\n",
              " 'os',\n",
              " 'ROSS',\n",
              " 'ETCHINGS',\n",
              " 'CRUIZE',\n",
              " '1846',\n",
              " 'Globe',\n",
              " 'transactions',\n",
              " 'relate',\n",
              " 'HUSSEY',\n",
              " 'SURVIVORS',\n",
              " 'parried',\n",
              " 'MISSIONARY',\n",
              " 'JOURNAL',\n",
              " 'TYERMAN',\n",
              " 'boldest',\n",
              " 'persevering',\n",
              " 'REPORT',\n",
              " 'DANIEL',\n",
              " 'SPEECH',\n",
              " 'SENATE',\n",
              " 'APPLICATION',\n",
              " 'ERECTION',\n",
              " 'BREAKWATER',\n",
              " 'CAPTORS',\n",
              " 'WHALEMAN',\n",
              " 'ADVENTURES',\n",
              " 'BIOGRAPHY',\n",
              " 'GATHERED',\n",
              " 'HOMEWARD',\n",
              " 'COMMODORE',\n",
              " 'PREBLE',\n",
              " 'REV',\n",
              " 'CHEEVER',\n",
              " 'MUTINEER',\n",
              " 'BROTHER',\n",
              " 'ANOTHER',\n",
              " 'MCCULLOCH',\n",
              " 'COMMERCIAL',\n",
              " 'reciprocal',\n",
              " 'clews',\n",
              " 'SOMETHING',\n",
              " 'UNPUBLISHED',\n",
              " 'CURRENTS',\n",
              " 'Pedestrians',\n",
              " 'recollect',\n",
              " 'gateways',\n",
              " 'VOYAGER',\n",
              " 'ARCTIC',\n",
              " 'NEWSPAPER',\n",
              " 'TAKING',\n",
              " 'RETAKING',\n",
              " 'HOBOMACK',\n",
              " 'MIRIAM',\n",
              " 'FISHERMAN',\n",
              " 'appliance',\n",
              " 'RIBS',\n",
              " 'TRUCKS',\n",
              " 'Terra',\n",
              " 'Del',\n",
              " 'Fuego',\n",
              " 'DARWIN',\n",
              " 'NATURALIST',\n",
              " \";--'\",\n",
              " '!\\'\"',\n",
              " 'WHARTON',\n",
              " 'Loomings',\n",
              " 'spleen',\n",
              " 'regulating',\n",
              " 'circulation',\n",
              " 'Whenever',\n",
              " 'drizzly',\n",
              " 'hypos',\n",
              " 'philosophical',\n",
              " 'Cato',\n",
              " 'Manhattoes',\n",
              " 'reefs',\n",
              " 'downtown',\n",
              " 'gazers',\n",
              " 'Circumambulate',\n",
              " 'Corlears',\n",
              " 'Coenties',\n",
              " 'Slip',\n",
              " 'Whitehall',\n",
              " 'Posted',\n",
              " 'sentinels',\n",
              " 'spiles',\n",
              " 'pier',\n",
              " 'lath',\n",
              " 'counters',\n",
              " 'desks',\n",
              " 'loitering',\n",
              " 'shady',\n",
              " 'Inlanders',\n",
              " 'lanes',\n",
              " 'alleys',\n",
              " 'attract',\n",
              " 'dale',\n",
              " 'dreamiest',\n",
              " 'shadiest',\n",
              " 'quietest',\n",
              " 'enchanting',\n",
              " 'Saco',\n",
              " 'crucifix',\n",
              " 'Deep',\n",
              " 'mazy',\n",
              " 'Tiger',\n",
              " 'Tennessee',\n",
              " 'Rockaway',\n",
              " 'Persians',\n",
              " 'deity',\n",
              " 'Narcissus',\n",
              " 'ungraspable',\n",
              " 'hazy',\n",
              " 'quarrelsome',\n",
              " 'offices',\n",
              " 'abominate',\n",
              " 'toils',\n",
              " 'trials',\n",
              " 'barques',\n",
              " 'schooners',\n",
              " 'broiling',\n",
              " 'buttered',\n",
              " 'judgmatically',\n",
              " 'peppered',\n",
              " 'reverentially',\n",
              " 'idolatrous',\n",
              " 'dotings',\n",
              " 'ibis',\n",
              " 'roasted',\n",
              " 'bake',\n",
              " 'plumb',\n",
              " 'Van',\n",
              " 'Rensselaers',\n",
              " 'Randolphs',\n",
              " 'Hardicanutes',\n",
              " 'lording',\n",
              " 'tallest',\n",
              " 'decoction',\n",
              " 'Seneca',\n",
              " 'Stoics',\n",
              " 'Testament',\n",
              " 'promptly',\n",
              " 'rub',\n",
              " 'infliction',\n",
              " 'BEING',\n",
              " 'PAID',\n",
              " 'urbane',\n",
              " 'ills',\n",
              " 'monied',\n",
              " 'consign',\n",
              " 'prevalent',\n",
              " 'violate',\n",
              " 'Pythagorean',\n",
              " 'commonalty',\n",
              " 'police',\n",
              " 'surveillance',\n",
              " 'programme',\n",
              " 'solo',\n",
              " 'CONTESTED',\n",
              " 'ELECTION',\n",
              " 'PRESIDENCY',\n",
              " 'UNITED',\n",
              " 'STATES',\n",
              " 'ISHMAEL',\n",
              " 'BLOODY',\n",
              " 'AFFGHANISTAN',\n",
              " 'managers',\n",
              " 'genteel',\n",
              " 'comedies',\n",
              " 'farces',\n",
              " 'cunningly',\n",
              " 'disguises',\n",
              " 'cajoling',\n",
              " 'unbiased',\n",
              " 'freewill',\n",
              " 'discriminating',\n",
              " 'overwhelming',\n",
              " 'undeliverable',\n",
              " 'itch',\n",
              " 'forbidden',\n",
              " 'ignoring',\n",
              " 'lodges',\n",
              " 'Carpet',\n",
              " 'Bag',\n",
              " 'Manhatto',\n",
              " 'candidates',\n",
              " 'penalties',\n",
              " 'Tyre',\n",
              " 'Carthage',\n",
              " 'imported',\n",
              " 'cobblestones',\n",
              " 'bitingly',\n",
              " 'shouldering',\n",
              " 'price',\n",
              " 'fervent',\n",
              " 'asphaltic',\n",
              " 'pavement',\n",
              " 'flinty',\n",
              " 'projections',\n",
              " 'soles',\n",
              " 'Too',\n",
              " 'cheapest',\n",
              " 'cheeriest',\n",
              " 'invitingly',\n",
              " 'particles',\n",
              " 'peer',\n",
              " 'Angel',\n",
              " 'Doom',\n",
              " 'wailing',\n",
              " 'gnashing',\n",
              " 'Wretched',\n",
              " 'entertainment',\n",
              " 'Moving',\n",
              " 'emigrant',\n",
              " 'poverty',\n",
              " 'creak',\n",
              " 'lodgings',\n",
              " 'zephyr',\n",
              " 'hob',\n",
              " 'toasting',\n",
              " 'observest',\n",
              " 'sashless',\n",
              " 'glazier',\n",
              " 'reasonest',\n",
              " 'chinks',\n",
              " 'crannies',\n",
              " 'lint',\n",
              " 'chattering',\n",
              " 'shiverings',\n",
              " 'cob',\n",
              " 'redder',\n",
              " 'Orion',\n",
              " 'glitters',\n",
              " 'conservatories',\n",
              " 'president',\n",
              " 'temperance',\n",
              " 'blubbering',\n",
              " 'straggling',\n",
              " 'wainscots',\n",
              " 'reminding',\n",
              " 'oilpainting',\n",
              " 'besmoked',\n",
              " 'defaced',\n",
              " 'unequal',\n",
              " 'crosslights',\n",
              " 'hags',\n",
              " 'delineate',\n",
              " 'bewitched',\n",
              " 'ponderings',\n",
              " 'boggy',\n",
              " 'soggy',\n",
              " 'squitchy',\n",
              " 'froze',\n",
              " 'heath',\n",
              " 'icebound',\n",
              " 'represents',\n",
              " 'Horner',\n",
              " 'foundered',\n",
              " 'clubs',\n",
              " 'harvesting',\n",
              " 'hacking',\n",
              " 'horrifying',\n",
              " 'Mixed',\n",
              " 'Nathan',\n",
              " 'Swain',\n",
              " 'corkscrew',\n",
              " 'Blanco',\n",
              " 'sojourning',\n",
              " 'fireplaces',\n",
              " 'duskier',\n",
              " 'cockpits',\n",
              " 'rarities',\n",
              " 'Projecting',\n",
              " 'Within',\n",
              " 'shelves',\n",
              " 'flasks',\n",
              " 'bustles',\n",
              " 'deliriums',\n",
              " 'Abominable',\n",
              " 'tumblers',\n",
              " 'cylinders',\n",
              " 'goggling',\n",
              " 'deceitfully',\n",
              " 'tapered',\n",
              " 'Parallel',\n",
              " 'pecked',\n",
              " 'footpads',\n",
              " 'Fill',\n",
              " 'shilling',\n",
              " 'examining',\n",
              " 'SKRIMSHANDER',\n",
              " 'accommodated',\n",
              " 'unoccupied',\n",
              " 'haint',\n",
              " 'pose',\n",
              " 'whalin',\n",
              " 'decidedly',\n",
              " 'objectionable',\n",
              " 'wander',\n",
              " 'Battery',\n",
              " 'ruminating',\n",
              " 'adorning',\n",
              " 'potatoes',\n",
              " 'sartainty',\n",
              " 'diabolically',\n",
              " 'steaks',\n",
              " 'undress',\n",
              " 'looker',\n",
              " 'rioting',\n",
              " 'Grampus',\n",
              " 'seed',\n",
              " 'Feegees',\n",
              " 'tramping',\n",
              " 'Enveloped',\n",
              " 'bedarned',\n",
              " 'eruption',\n",
              " 'officiating',\n",
              " 'brimmers',\n",
              " 'complained',\n",
              " 'potion',\n",
              " 'colds',\n",
              " 'catarrhs',\n",
              " 'liquor',\n",
              " 'arrantest',\n",
              " 'topers',\n",
              " 'obstreperously',\n",
              " 'aloof',\n",
              " 'desirous',\n",
              " 'hilarity',\n",
              " 'coffer',\n",
              " 'Southerner',\n",
              " 'mountaineers',\n",
              " 'Alleghanian',\n",
              " 'missed',\n",
              " 'supernaturally',\n",
              " 'congratulate',\n",
              " 'multiply',\n",
              " 'bachelor',\n",
              " 'abominated',\n",
              " 'tidiest',\n",
              " 'bedwards',\n",
              " 'shan',\n",
              " 'tablecloth',\n",
              " 'Skrimshander',\n",
              " 'bump',\n",
              " 'spraining',\n",
              " 'eider',\n",
              " 'yoking',\n",
              " 'rickety',\n",
              " 'whirlwinds',\n",
              " 'knockings',\n",
              " 'dismissed',\n",
              " 'popped',\n",
              " 'cherishing',\n",
              " 'chuckled',\n",
              " 'chuckle',\n",
              " 'mightily',\n",
              " 'catches',\n",
              " 'bamboozingly',\n",
              " 'overstocked',\n",
              " 'toothpick',\n",
              " 'rayther',\n",
              " 'BROWN',\n",
              " 'slanderin',\n",
              " 'farrago',\n",
              " 'BROKE',\n",
              " 'Sartain',\n",
              " 'Mt',\n",
              " 'Hecla',\n",
              " 'persist',\n",
              " 'mystifying',\n",
              " 'unsay',\n",
              " 'criminal',\n",
              " 'Wall',\n",
              " 'purty',\n",
              " 'sarmon',\n",
              " 'rips',\n",
              " 'tellin',\n",
              " 'bought',\n",
              " 'balmed',\n",
              " 'curios',\n",
              " 'sellin',\n",
              " 'inions',\n",
              " 'fooling',\n",
              " 'idolators',\n",
              " 'Depend',\n",
              " 'reg',\n",
              " 'lar',\n",
              " 'spliced',\n",
              " 'Johnny',\n",
              " 'sprawling',\n",
              " 'Arter',\n",
              " 'glim',\n",
              " 'jiffy',\n",
              " 'irresolute',\n",
              " 'vum',\n",
              " 'WON',\n",
              " 'Folding',\n",
              " 'scrutiny',\n",
              " 'porcupine',\n",
              " 'moccasin',\n",
              " 'ponchos',\n",
              " 'parade',\n",
              " 'rainy',\n",
              " 'remembering',\n",
              " 'commended',\n",
              " 'cobs',\n",
              " 'Nod',\n",
              " 'footfall',\n",
              " 'unlacing',\n",
              " 'blackish',\n",
              " 'plasters',\n",
              " 'inkling',\n",
              " 'Placing',\n",
              " 'crammed',\n",
              " 'scalp',\n",
              " 'mildewed',\n",
              " 'Ignorance',\n",
              " 'parent',\n",
              " 'nonplussed',\n",
              " 'undressing',\n",
              " 'checkered',\n",
              " 'Thirty',\n",
              " 'frogs',\n",
              " 'quaked',\n",
              " 'wrapall',\n",
              " 'dreadnaught',\n",
              " 'fumbled',\n",
              " 'Remembering',\n",
              " 'manikin',\n",
              " 'tenpin',\n",
              " 'andirons',\n",
              " 'jambs',\n",
              " 'bricks',\n",
              " 'appropriate',\n",
              " 'applying',\n",
              " 'hastier',\n",
              " 'withdrawals',\n",
              " 'antics',\n",
              " 'devotee',\n",
              " 'extinguishing',\n",
              " 'unceremoniously',\n",
              " 'bagged',\n",
              " 'sportsman',\n",
              " 'woodcock',\n",
              " 'uncomfortableness',\n",
              " 'deliberating',\n",
              " 'puffed',\n",
              " 'sang',\n",
              " 'Stammering',\n",
              " 'conjured',\n",
              " 'responses',\n",
              " 'debel',\n",
              " 'flourishing',\n",
              " 'Angels',\n",
              " 'flourishings',\n",
              " 'peddlin',\n",
              " 'sleepe',\n",
              " 'grunted',\n",
              " 'gettee',\n",
              " 'motioning',\n",
              " 'comely',\n",
              " 'insured',\n",
              " 'Counterpane',\n",
              " 'parti',\n",
              " 'triangles',\n",
              " 'interminable',\n",
              " 'caper',\n",
              " 'supperless',\n",
              " '21st',\n",
              " 'hemisphere',\n",
              " 'sigh',\n",
              " 'Sixteen',\n",
              " 'ached',\n",
              " 'coaches',\n",
              " 'stockinged',\n",
              " 'slippering',\n",
              " 'misbehaviour',\n",
              " 'unendurable',\n",
              " 'stepmothers',\n",
              " 'misfortunes',\n",
              " 'steeped',\n",
              " 'shudderingly',\n",
              " 'confounding',\n",
              " 'soberly',\n",
              " 'recurred',\n",
              " 'predicament',\n",
              " 'unlock',\n",
              " 'bridegroom',\n",
              " 'clasp',\n",
              " 'hugged',\n",
              " 'rouse',\n",
              " 'snore',\n",
              " 'scratch',\n",
              " 'Throwing',\n",
              " 'expostulations',\n",
              " 'unbecomingness',\n",
              " 'matrimonial',\n",
              " 'dawning',\n",
              " 'overture',\n",
              " 'innate',\n",
              " 'compliment',\n",
              " 'civility',\n",
              " 'rudeness',\n",
              " 'toilette',\n",
              " 'dressing',\n",
              " 'donning',\n",
              " 'gaspings',\n",
              " 'booting',\n",
              " 'caterpillar',\n",
              " 'outlandishness',\n",
              " 'manners',\n",
              " 'education',\n",
              " 'undergraduate',\n",
              " 'dreamt',\n",
              " 'cowhide',\n",
              " 'pinched',\n",
              " 'curtains',\n",
              " 'indecorous',\n",
              " 'contented',\n",
              " 'restricting',\n",
              " 'donned',\n",
              " 'lathering',\n",
              " 'unsheathes',\n",
              " 'whets',\n",
              " 'Rogers',\n",
              " 'cutlery',\n",
              " 'Afterwards',\n",
              " 'baton',\n",
              " 'Breakfast',\n",
              " 'pleasantly',\n",
              " 'bountifully',\n",
              " 'laughable',\n",
              " 'bosky',\n",
              " 'unshorn',\n",
              " 'gowns',\n",
              " 'toasted',\n",
              " 'lingers',\n",
              " 'tarried',\n",
              " 'barred',\n",
              " 'Grub',\n",
              " 'Park',\n",
              " 'assurance',\n",
              " 'polish',\n",
              " 'occasioned',\n",
              " 'embarrassed',\n",
              " 'bashfulness',\n",
              " 'duelled',\n",
              " 'winking',\n",
              " 'tastes',\n",
              " 'sheepishly',\n",
              " 'bashful',\n",
              " 'icicle',\n",
              " 'admirer',\n",
              " 'cordially',\n",
              " 'grappling',\n",
              " 'genteelly',\n",
              " 'eschewed',\n",
              " 'undivided',\n",
              " '6',\n",
              " 'circulating',\n",
              " 'nondescripts',\n",
              " 'Chestnut',\n",
              " 'jostle',\n",
              " 'Regent',\n",
              " 'Lascars',\n",
              " 'Bombay',\n",
              " 'Apollo',\n",
              " 'Feegeeans',\n",
              " 'Tongatobooarrs',\n",
              " 'Erromanggoans',\n",
              " 'Pannangians',\n",
              " 'Brighggians',\n",
              " 'weekly',\n",
              " 'Vermonters',\n",
              " 'stalwart',\n",
              " 'frames',\n",
              " 'felled',\n",
              " 'strutting',\n",
              " 'wester',\n",
              " 'bombazine',\n",
              " 'cloak',\n",
              " 'mow',\n",
              " 'gloves',\n",
              " 'joins',\n",
              " 'outfit',\n",
              " 'waistcoats',\n",
              " 'Hay',\n",
              " 'Seed',\n",
              " 'tract',\n",
              " 'dearest',\n",
              " 'pave',\n",
              " 'eggs',\n",
              " 'patrician',\n",
              " 'parks',\n",
              " 'scraggy',\n",
              " 'scoria',\n",
              " 'Herr',\n",
              " 'dowers',\n",
              " 'nieces',\n",
              " 'reservoirs',\n",
              " 'maples',\n",
              " 'bountiful',\n",
              " 'proffer',\n",
              " 'passer',\n",
              " 'cones',\n",
              " 'blossoms',\n",
              " 'superinduced',\n",
              " 'carnation',\n",
              " 'Salem',\n",
              " 'sweethearts',\n",
              " 'Puritanic',\n",
              " 'Whaleman',\n",
              " 'Wrapping',\n",
              " 'Each',\n",
              " 'quote',\n",
              " 'TALBOT',\n",
              " 'Near',\n",
              " 'Desolation',\n",
              " '1st',\n",
              " 'SISTER',\n",
              " 'ROBERT',\n",
              " 'WILLIS',\n",
              " 'ELLERY',\n",
              " 'NATHAN',\n",
              " 'COLEMAN',\n",
              " 'WALTER',\n",
              " 'CANNY',\n",
              " 'SETH',\n",
              " 'GLEIG',\n",
              " 'Forming',\n",
              " 'ELIZA',\n",
              " '31st',\n",
              " 'MARBLE',\n",
              " 'SHIPMATES',\n",
              " 'EZEKIEL',\n",
              " 'HARDY',\n",
              " 'AUGUST',\n",
              " '3d',\n",
              " '1833',\n",
              " 'WIDOW',\n",
              " 'Shaking',\n",
              " 'glazed',\n",
              " 'Affected',\n",
              " 'relatives',\n",
              " 'unhealing',\n",
              " 'sympathetically',\n",
              " 'wounds',\n",
              " 'bleed',\n",
              " 'blanks',\n",
              " ...]"
            ]
          },
          "metadata": {
            "tags": []
          },
          "execution_count": 37
        }
      ]
    },
    {
      "cell_type": "markdown",
      "metadata": {
        "id": "W0rNkRVIAe5F"
      },
      "source": [
        "It seems that there are too many rare words, and without seeing the context we probably can't guess what half of the hapaxes mean in any case! Since neither frequent nor infrequent words help, we need to try something else."
      ]
    },
    {
      "cell_type": "markdown",
      "metadata": {
        "id": "lv9SEWXD6_of"
      },
      "source": [
        "We can see that fdist1 contains some stop-words as we did not exactly clean text1. let's try it on the cleaned text3"
      ]
    },
    {
      "cell_type": "code",
      "metadata": {
        "id": "Q3AjgAhI69gK",
        "outputId": "559c7e69-e95a-4cb8-9a26-53e4365ebe41",
        "colab": {
          "base_uri": "https://localhost:8080/"
        }
      },
      "source": [
        "fdist3 = FreqDist(text_list3)\n",
        "fdist3.most_common(10)"
      ],
      "execution_count": 38,
      "outputs": [
        {
          "output_type": "execute_result",
          "data": {
            "text/plain": [
              "[('And', 1250),\n",
              " ('unto', 590),\n",
              " ('I', 484),\n",
              " ('said', 476),\n",
              " ('thou', 272),\n",
              " ('thy', 267),\n",
              " ('thee', 257),\n",
              " ('shall', 253),\n",
              " ('God', 231),\n",
              " ('father', 198)]"
            ]
          },
          "metadata": {
            "tags": []
          },
          "execution_count": 38
        }
      ]
    },
    {
      "cell_type": "code",
      "metadata": {
        "id": "HsBx_lbDqhc2",
        "outputId": "4bd7acd8-8b74-435d-cbef-c77099a75c4a",
        "colab": {
          "base_uri": "https://localhost:8080/"
        }
      },
      "source": [
        "fdist3.hapaxes()"
      ],
      "execution_count": 39,
      "outputs": [
        {
          "output_type": "execute_result",
          "data": {
            "text/plain": [
              "['form',\n",
              " 'void',\n",
              " 'Day',\n",
              " 'Night',\n",
              " 'firmame',\n",
              " 'Heaven',\n",
              " 'appe',\n",
              " 'Earth',\n",
              " 'signs',\n",
              " 'seasons',\n",
              " 'lesser',\n",
              " 'nig',\n",
              " 'darkne',\n",
              " 'fly',\n",
              " 'whales',\n",
              " 'winged',\n",
              " 'seas',\n",
              " 'likene',\n",
              " 'subdue',\n",
              " 'finished',\n",
              " 'sanctified',\n",
              " 'plant',\n",
              " 'gr',\n",
              " 'mist',\n",
              " 'breathed',\n",
              " 'parted',\n",
              " 'Pison',\n",
              " 'bdellium',\n",
              " 'onyx',\n",
              " 'Gihon',\n",
              " 'Ethiopia',\n",
              " 'Hiddekel',\n",
              " 'Assyria',\n",
              " 'Euphrates',\n",
              " 'freely',\n",
              " 'eatest',\n",
              " 'sle',\n",
              " 'ribs',\n",
              " 'rib',\n",
              " 'Woman',\n",
              " 'Man',\n",
              " 'cleave',\n",
              " 'ashamed',\n",
              " 'subtil',\n",
              " 'gard',\n",
              " 'knowing',\n",
              " 'desired',\n",
              " 'sewed',\n",
              " 'fig',\n",
              " 'leaves',\n",
              " 'aprons',\n",
              " 'walking',\n",
              " 'cool',\n",
              " 'whereof',\n",
              " 'gavest',\n",
              " 'belly',\n",
              " 'enmity',\n",
              " 'conception',\n",
              " 'Thorns',\n",
              " 'thistles',\n",
              " 'sweat',\n",
              " 'tak',\n",
              " 'coats',\n",
              " 'clothed',\n",
              " 'Cherubims',\n",
              " 'flaming',\n",
              " 'tiller',\n",
              " 'firstlings',\n",
              " 'fallen',\n",
              " 'crieth',\n",
              " 'tillest',\n",
              " 'henceforth',\n",
              " 'punishment',\n",
              " 'driven',\n",
              " 'findeth',\n",
              " 'whosoever',\n",
              " 'slayeth',\n",
              " 'vengeance',\n",
              " 'mark',\n",
              " 'finding',\n",
              " 'Nod',\n",
              " 'Methusa',\n",
              " 'Methusael',\n",
              " 'Jabal',\n",
              " 'Jubal',\n",
              " 'handle',\n",
              " 'organ',\n",
              " 'instructor',\n",
              " 'artificer',\n",
              " 'brass',\n",
              " 'ir',\n",
              " 'Naamah',\n",
              " 'spee',\n",
              " 'wounding',\n",
              " 'avenged',\n",
              " 'En',\n",
              " 'book',\n",
              " 'Male',\n",
              " 'begotten',\n",
              " 'Eno',\n",
              " 'always',\n",
              " 'giants',\n",
              " 'renown',\n",
              " 'thoughts',\n",
              " 'repented',\n",
              " 'repenteth',\n",
              " 'corrupted',\n",
              " 'gopher',\n",
              " 'rooms',\n",
              " 'fashion',\n",
              " 'height',\n",
              " 'cubit',\n",
              " 'finish',\n",
              " 'lower',\n",
              " 'stories',\n",
              " 'fema',\n",
              " 'cause',\n",
              " 'bird',\n",
              " 'hills',\n",
              " 'Fifteen',\n",
              " 'upward',\n",
              " 'asswaged',\n",
              " 'Ararat',\n",
              " 'decreased',\n",
              " 'tops',\n",
              " 'raven',\n",
              " 'fro',\n",
              " 'sole',\n",
              " 'olive',\n",
              " 'leaf',\n",
              " 'pluckt',\n",
              " 'twentieth',\n",
              " 'breed',\n",
              " 'kinds',\n",
              " 'offerings',\n",
              " 'sweet',\n",
              " 'savour',\n",
              " 'While',\n",
              " 'remaineth',\n",
              " 'seedtime',\n",
              " 'cold',\n",
              " 'summer',\n",
              " 'winter',\n",
              " 'cease',\n",
              " 'dread',\n",
              " 'fishes',\n",
              " 'liveth',\n",
              " 'Whoso',\n",
              " 'sheddeth',\n",
              " 'shed',\n",
              " 'perpetual',\n",
              " 'clo',\n",
              " 'overspread',\n",
              " 'husbandman',\n",
              " 'vineyard',\n",
              " 'drunken',\n",
              " 'uncovered',\n",
              " 'shoulders',\n",
              " 'enlarge',\n",
              " 'Magog',\n",
              " 'Madai',\n",
              " 'Tubal',\n",
              " 'Meshech',\n",
              " 'Tiras',\n",
              " 'Ashkenaz',\n",
              " 'Riphath',\n",
              " 'Togarmah',\n",
              " 'Elishah',\n",
              " 'Tarshish',\n",
              " 'Kittim',\n",
              " 'Dodanim',\n",
              " 'isles',\n",
              " 'Gentiles',\n",
              " 'tongue',\n",
              " 'Phut',\n",
              " 'Seba',\n",
              " 'Sabtah',\n",
              " 'Sabtech',\n",
              " 'Erech',\n",
              " 'Accad',\n",
              " 'Calneh',\n",
              " 'Resen',\n",
              " 'Ludim',\n",
              " 'Anamim',\n",
              " 'Lehabim',\n",
              " 'Naphtuhim',\n",
              " 'Pathrusim',\n",
              " 'Casluhim',\n",
              " 'Philistim',\n",
              " ',)',\n",
              " 'Caphtorim',\n",
              " 'Jebusite',\n",
              " 'Girgasite',\n",
              " 'Arkite',\n",
              " 'Sinite',\n",
              " 'Arvadite',\n",
              " 'Zemarite',\n",
              " 'Hamathite',\n",
              " 'Gaza',\n",
              " 'Zeboim',\n",
              " 'Lasha',\n",
              " 'Lud',\n",
              " 'Hul',\n",
              " 'Gether',\n",
              " 'Mash',\n",
              " 'Almodad',\n",
              " 'Sheleph',\n",
              " 'Hazarmaveth',\n",
              " 'Jerah',\n",
              " 'Hadoram',\n",
              " 'Uzal',\n",
              " 'Diklah',\n",
              " 'Obal',\n",
              " 'Abimael',\n",
              " 'Ophir',\n",
              " 'Mesha',\n",
              " 'Sephar',\n",
              " 'natio',\n",
              " 'thoroughly',\n",
              " 'slime',\n",
              " 'morter',\n",
              " 'reach',\n",
              " 'begin',\n",
              " 'imagined',\n",
              " 'flo',\n",
              " 'nineteen',\n",
              " 'nativity',\n",
              " 'Iscah',\n",
              " 'blessi',\n",
              " 'Sichem',\n",
              " 'Moreh',\n",
              " 'enter',\n",
              " 'commended',\n",
              " 'entreated',\n",
              " 'plagued',\n",
              " 'plagues',\n",
              " 'rich',\n",
              " 'journeys',\n",
              " 'fir',\n",
              " 'Perizzite',\n",
              " 'sinners',\n",
              " 'northward',\n",
              " 'southward',\n",
              " 'westwa',\n",
              " 'war',\n",
              " 'Bera',\n",
              " 'Birsha',\n",
              " 'Shinab',\n",
              " 'Shemeber',\n",
              " 'Twelve',\n",
              " 'thirteenth',\n",
              " 'rebelled',\n",
              " 'fourteenth',\n",
              " 'Ashteroth',\n",
              " 'Karnaim',\n",
              " 'Zuzims',\n",
              " 'Emins',\n",
              " 'Kiriathaim',\n",
              " 'Elparan',\n",
              " 'Enmishpat',\n",
              " 'Amalekites',\n",
              " 'Hazezontamar',\n",
              " ';)',\n",
              " 'battle',\n",
              " 'slimepits',\n",
              " 'victuals',\n",
              " 'escaped',\n",
              " 'An',\n",
              " 'confederate',\n",
              " 'armed',\n",
              " 'trained',\n",
              " 'eighteen',\n",
              " 'Hobah',\n",
              " 'slaughter',\n",
              " 'dale',\n",
              " 'Melchizedek',\n",
              " 'Salem',\n",
              " 'tithes',\n",
              " 'shoelatchet',\n",
              " 'ri',\n",
              " 'Save',\n",
              " 'Aner',\n",
              " 'vision',\n",
              " 'Abr',\n",
              " 'shield',\n",
              " 'reward',\n",
              " 'childless',\n",
              " 'Eliezer',\n",
              " 'Look',\n",
              " 'heifer',\n",
              " 'goat',\n",
              " 'turtledove',\n",
              " 'pigeon',\n",
              " 'piece',\n",
              " 'carcases',\n",
              " 'horror',\n",
              " 'dark',\n",
              " 'smoking',\n",
              " 'burning',\n",
              " 'lamp',\n",
              " 'Euphrat',\n",
              " 'Kenites',\n",
              " 'Kenizzites',\n",
              " 'Kadmonites',\n",
              " 'Hittites',\n",
              " 'Perizzites',\n",
              " 'Girgashites',\n",
              " 'Jebusites',\n",
              " 'beari',\n",
              " 'obtain',\n",
              " 'wrong',\n",
              " 'bosom',\n",
              " 'hardly',\n",
              " 'submit',\n",
              " 'wild',\n",
              " 'Beerlahairoi',\n",
              " 'Bered',\n",
              " 'Neither',\n",
              " 'circumcise',\n",
              " 'circumcis',\n",
              " 'beget',\n",
              " 'next',\n",
              " 'talking',\n",
              " 'thirteen',\n",
              " 'plains',\n",
              " 'tr',\n",
              " 'morsel',\n",
              " 'hearts',\n",
              " 'measures',\n",
              " 'meal',\n",
              " 'knead',\n",
              " 'cakes',\n",
              " 'hearth',\n",
              " 'herd',\n",
              " 'fetcht',\n",
              " 'butter',\n",
              " 'dressed',\n",
              " 'ceased',\n",
              " 'pleasure',\n",
              " 'At',\n",
              " 'denied',\n",
              " 'Seeing',\n",
              " 'justice',\n",
              " 'judgment',\n",
              " 'altogether',\n",
              " 'wick',\n",
              " 'Judge',\n",
              " 'sakes',\n",
              " 'ash',\n",
              " 'spe',\n",
              " 'communing',\n",
              " 'lords',\n",
              " 'ways',\n",
              " 'street',\n",
              " 'bake',\n",
              " 'unleavened',\n",
              " 'compassed',\n",
              " 'quart',\n",
              " 'wickedly',\n",
              " 'shadow',\n",
              " 'roof',\n",
              " 'Stand',\n",
              " 'fellow',\n",
              " 'jud',\n",
              " 'worse',\n",
              " 'blindness',\n",
              " 'wearied',\n",
              " 'waxen',\n",
              " 'married',\n",
              " 'mocked',\n",
              " 'merciful',\n",
              " 'Escape',\n",
              " 'stay',\n",
              " 'magnified',\n",
              " 'saving',\n",
              " '?)',\n",
              " 'anything',\n",
              " 'risen',\n",
              " 'rained',\n",
              " 'brimstone',\n",
              " 'gat',\n",
              " 'Zo',\n",
              " 'Our',\n",
              " 'morrow',\n",
              " 'Moabites',\n",
              " 'Benam',\n",
              " 'Ammon',\n",
              " 'Said',\n",
              " 'innocency',\n",
              " 'sinning',\n",
              " 'prophet',\n",
              " 'deeds',\n",
              " 'sawest',\n",
              " 'wander',\n",
              " 'thousand',\n",
              " 'oth',\n",
              " 'prayed',\n",
              " 'healed',\n",
              " 'fast',\n",
              " 'wombs',\n",
              " 'visited',\n",
              " 'suck',\n",
              " 'mocking',\n",
              " 'Cast',\n",
              " 'putting',\n",
              " 'wandered',\n",
              " 'shrubs',\n",
              " 'sh',\n",
              " 'aileth',\n",
              " 'archer',\n",
              " 'Paran',\n",
              " 'doe',\n",
              " 'falsely',\n",
              " 'violently',\n",
              " 'mean',\n",
              " 'grove',\n",
              " 'tempt',\n",
              " 'lovest',\n",
              " 'Moriah',\n",
              " 'offer',\n",
              " 'saddled',\n",
              " 'Abide',\n",
              " 'yonder',\n",
              " 'worship',\n",
              " 'order',\n",
              " 'Lay',\n",
              " 'fearest',\n",
              " 'thicket',\n",
              " 'hor',\n",
              " 'Jehovahjireh',\n",
              " 'sworn',\n",
              " 'multiplying',\n",
              " 'shore',\n",
              " 'Huz',\n",
              " 'Buz',\n",
              " 'Kemuel',\n",
              " 'Chesed',\n",
              " 'Hazo',\n",
              " 'Pildash',\n",
              " 'Jidlaph',\n",
              " 'Reumah',\n",
              " 'Tebah',\n",
              " 'Gaham',\n",
              " 'Thahash',\n",
              " 'Maachah',\n",
              " 'Kirjatharba',\n",
              " 'mourn',\n",
              " 'sojourner',\n",
              " 'sepulchres',\n",
              " 'withhold',\n",
              " 'sepulchre',\n",
              " 'intreat',\n",
              " 'weighed',\n",
              " 'current',\n",
              " 'merchant',\n",
              " 'Mam',\n",
              " 'ruled',\n",
              " 'Beware',\n",
              " 'oa',\n",
              " 'Mesopotamia',\n",
              " 'kneel',\n",
              " 'speed',\n",
              " 'thereby',\n",
              " 'giving',\n",
              " 'trough',\n",
              " 'wondering',\n",
              " 'wit',\n",
              " 'golden',\n",
              " 'half',\n",
              " 'shekel',\n",
              " 'destitute',\n",
              " 'tru',\n",
              " 'standest',\n",
              " 'ungirded',\n",
              " 'errand',\n",
              " 'Speak',\n",
              " 'Both',\n",
              " 'proceedeth',\n",
              " 'bowing',\n",
              " 'Rebek',\n",
              " 'precious',\n",
              " 'Hinder',\n",
              " 'prospered',\n",
              " 'thousands',\n",
              " 'millions',\n",
              " 'damsels',\n",
              " 'rode',\n",
              " 'meditate',\n",
              " 'eventide',\n",
              " 'coming',\n",
              " 'walketh',\n",
              " 'mast',\n",
              " 'Zimran',\n",
              " 'Medan',\n",
              " 'Ishbak',\n",
              " 'Asshurim',\n",
              " 'Letushim',\n",
              " 'Leummim',\n",
              " 'Ephah',\n",
              " 'Epher',\n",
              " 'Abidah',\n",
              " 'Eldaah',\n",
              " 'concubines',\n",
              " 'gifts',\n",
              " 'purchased',\n",
              " 'Kedar',\n",
              " 'Adbeel',\n",
              " 'Mibsam',\n",
              " 'Mishma',\n",
              " 'Dumah',\n",
              " 'Massa',\n",
              " 'Tema',\n",
              " 'Jetur',\n",
              " 'Naphish',\n",
              " 'Kedemah',\n",
              " 'towns',\n",
              " 'castles',\n",
              " 'Assyr',\n",
              " 'barr',\n",
              " 'struggled',\n",
              " 'boys',\n",
              " 'cunning',\n",
              " 'sod',\n",
              " 'Feed',\n",
              " 'Sell',\n",
              " 'point',\n",
              " 'lentiles',\n",
              " 'Sojourn',\n",
              " 'perform',\n",
              " 'commandments',\n",
              " 'statutes',\n",
              " 'laws',\n",
              " 'sporting',\n",
              " 'lightly',\n",
              " 'lien',\n",
              " 'guiltiness',\n",
              " 'toucheth',\n",
              " 'sowed',\n",
              " 'received',\n",
              " 'hundredfo',\n",
              " 'forward',\n",
              " 'mightier',\n",
              " 'springing',\n",
              " 'ou',\n",
              " 'Esek',\n",
              " 'Sitnah',\n",
              " 'Ahuzzath',\n",
              " 'friends',\n",
              " 'army',\n",
              " 'pea',\n",
              " 'betimes',\n",
              " 'Shebah',\n",
              " 'Judith',\n",
              " 'Beeri',\n",
              " 'Hitti',\n",
              " 'Which',\n",
              " 'grief',\n",
              " 'dea',\n",
              " 'weapons',\n",
              " 'quiver',\n",
              " 'hunt',\n",
              " 'seem',\n",
              " 'deceiver',\n",
              " 'Upon',\n",
              " 'ne',\n",
              " 'badest',\n",
              " 'sit',\n",
              " 'felt',\n",
              " 'discerned',\n",
              " 'han',\n",
              " 'Art',\n",
              " 'wi',\n",
              " 'blesseth',\n",
              " 'scarce',\n",
              " 'hunting',\n",
              " 'trembled',\n",
              " 'bitter',\n",
              " 'Bless',\n",
              " 'subtilty',\n",
              " 'rightly',\n",
              " 'supplanted',\n",
              " 'tim',\n",
              " 'reserved',\n",
              " 'sustained',\n",
              " 'yoke',\n",
              " 'wherewith',\n",
              " 'touching',\n",
              " 'purposing',\n",
              " 'fury',\n",
              " 'Until',\n",
              " 'deprived',\n",
              " 'weary',\n",
              " 'Mahalath',\n",
              " 'ladder',\n",
              " 'reached',\n",
              " 'heav',\n",
              " 'ascending',\n",
              " 'descending',\n",
              " 'whereon',\n",
              " 'liest',\n",
              " 'north',\n",
              " 'awaked',\n",
              " 'dreadful',\n",
              " 'vowed',\n",
              " 'floc',\n",
              " 'roll',\n",
              " 'tidings',\n",
              " 'nought',\n",
              " 'eyed',\n",
              " 'beautiful',\n",
              " 'better',\n",
              " 'Fulfil',\n",
              " 'Reub',\n",
              " 'judged',\n",
              " 'wrestlings',\n",
              " 'Happy',\n",
              " 'wheat',\n",
              " 'hired',\n",
              " 'maiden',\n",
              " 'husba',\n",
              " 'endued',\n",
              " 'afterwards',\n",
              " 'reproa',\n",
              " 'add',\n",
              " 'tar',\n",
              " 'learned',\n",
              " 'experience',\n",
              " 'Appoint',\n",
              " 'comi',\n",
              " 'removing',\n",
              " 'goa',\n",
              " 'poplar',\n",
              " 'hazel',\n",
              " 'chesnut',\n",
              " 'strakes',\n",
              " 'appear',\n",
              " 'watering',\n",
              " 'troughs',\n",
              " 'whensoever',\n",
              " 'feeble',\n",
              " 'feebler',\n",
              " 'deceived',\n",
              " 'speckl',\n",
              " 'leaped',\n",
              " 'grisled',\n",
              " 'leap',\n",
              " 'grisl',\n",
              " 'doeth',\n",
              " 'anointedst',\n",
              " 'vowedst',\n",
              " 'Are',\n",
              " 'quite',\n",
              " 'getting',\n",
              " 'stole',\n",
              " 'mou',\n",
              " 'captives',\n",
              " 'secretly',\n",
              " 'mirth',\n",
              " 'songs',\n",
              " 'tabret',\n",
              " 'foolishly',\n",
              " 'longedst',\n",
              " 'force',\n",
              " 'findest',\n",
              " 'discern',\n",
              " 'furniture',\n",
              " 'displease',\n",
              " 'custom',\n",
              " 'chode',\n",
              " 'hotly',\n",
              " 'Whereas',\n",
              " 'loss',\n",
              " 'drought',\n",
              " 'frost',\n",
              " 'mi',\n",
              " 'Jegarsahadutha',\n",
              " 'Mizpah',\n",
              " 'watch',\n",
              " 'absent',\n",
              " 'harm',\n",
              " 'sacrifice',\n",
              " 'Mahanaim',\n",
              " 'womenservan',\n",
              " 'distressed',\n",
              " 'worthy',\n",
              " 'mercies',\n",
              " 'Deliver',\n",
              " 'Thirty',\n",
              " 'milch',\n",
              " 'colts',\n",
              " 'bulls',\n",
              " 'foals',\n",
              " 'Pass',\n",
              " 'meeteth',\n",
              " 'asketh',\n",
              " 'droves',\n",
              " 'appease',\n",
              " 'accept',\n",
              " 'ford',\n",
              " 'Jabbok',\n",
              " 'brook',\n",
              " 'breaking',\n",
              " 'joint',\n",
              " 'breaketh',\n",
              " 'Tell',\n",
              " 'ask',\n",
              " 'Peniel',\n",
              " 'preserved',\n",
              " 'Penuel',\n",
              " 'halted',\n",
              " 'hindermost',\n",
              " 'handmaidens',\n",
              " 'meanest',\n",
              " 'urged',\n",
              " 'knoweth',\n",
              " 'overdrive',\n",
              " 'lead',\n",
              " 'softly',\n",
              " 'endure',\n",
              " 'folk',\n",
              " 'needeth',\n",
              " 'booths',\n",
              " 'Shalem',\n",
              " 'parcel',\n",
              " 'erected',\n",
              " 'EleloheIsrael',\n",
              " 'commune',\n",
              " 'wrought',\n",
              " 'folly',\n",
              " 'longeth',\n",
              " 'marriages',\n",
              " 'Ask',\n",
              " 'gift',\n",
              " 'deceitfully',\n",
              " 'reproach',\n",
              " 'deferred',\n",
              " 'delight',\n",
              " 'honourable',\n",
              " 'peaceable',\n",
              " 'large',\n",
              " 'herein',\n",
              " 'boldly',\n",
              " 'males',\n",
              " 'edge',\n",
              " 'wealth',\n",
              " 'stink',\n",
              " 'Perizzit',\n",
              " 'Should',\n",
              " 'fleddest',\n",
              " 'change',\n",
              " 'garmen',\n",
              " 'earrings',\n",
              " 'oak',\n",
              " 'terror',\n",
              " 'pursue',\n",
              " 'Elbethel',\n",
              " 'Deborah',\n",
              " 'beneath',\n",
              " 'Allonbachuth',\n",
              " 'na',\n",
              " 'sto',\n",
              " 'departing',\n",
              " 'Beno',\n",
              " 'Edar',\n",
              " 'concubi',\n",
              " 'twel',\n",
              " 'Zebul',\n",
              " 'Arbah',\n",
              " 'Amal',\n",
              " 'Amalek',\n",
              " 'Kor',\n",
              " 'Horite',\n",
              " 'inhabited',\n",
              " 'Hemam',\n",
              " 'Alvan',\n",
              " 'Manahath',\n",
              " 'Ebal',\n",
              " 'Shepho',\n",
              " 'Onam',\n",
              " 'Ajah',\n",
              " 'mules',\n",
              " 'Hemdan',\n",
              " 'Eshban',\n",
              " 'Ithran',\n",
              " 'Cheran',\n",
              " 'Bilhan',\n",
              " 'Zaavan',\n",
              " 'Akan',\n",
              " 'Aran',\n",
              " 'Beor',\n",
              " 'Dinhabah',\n",
              " 'Bozrah',\n",
              " 'Temani',\n",
              " 'Bedad',\n",
              " 'Avith',\n",
              " 'Masrekah',\n",
              " 'Pau',\n",
              " 'Mehetabel',\n",
              " 'Matred',\n",
              " 'Mezahab',\n",
              " 'Timnah',\n",
              " 'Alvah',\n",
              " 'Jetheth',\n",
              " 'Elah',\n",
              " 'Pinon',\n",
              " 'Mibzar',\n",
              " 'Magdiel',\n",
              " 'Iram',\n",
              " 'possessi',\n",
              " 'feeding',\n",
              " 'wiv',\n",
              " 'report',\n",
              " 'peaceably',\n",
              " 'binding',\n",
              " 'upright',\n",
              " 'Shalt',\n",
              " 'reign',\n",
              " 'moon',\n",
              " 'observed',\n",
              " 'wandering',\n",
              " 'seekest',\n",
              " 'conspired',\n",
              " 'dreamer',\n",
              " 'Some',\n",
              " 'Shed',\n",
              " 'rid',\n",
              " 'stript',\n",
              " 'spicery',\n",
              " 'conceal',\n",
              " 'sell',\n",
              " 'content',\n",
              " 'merchantmen',\n",
              " 'killed',\n",
              " 'dipped',\n",
              " 'fou',\n",
              " 'doubt',\n",
              " 'sackcloth',\n",
              " 'Shel',\n",
              " 'Chezib',\n",
              " 'marry',\n",
              " 'raise',\n",
              " 'spilled',\n",
              " 'Remain',\n",
              " 'gro',\n",
              " 'sheepshearers',\n",
              " 'wrapped',\n",
              " 'grown',\n",
              " '.)',\n",
              " 'widowhood',\n",
              " 'openly',\n",
              " 'shamed',\n",
              " 'months',\n",
              " 'played',\n",
              " 'whoredom',\n",
              " 'chi',\n",
              " 'Discern',\n",
              " 'acknowledged',\n",
              " 'travail',\n",
              " 'breach',\n",
              " 'Zarah',\n",
              " 'person',\n",
              " 'wotteth',\n",
              " 'business',\n",
              " 'loud',\n",
              " 'voi',\n",
              " 'bou',\n",
              " 'doer',\n",
              " 'butlers',\n",
              " 'bakers',\n",
              " 'continued',\n",
              " 'season',\n",
              " 'sad',\n",
              " 'sadly',\n",
              " 'interpretations',\n",
              " 'belong',\n",
              " 'budded',\n",
              " 'blossoms',\n",
              " 'clusters',\n",
              " 'ripe',\n",
              " 'grapes',\n",
              " 'former',\n",
              " 'think',\n",
              " 'mention',\n",
              " 'dungeon',\n",
              " 'uppermost',\n",
              " 'bakemeats',\n",
              " 'hang',\n",
              " 'birthday',\n",
              " 'butlership',\n",
              " 'forgat',\n",
              " 'meadow',\n",
              " 'brink',\n",
              " 'slept',\n",
              " 'faults',\n",
              " 'bak',\n",
              " 'office',\n",
              " 'hastily',\n",
              " 'dunge',\n",
              " 'shaved',\n",
              " 'canst',\n",
              " 'bank',\n",
              " 'riv',\n",
              " 'mead',\n",
              " 'poor',\n",
              " 'badne',\n",
              " 'lean',\n",
              " 'withered',\n",
              " 'declare',\n",
              " 'sheweth',\n",
              " 'forgotten',\n",
              " 'consume',\n",
              " 'following',\n",
              " 'doubled',\n",
              " 'twice',\n",
              " 'shortly',\n",
              " 'appoint',\n",
              " 'perish',\n",
              " 'Can',\n",
              " 'Forasmuch',\n",
              " 'rul',\n",
              " 'throne',\n",
              " 'ring',\n",
              " 'arrayed',\n",
              " 'vestures',\n",
              " 'linen',\n",
              " 'chain',\n",
              " 'ride',\n",
              " 'Bow',\n",
              " 'kn',\n",
              " 'Zaphnathpaaneah',\n",
              " 'handfuls',\n",
              " 'citi',\n",
              " 'numbering',\n",
              " 'plenteousness',\n",
              " 'famished',\n",
              " 'storehouses',\n",
              " 'Whence',\n",
              " 'From',\n",
              " 'spi',\n",
              " 'pris',\n",
              " 'hous',\n",
              " 'verified',\n",
              " 'verily',\n",
              " 'guilty',\n",
              " 'anguish',\n",
              " 'besought',\n",
              " 'Spake',\n",
              " 'required',\n",
              " 'understood',\n",
              " 'espied',\n",
              " 'befell',\n",
              " 'traffick',\n",
              " 'bundle',\n",
              " 'bundles',\n",
              " 'Me',\n",
              " 'childr',\n",
              " 'Slay',\n",
              " 'alo',\n",
              " 'solemnly',\n",
              " 'protest',\n",
              " 'straitly',\n",
              " 'state',\n",
              " 'tenor',\n",
              " 'wor',\n",
              " 'fruits',\n",
              " 'vessels',\n",
              " 'honey',\n",
              " 'spices',\n",
              " 'nuts',\n",
              " 'almon',\n",
              " 'oversig',\n",
              " 'dine',\n",
              " 'bade',\n",
              " 'occasion',\n",
              " 'sir',\n",
              " 'weig',\n",
              " 'Peace',\n",
              " 'treasure',\n",
              " 'sac',\n",
              " 'welfare',\n",
              " 'health',\n",
              " 'gracious',\n",
              " 'yearn',\n",
              " 'sought',\n",
              " 'chamber',\n",
              " 'refrained',\n",
              " 'Set',\n",
              " 'marvelled',\n",
              " 'messes',\n",
              " 'mess',\n",
              " 'merry',\n",
              " 'Fill',\n",
              " 'overtake',\n",
              " 'rewarded',\n",
              " 'drinketh',\n",
              " 'divineth',\n",
              " 'mouths',\n",
              " 'blameless',\n",
              " 'speedily',\n",
              " 'younge',\n",
              " ...]"
            ]
          },
          "metadata": {
            "tags": []
          },
          "execution_count": 39
        }
      ]
    },
    {
      "cell_type": "markdown",
      "metadata": {
        "id": "i3WU5AiIA59O"
      },
      "source": [
        "**3.2 Fine-grained Selection of Words:**\n",
        "\n",
        "Next, let's look at the long words of a text; perhaps these will be more characteristic and informative. We would like to find the words from the vocabulary of the text that are more than 15 characters long"
      ]
    },
    {
      "cell_type": "code",
      "metadata": {
        "id": "8V3_KQwb8nc1"
      },
      "source": [
        "# First let's get only unique tokens in list1\n",
        "v = get_unique_tokens(text1)[1]\n",
        "\n",
        "# Next we grab a list of these unique items if each item is > 15 Chars\n",
        "long_words = [token for token in v if len(token) > 15]"
      ],
      "execution_count": 40,
      "outputs": []
    },
    {
      "cell_type": "markdown",
      "metadata": {
        "id": "i9KHHnmQHX-x"
      },
      "source": [
        "Let's see the sorted long words"
      ]
    },
    {
      "cell_type": "code",
      "metadata": {
        "id": "drhP5nenHcaH",
        "outputId": "783d15ea-5891-416a-ee5a-48ae73f20db1",
        "colab": {
          "base_uri": "https://localhost:8080/"
        }
      },
      "source": [
        "sorted(long_words)"
      ],
      "execution_count": 41,
      "outputs": [
        {
          "output_type": "execute_result",
          "data": {
            "text/plain": [
              "['CIRCUMNAVIGATION',\n",
              " 'Physiognomically',\n",
              " 'apprehensiveness',\n",
              " 'cannibalistically',\n",
              " 'characteristically',\n",
              " 'circumnavigating',\n",
              " 'circumnavigation',\n",
              " 'circumnavigations',\n",
              " 'comprehensiveness',\n",
              " 'hermaphroditical',\n",
              " 'indiscriminately',\n",
              " 'indispensableness',\n",
              " 'irresistibleness',\n",
              " 'physiognomically',\n",
              " 'preternaturalness',\n",
              " 'responsibilities',\n",
              " 'simultaneousness',\n",
              " 'subterraneousness',\n",
              " 'supernaturalness',\n",
              " 'superstitiousness',\n",
              " 'uncomfortableness',\n",
              " 'uncompromisedness',\n",
              " 'undiscriminating',\n",
              " 'uninterpenetratingly']"
            ]
          },
          "metadata": {
            "tags": []
          },
          "execution_count": 41
        }
      ]
    },
    {
      "cell_type": "markdown",
      "metadata": {
        "id": "16GszixUH0SP"
      },
      "source": [
        "Let's see long words for text5, the chat-corpus document"
      ]
    },
    {
      "cell_type": "code",
      "metadata": {
        "id": "QKR88vyZH3zu",
        "outputId": "602cdead-216c-4ff6-ffbd-c789889dff57",
        "colab": {
          "base_uri": "https://localhost:8080/"
        }
      },
      "source": [
        "# First let's get only unique tokens in list1\n",
        "v = get_unique_tokens(text5)[1]\n",
        "\n",
        "# Next we grab a list of these unique items if each item is > 15 Chars\n",
        "long_words = [token for token in v if len(token) > 15]\n",
        "\n",
        "sorted(long_words)"
      ],
      "execution_count": 42,
      "outputs": [
        {
          "output_type": "execute_result",
          "data": {
            "text/plain": [
              "['!!!!!!!!!!!!!!!!',\n",
              " '!!!!!!!!!!!!!!!!!!!!!!',\n",
              " '!!!!!!!!!!!!!!!!!!!!!!!',\n",
              " '!!!!!!!!!!!!!!!!!!!!!!!!!!!',\n",
              " '!!!!!!!!!!!!!!!!!!!!!!!!!!!!',\n",
              " '!!!!!!!!!!!!!!!!!!!!!!!!!!!!!!!!!!!!!!!!!!!!!!!!!!!!!!',\n",
              " '#talkcity_adults',\n",
              " '(((((((((((((((((',\n",
              " '((((((((((((((((((',\n",
              " '((((((((((((((((((((',\n",
              " '(((((((((((((((((((((',\n",
              " '(((((((((((((((((((((((',\n",
              " '((((((((((((((((((((((((',\n",
              " '(((((((((((((((((((((((((',\n",
              " '((((((((((((((((((((((((((',\n",
              " ')))))))))))))))))',\n",
              " ')))))))))))))))))))',\n",
              " ')))))))))))))))))))))',\n",
              " '))))))))))))))))))))))',\n",
              " '))))))))))))))))))))))))))))',\n",
              " ')))))))))))))))))))))))))))))))',\n",
              " '--------------------',\n",
              " '.(..(.vMp3 v1.7.4.).)',\n",
              " '.(..(.vMp3 vi.p.t.)..).',\n",
              " '................',\n",
              " '..................',\n",
              " '...................',\n",
              " '....................',\n",
              " '........................',\n",
              " '..............................',\n",
              " '.A.n.a.c.?.n.?.a.',\n",
              " '//www.wunderground.com/cgi-bin/findweather/getForecast?query=95953#FIR',\n",
              " '<3333333333333333',\n",
              " '<33333333333333333',\n",
              " 'BAAAAALLLLLLLLIIIIIIINNNNNNNNNNN',\n",
              " 'Bloooooooooooood',\n",
              " 'HHEEYYYYYYYYYYYYYYYYYYYYYYYYYYYYYYYYYYYYYYYYYYYYYYY',\n",
              " 'HolocaustYourMom',\n",
              " 'Mooooooooooooooooooooooooooo',\n",
              " 'Nooooooooooooooo',\n",
              " 'WEEEEEEEEEEEEEEEEEE',\n",
              " '[[[[[[[[[[[[[[[[[[',\n",
              " ']]]]]]]]]]]]]]]]]]]]]',\n",
              " 'aaaaaaaaaaaaaaaaa',\n",
              " 'agurlwithbigguns',\n",
              " 'aiiiiiiiiiiiiiiiiiiiiiiii',\n",
              " 'anyyyyyyyyyyyyyyyyy',\n",
              " 'backfrontsidewaysandallaroundtheworld',\n",
              " 'bbbbbyyyyyyyeeeeeeeee',\n",
              " 'boooooooooooglyyyyyy',\n",
              " 'bwahahahahahahahahahaha',\n",
              " 'cooooooooookiiiiiiiiiiiieeeeeeeeeeee',\n",
              " 'eeeeeeeeewwwwwwww',\n",
              " 'grrrrrrrrrrrrrrrrr',\n",
              " 'hahahahahahahahahahahahahahahaha',\n",
              " 'heeheeheeheeheehee',\n",
              " 'heyyyyyyyyyyyyyy',\n",
              " 'http://forums.talkcity.com/tc-adults/start ',\n",
              " 'http://www.shadowbots.com',\n",
              " 'huuuuuuuuuuuuuuuuuuuuuuuuuuuuuuuuuuugZ',\n",
              " 'iamahotniplickme',\n",
              " 'iamahotnipwithhotnippics',\n",
              " 'iamahotnipwithpics',\n",
              " 'lllllllliiiiiiiiiikeee',\n",
              " 'llloooozzzzeeerrrrzzzzzzzzzzzzzzzzzzzzzzzzzzzzzzzzzzzzzzzzzzzzzzzzz',\n",
              " 'miiiiiiiiiiiiinnnnnnnnnnneeeeeeeeee',\n",
              " 'miiiiiinnnnnnnnnneeeeeeee',\n",
              " 'mikeeeeeeeeeeeeeeeeeeeeeeeeee',\n",
              " 'mmmmmmmmiiiiiiiiinnnnnnnnneeeeeeee',\n",
              " 'muahssssssssssssssss',\n",
              " 'muahsssssssssssssssssss',\n",
              " 'niteeeeeeeeeeeeeeeeeee',\n",
              " 'ohhhhhhhhhhhhhhhh',\n",
              " 'oooooooooooglyyyyyyyy',\n",
              " 'oooooooooooooonnnnnnnnnnnneeeeeeeeeeeeeeesssssssss',\n",
              " 'raaaaaaaaaaaaaaaaaaaaaaaaaaaaa',\n",
              " 'tatatatnanaantatat',\n",
              " 'weeeeeeeeeeeeeeee',\n",
              " 'weeeeeeeeeeeeeeeeeeeeeeeeed',\n",
              " 'wheeeeeeeeeeeeeeeeeeeeeeeeeeeeeeeeee',\n",
              " 'woooooooooaaaahhhhhhhhhhhh',\n",
              " 'wooooooooooooohoooooooooooooooo',\n",
              " 'www.Wunderground.com',\n",
              " 'yuuuuuuuuuuuummmmmmmmmmmm']"
            ]
          },
          "metadata": {
            "tags": []
          },
          "execution_count": 42
        }
      ]
    },
    {
      "cell_type": "markdown",
      "metadata": {
        "id": "ZSHewqDgIrTv"
      },
      "source": [
        "Let's return to our task of finding words that characterize a text. Notice that the long words in text4 reflect its national focus — constitutionally, transcontinental — whereas those in text5 reflect its informal content: boooooooooooglyyyyyy and yuuuuuuuuuuuummmmmmmmmmmm. Have we succeeded in automatically extracting words that typify a text? Well, these very long words are often hapaxes (i.e., unique) and perhaps it would be better to find frequently occurring long words. This seems promising since it eliminates frequent short words (e.g., the) and infrequent long words (e.g. antiphilosophists). Here are all words from the chat corpus that are longer than seven characters, that occur more than seven times:"
      ]
    },
    {
      "cell_type": "code",
      "metadata": {
        "id": "r5n-Znb1IsXG",
        "outputId": "1af1f791-9bb3-4ca6-dbf5-b02b667de397",
        "colab": {
          "base_uri": "https://localhost:8080/"
        }
      },
      "source": [
        "v = get_unique_tokens(text5)[1]\n",
        "\n",
        "long_words_text5_above_seven_times = [token for token in v if len(token) > 7 and text5.count(token) > 7]\n",
        "long_words_text5_above_seven_times"
      ],
      "execution_count": 43,
      "outputs": [
        {
          "output_type": "execute_result",
          "data": {
            "text/plain": [
              "['#14-19teens',\n",
              " '#talkcity_adults',\n",
              " '((((((((((',\n",
              " '........',\n",
              " 'Question',\n",
              " 'actually',\n",
              " 'anything',\n",
              " 'computer',\n",
              " 'cute.-ass',\n",
              " 'everyone',\n",
              " 'football',\n",
              " 'innocent',\n",
              " 'listening',\n",
              " 'remember',\n",
              " 'seriously',\n",
              " 'something',\n",
              " 'together',\n",
              " 'tomorrow',\n",
              " 'watching']"
            ]
          },
          "metadata": {
            "tags": []
          },
          "execution_count": 43
        }
      ]
    },
    {
      "cell_type": "markdown",
      "metadata": {
        "id": "6xbRWatqMMx7"
      },
      "source": [
        "Notice how we have used two conditions: len(token) > 7 ensures that the words are longer than seven letters, and text5.count(token) > 7 ensures that these words occur more than seven times. At last we have managed to automatically identify the frequently-occurring content-bearing words of the text."
      ]
    },
    {
      "cell_type": "code",
      "metadata": {
        "id": "FOgvxCYpKdYN",
        "outputId": "859b0009-41a5-4f87-fe02-dec56b5128af",
        "colab": {
          "base_uri": "https://localhost:8080/"
        }
      },
      "source": [
        "text5.count('the')"
      ],
      "execution_count": 44,
      "outputs": [
        {
          "output_type": "execute_result",
          "data": {
            "text/plain": [
              "646"
            ]
          },
          "metadata": {
            "tags": []
          },
          "execution_count": 44
        }
      ]
    },
    {
      "cell_type": "markdown",
      "metadata": {
        "id": "Oln-F87hMjg7"
      },
      "source": [
        "**3.3   Collocations and Bigrams:**"
      ]
    },
    {
      "cell_type": "markdown",
      "metadata": {
        "id": "OaHZeCjtsI_N"
      },
      "source": [
        "A collocation is a sequence of words that occur together unusually often. Thus `red wine` is a collocation, whereas the wine is not. A characteristic of collocations is that they are resistant to substitution with words that have similar senses; for example, maroon wine sounds definitely odd."
      ]
    },
    {
      "cell_type": "markdown",
      "metadata": {
        "id": "cAeX8JuEsmxL"
      },
      "source": [
        "To get a handle on collocations, we start off by extracting from a text a list of word pairs, also known as `bigrams`. This is easily accomplished with the function bigrams():"
      ]
    },
    {
      "cell_type": "code",
      "metadata": {
        "id": "GwjKSCX1Ms1j",
        "outputId": "9167b9ce-f990-42b8-8feb-01b4b2651b25",
        "colab": {
          "base_uri": "https://localhost:8080/"
        }
      },
      "source": [
        "list(bigrams(['after', 'all', 'is', 'said', 'and', 'done', 'more', 'is', 'said', 'than', 'done']))"
      ],
      "execution_count": 45,
      "outputs": [
        {
          "output_type": "execute_result",
          "data": {
            "text/plain": [
              "[('after', 'all'),\n",
              " ('all', 'is'),\n",
              " ('is', 'said'),\n",
              " ('said', 'and'),\n",
              " ('and', 'done'),\n",
              " ('done', 'more'),\n",
              " ('more', 'is'),\n",
              " ('is', 'said'),\n",
              " ('said', 'than'),\n",
              " ('than', 'done')]"
            ]
          },
          "metadata": {
            "tags": []
          },
          "execution_count": 45
        }
      ]
    },
    {
      "cell_type": "markdown",
      "metadata": {
        "id": "I1dqPVrlwaWi"
      },
      "source": [
        "Now, collocations are essentially just frequent bigrams, except that we want to pay more attention to the cases that involve rare words. In particular, we want to find bigrams that occur more often than we would expect based on the frequency of the individual words. The collocations() function does this for us"
      ]
    },
    {
      "cell_type": "code",
      "metadata": {
        "id": "At7sI9exwa--",
        "outputId": "27b9ebec-d142-45f0-989d-36a75c9ba571",
        "colab": {
          "base_uri": "https://localhost:8080/"
        }
      },
      "source": [
        "text4.collocations()"
      ],
      "execution_count": 47,
      "outputs": [
        {
          "output_type": "stream",
          "text": [
            "United States; fellow citizens; four years; years ago; Federal\n",
            "Government; General Government; American people; Vice President; God\n",
            "bless; Chief Justice; Old World; Almighty God; Fellow citizens; Chief\n",
            "Magistrate; every citizen; one another; fellow Americans; Indian\n",
            "tribes; public debt; foreign nations\n"
          ],
          "name": "stdout"
        }
      ]
    },
    {
      "cell_type": "code",
      "metadata": {
        "id": "IUe6tiFTxJKO",
        "outputId": "090ff554-eb1c-41e2-be8f-9af74509e284",
        "colab": {
          "base_uri": "https://localhost:8080/"
        }
      },
      "source": [
        "text8.collocations()"
      ],
      "execution_count": 48,
      "outputs": [
        {
          "output_type": "stream",
          "text": [
            "would like; medium build; social drinker; quiet nights; non smoker;\n",
            "long term; age open; Would like; easy going; financially secure; fun\n",
            "times; similar interests; Age open; weekends away; poss rship; well\n",
            "presented; never married; single mum; permanent relationship; slim\n",
            "build\n"
          ],
          "name": "stdout"
        }
      ]
    },
    {
      "cell_type": "markdown",
      "metadata": {
        "id": "bwZH2WV3xr8p"
      },
      "source": [
        "**3.4   Counting Other Things:**\n",
        "\n",
        "Counting words is useful, but we can count other things too. For example, we can look at the distribution of word lengths in a text, by creating a FreqDist out of a long list of numbers, where each number is the length of the corresponding word in the text:"
      ]
    },
    {
      "cell_type": "code",
      "metadata": {
        "id": "CviLfmquxo3z",
        "outputId": "7c34405e-7374-4944-fc5c-f56686b72b2c",
        "colab": {
          "base_uri": "https://localhost:8080/"
        }
      },
      "source": [
        "fdist = FreqDist(len(w) for w in text1)\n",
        "print(fdist)"
      ],
      "execution_count": 49,
      "outputs": [
        {
          "output_type": "stream",
          "text": [
            "<FreqDist with 19 samples and 260819 outcomes>\n"
          ],
          "name": "stdout"
        }
      ]
    },
    {
      "cell_type": "code",
      "metadata": {
        "id": "jZljG5gq0OuK",
        "outputId": "8fc98c32-4ecc-403b-c5ee-5b6b77de836f",
        "colab": {
          "base_uri": "https://localhost:8080/"
        }
      },
      "source": [
        "fdist"
      ],
      "execution_count": 50,
      "outputs": [
        {
          "output_type": "execute_result",
          "data": {
            "text/plain": [
              "FreqDist({1: 47933,\n",
              "          2: 38513,\n",
              "          3: 50223,\n",
              "          4: 42345,\n",
              "          5: 26597,\n",
              "          6: 17111,\n",
              "          7: 14399,\n",
              "          8: 9966,\n",
              "          9: 6428,\n",
              "          10: 3528,\n",
              "          11: 1873,\n",
              "          12: 1053,\n",
              "          13: 567,\n",
              "          14: 177,\n",
              "          15: 70,\n",
              "          16: 22,\n",
              "          17: 12,\n",
              "          18: 1,\n",
              "          20: 1})"
            ]
          },
          "metadata": {
            "tags": []
          },
          "execution_count": 50
        }
      ]
    },
    {
      "cell_type": "markdown",
      "metadata": {
        "id": "PUNqYk3P1Jri"
      },
      "source": [
        "One might wonder how frequent the different lengths of word are (e.g., how many words of length four appear in the text, are there more words of length five than length four, etc). We can do this as follows:"
      ]
    },
    {
      "cell_type": "code",
      "metadata": {
        "id": "HDQq3zzP1Kbc",
        "outputId": "1b61ea67-7112-4dcc-8ac1-a2c3bb999e34",
        "colab": {
          "base_uri": "https://localhost:8080/"
        }
      },
      "source": [
        "fdist.most_common(5)"
      ],
      "execution_count": 52,
      "outputs": [
        {
          "output_type": "execute_result",
          "data": {
            "text/plain": [
              "[(3, 50223), (1, 47933), (4, 42345), (2, 38513), (5, 26597)]"
            ]
          },
          "metadata": {
            "tags": []
          },
          "execution_count": 52
        }
      ]
    },
    {
      "cell_type": "code",
      "metadata": {
        "id": "kasw39xk1MiN",
        "outputId": "1eee4607-fa2d-44f9-9cec-20be30f7f88c",
        "colab": {
          "base_uri": "https://localhost:8080/"
        }
      },
      "source": [
        "fdist.max()"
      ],
      "execution_count": 55,
      "outputs": [
        {
          "output_type": "execute_result",
          "data": {
            "text/plain": [
              "3"
            ]
          },
          "metadata": {
            "tags": []
          },
          "execution_count": 55
        }
      ]
    },
    {
      "cell_type": "code",
      "metadata": {
        "id": "hf31K_k41Mn6",
        "outputId": "73a2acbe-5905-4042-925a-5449c68ded83",
        "colab": {
          "base_uri": "https://localhost:8080/"
        }
      },
      "source": [
        "fdist[3]"
      ],
      "execution_count": 56,
      "outputs": [
        {
          "output_type": "execute_result",
          "data": {
            "text/plain": [
              "50223"
            ]
          },
          "metadata": {
            "tags": []
          },
          "execution_count": 56
        }
      ]
    },
    {
      "cell_type": "code",
      "metadata": {
        "id": "Z_D7XK6u1Mut",
        "outputId": "b75d1d6f-011a-4f35-fa4c-501ec0dd327e",
        "colab": {
          "base_uri": "https://localhost:8080/"
        }
      },
      "source": [
        "type(fdist)"
      ],
      "execution_count": 57,
      "outputs": [
        {
          "output_type": "execute_result",
          "data": {
            "text/plain": [
              "nltk.probability.FreqDist"
            ]
          },
          "metadata": {
            "tags": []
          },
          "execution_count": 57
        }
      ]
    },
    {
      "cell_type": "markdown",
      "metadata": {
        "id": "DiX8TIcd2mQ0"
      },
      "source": [
        "From this we see that the most frequent word length is 3, and that words of length 3 account for roughly 50,000 (or 20%) of the words making up the book. Although we will not pursue it here, further analysis of word length might help us understand differences between authors, genres, or languages."
      ]
    },
    {
      "cell_type": "code",
      "metadata": {
        "id": "O7moZ6Ng2YcS",
        "outputId": "09cfe74e-6afe-4bc9-94d6-5ea2bd4381d2",
        "colab": {
          "base_uri": "https://localhost:8080/",
          "height": 282
        }
      },
      "source": [
        "fdist.plot()"
      ],
      "execution_count": 58,
      "outputs": [
        {
          "output_type": "display_data",
          "data": {
            "image/png": "[encoded data removed]",
            "text/plain": [
              "<Figure size 432x288 with 1 Axes>"
            ]
          },
          "metadata": {
            "tags": []
          }
        }
      ]
    },
    {
      "cell_type": "markdown",
      "metadata": {
        "id": "M8kMQbIz3htf"
      },
      "source": [
        "<h3>Example\tDescription of FreqDist</h3>\n",
        "\n",
        "* `fdist = FreqDist(samples)`\tcreate a frequency distribution containing the given samples\n",
        "* `fdist[sample] += 1`\tincrement the count for this sample\n",
        "* `fdist['monstrous']`\tcount of the number of times a given sample occurred\n",
        "* `fdist.freq('monstrous')`\ta given sample count divided by all total counts\n",
        "* `fdist.N()`\ttotal number of samples\n",
        "* `fdist.most_common(n)`\tthe n most common samples and their frequencies\n",
        "* `for sample in fdist:`\titerate over the samples\n",
        "* `fdist.max()`\tsample with the greatest count\n",
        "* `fdist.tabulate()`\ttabulate the frequency distribution\n",
        "* `fdist.plot()`\tgraphical plot of the frequency distribution\n",
        "* `fdist.plot(cumulative=True)`\tcumulative plot of the frequency distribution\n",
        "* `fdist1 |= fdist2`\tupdate fdist1 with counts from fdist2\n",
        "* `fdist1 < fdist2`\ttest if samples in fdist1 occur less frequently than in fdist2"
      ]
    },
    {
      "cell_type": "code",
      "metadata": {
        "id": "pgV33hq22pXR",
        "outputId": "fbc97662-9b1a-4a2a-8601-9184344073c4",
        "colab": {
          "base_uri": "https://localhost:8080/"
        }
      },
      "source": [
        "fdist[3]"
      ],
      "execution_count": 61,
      "outputs": [
        {
          "output_type": "execute_result",
          "data": {
            "text/plain": [
              "50223"
            ]
          },
          "metadata": {
            "tags": []
          },
          "execution_count": 61
        }
      ]
    },
    {
      "cell_type": "code",
      "metadata": {
        "id": "1pjwSKgj2pRe",
        "outputId": "8410b993-fcf9-4021-f71a-3a3fc594f8e9",
        "colab": {
          "base_uri": "https://localhost:8080/"
        }
      },
      "source": [
        "fdist.freq(3)"
      ],
      "execution_count": 60,
      "outputs": [
        {
          "output_type": "execute_result",
          "data": {
            "text/plain": [
              "0.19255882431878046"
            ]
          },
          "metadata": {
            "tags": []
          },
          "execution_count": 60
        }
      ]
    },
    {
      "cell_type": "code",
      "metadata": {
        "id": "gCqIoXTQ2YYe",
        "outputId": "75c57948-ddb2-4ff9-cef0-2664e8d4dfdf",
        "colab": {
          "base_uri": "https://localhost:8080/"
        }
      },
      "source": [
        "fdist.N()"
      ],
      "execution_count": 62,
      "outputs": [
        {
          "output_type": "execute_result",
          "data": {
            "text/plain": [
              "260819"
            ]
          },
          "metadata": {
            "tags": []
          },
          "execution_count": 62
        }
      ]
    },
    {
      "cell_type": "code",
      "metadata": {
        "id": "e1DqZkdm49Ah",
        "outputId": "eaf18498-cb39-4b5d-ce0a-06d819d8b460",
        "colab": {
          "base_uri": "https://localhost:8080/"
        }
      },
      "source": [
        "# Dividing the count or value of fdist[3] by the total number of samples.\n",
        "50223 / 260819"
      ],
      "execution_count": 63,
      "outputs": [
        {
          "output_type": "execute_result",
          "data": {
            "text/plain": [
              "0.19255882431878046"
            ]
          },
          "metadata": {
            "tags": []
          },
          "execution_count": 63
        }
      ]
    },
    {
      "cell_type": "markdown",
      "metadata": {
        "id": "VezpVdr26LeK"
      },
      "source": [
        "**Some Word Comparison Operators:**\n",
        "\n",
        "**Function\tMeaning**\n",
        "\n",
        "* `s.startswith(t)`\ttest if s starts with t\n",
        "* `s.endswith(t)`\ttest if s ends with t\n",
        "* `t in s`\ttest if t is a substring of s\n",
        "* `s.islower()`\ttest if s contains cased characters and all are lowercase\n",
        "* `s.isupper()`\ttest if s contains cased characters and all are uppercase\n",
        "* `s.isalpha()`\ttest if s is non-empty and all characters in s are alphabetic\n",
        "* `s.isalnum()`\ttest if s is non-empty and all characters in s are alphanumeric\n",
        "* `s.isdigit()`\ttest if s is non-empty and all characters in s are digits\n",
        "* `s.istitle()`\ttest if s contains cased characters and is titlecased (i.e. all words in s have initial capitals)"
      ]
    },
    {
      "cell_type": "code",
      "metadata": {
        "id": "YRMGR-qJc8qs",
        "outputId": "ab757f0f-cced-4335-dad9-07e296ef7779",
        "colab": {
          "base_uri": "https://localhost:8080/"
        }
      },
      "source": [
        "print(help('str.isalnum'))"
      ],
      "execution_count": 64,
      "outputs": [
        {
          "output_type": "stream",
          "text": [
            "Help on method_descriptor in str:\n",
            "\n",
            "str.isalnum = isalnum(...)\n",
            "    S.isalnum() -> bool\n",
            "    \n",
            "    Return True if all characters in S are alphanumeric\n",
            "    and there is at least one character in S, False otherwise.\n",
            "\n",
            "None\n"
          ],
          "name": "stdout"
        }
      ]
    },
    {
      "cell_type": "code",
      "metadata": {
        "id": "qt1kq1cU5fSf",
        "outputId": "e09d99e8-dfd1-414d-e87b-6a73d6e2ea35",
        "colab": {
          "base_uri": "https://localhost:8080/"
        }
      },
      "source": [
        "# Select only words that end with 'ableness' from text1\n",
        "\n",
        "sorted(w for w in set(text1) if w.endswith('ableness'))"
      ],
      "execution_count": 65,
      "outputs": [
        {
          "output_type": "execute_result",
          "data": {
            "text/plain": [
              "['comfortableness',\n",
              " 'honourableness',\n",
              " 'immutableness',\n",
              " 'indispensableness',\n",
              " 'indomitableness',\n",
              " 'intolerableness',\n",
              " 'palpableness',\n",
              " 'reasonableness',\n",
              " 'uncomfortableness']"
            ]
          },
          "metadata": {
            "tags": []
          },
          "execution_count": 65
        }
      ]
    },
    {
      "cell_type": "code",
      "metadata": {
        "id": "qE9BzIWi-k2V",
        "outputId": "87d367a6-47d7-4fa5-8639-9bd99acb5bec",
        "colab": {
          "base_uri": "https://localhost:8080/"
        }
      },
      "source": [
        "# Select only words with a title first letter and length above 10 from text3\n",
        "\n",
        "sorted(wd for wd in set(text3) if wd.istitle() and len(wd) > 10)"
      ],
      "execution_count": 66,
      "outputs": [
        {
          "output_type": "execute_result",
          "data": {
            "text/plain": [
              "['Abelmizraim',\n",
              " 'Allonbachuth',\n",
              " 'Beerlahairoi',\n",
              " 'Canaanitish',\n",
              " 'Chedorlaomer',\n",
              " 'Girgashites',\n",
              " 'Hazarmaveth',\n",
              " 'Hazezontamar',\n",
              " 'Ishmeelites',\n",
              " 'Jegarsahadutha',\n",
              " 'Jehovahjireh',\n",
              " 'Kirjatharba',\n",
              " 'Melchizedek',\n",
              " 'Mesopotamia',\n",
              " 'Peradventure',\n",
              " 'Philistines',\n",
              " 'Zaphnathpaaneah']"
            ]
          },
          "metadata": {
            "tags": []
          },
          "execution_count": 66
        }
      ]
    },
    {
      "cell_type": "markdown",
      "metadata": {
        "id": "R2EI42qf-jvR"
      },
      "source": [
        "**4.2   Operating on Every Element**"
      ]
    },
    {
      "cell_type": "markdown",
      "metadata": {
        "id": "ue4QYn9dAJLL"
      },
      "source": [
        "Let's return to the question of vocabulary size, and apply the same idiom here:"
      ]
    },
    {
      "cell_type": "code",
      "metadata": {
        "id": "e0HsKSf8AJtl",
        "outputId": "505595b8-b8fe-43cf-ec40-49c5ea150716",
        "colab": {
          "base_uri": "https://localhost:8080/"
        }
      },
      "source": [
        "len(text1)"
      ],
      "execution_count": 67,
      "outputs": [
        {
          "output_type": "execute_result",
          "data": {
            "text/plain": [
              "260819"
            ]
          },
          "metadata": {
            "tags": []
          },
          "execution_count": 67
        }
      ]
    },
    {
      "cell_type": "code",
      "metadata": {
        "id": "6hFpZ_DhCttm",
        "outputId": "7e5df367-4ff8-493e-ce8f-3bf54ea6d987",
        "colab": {
          "base_uri": "https://localhost:8080/"
        }
      },
      "source": [
        "len(set(text1))"
      ],
      "execution_count": 68,
      "outputs": [
        {
          "output_type": "execute_result",
          "data": {
            "text/plain": [
              "19317"
            ]
          },
          "metadata": {
            "tags": []
          },
          "execution_count": 68
        }
      ]
    },
    {
      "cell_type": "code",
      "metadata": {
        "id": "MOOp2a4JCxW2",
        "outputId": "33782c85-b0e4-45d7-bffa-d953c81f03a6",
        "colab": {
          "base_uri": "https://localhost:8080/"
        }
      },
      "source": [
        "len(set(word.lower() for word in text1))"
      ],
      "execution_count": 69,
      "outputs": [
        {
          "output_type": "execute_result",
          "data": {
            "text/plain": [
              "17231"
            ]
          },
          "metadata": {
            "tags": []
          },
          "execution_count": 69
        }
      ]
    },
    {
      "cell_type": "markdown",
      "metadata": {
        "id": "J8ZCE6N4DJdO"
      },
      "source": [
        "Now that we are not double-counting words like This and this, which differ only in capitalization, we've wiped 2,000 off the vocabulary count! We can go a step further and eliminate numbers and punctuation from the vocabulary count by filtering out any non-alphabetic items:"
      ]
    },
    {
      "cell_type": "code",
      "metadata": {
        "id": "tk_6JAplDKRn",
        "outputId": "a9e79afd-5d9a-4cc2-aaff-dc24aa7f93b8",
        "colab": {
          "base_uri": "https://localhost:8080/"
        }
      },
      "source": [
        "len(set(word.lower() for word in text1 if not word.isdigit() and not word in punctuations))"
      ],
      "execution_count": 70,
      "outputs": [
        {
          "output_type": "execute_result",
          "data": {
            "text/plain": [
              "17037"
            ]
          },
          "metadata": {
            "tags": []
          },
          "execution_count": 70
        }
      ]
    },
    {
      "cell_type": "markdown",
      "metadata": {
        "id": "KvQeHdqvFgC8"
      },
      "source": [
        "<h3>5   Automatic Natural Language Understanding</h3>\n",
        "\n",
        "* An **antecedent** is a part of a sentence that is later replaced by a pronoun.\n",
        "An example of an antecedent is the word `“John”` in the sentence: “John loves his dog.”\n",
        "* A **pronoun** is a word that takes the place of a noun. In the sentence Joe saw Jill, and he waved at her, the pronouns `he` and `her` take the place of Joe and Jill, respectively.<br>Other examples of pronouns are `(I, me, he, she, herself, you, it, that, they, each, few, many, who, whoever, whose, someone, everybody, etc.)`"
      ]
    },
    {
      "cell_type": "markdown",
      "metadata": {
        "id": "Xn6hXwxeklH6"
      },
      "source": [
        "**5.1   Word Sense Disambiguation**\n",
        "\n",
        "In word sense disambiguation we want to work out which sense of a word was intended in a given context. Consider the ambiguous words serve and dish:\n",
        "\t\n",
        "a.\t\tserve: help with food or drink; hold an office; put ball into play\n",
        "\n",
        "b.\t\tdish: plate; course of a meal; communications device\n"
      ]
    },
    {
      "cell_type": "markdown",
      "metadata": {
        "id": "pA9PwzlblCTo"
      },
      "source": [
        "Understand the meaning of the word `by` in the sentences below:-\n",
        "\n",
        "a.\t\tThe lost children were found by the searchers **(agentive)**\n",
        "\n",
        "b.\t\tThe lost children were found by the mountain **(locative)**\n",
        "\n",
        "c.\t\tThe lost children were found by the afternoon **(temporal)**\n",
        "\n"
      ]
    },
    {
      "cell_type": "markdown",
      "metadata": {
        "id": "iNlKk765lcNz"
      },
      "source": [
        "**5.2   Pronoun Resolution**\n",
        "\n",
        "A deeper kind of language understanding is to work out \"who did what to whom\" — i.e., to detect the subjects and objects of verbs. You learnt to do this in elementary school, but it's harder than you might think. In the sentence the thieves stole the paintings it is easy to tell who performed the stealing action. Consider three possible following sentences in and try to determine what was sold, caught, and found (one case is ambiguous).\n",
        "\n",
        "\t\n",
        "a.\t\tThe thieves stole the paintings. They were subsequently sold.  (_paintings were sold_)\n",
        "\n",
        "b.\t\tThe thieves stole the paintings. They were subsequently caught.  (_thieves were caught_)\n",
        "\n",
        "c.\t\tThe thieves stole the paintings. They were subsequently found.  (_paintings were found_)\n",
        "\n"
      ]
    },
    {
      "cell_type": "markdown",
      "metadata": {
        "id": "fTP6nLd1mReh"
      },
      "source": [
        "Answering this question involves finding the antecedent of the pronoun they, either thieves or paintings. Computational techniques for tackling this problem include **anaphora resolution** — identifying what a pronoun or noun phrase refers to — and **semantic role labeling** — identifying how a noun phrase relates to the verb (as agent, patient, instrument, and so on)."
      ]
    },
    {
      "cell_type": "markdown",
      "metadata": {
        "id": "AswC3Lg-pHJ5"
      },
      "source": [
        "**See how machine translation works** use this sentence:- {Machine translation is difficult because a given word could have several possible translations} in this **[link](https://www.translationparty.com/machine-translation-is-difficult-because-a-given-word-could-have-11448589)**"
      ]
    },
    {
      "cell_type": "markdown",
      "metadata": {
        "id": "XvGvqgD8p6Ip"
      },
      "source": [
        "Machine translation is difficult because a given word could have several possible translations (depending on its meaning), and because word order must be changed in keeping with the grammatical structure of the target language. Today these difficulties are being faced by collecting massive quantities of parallel texts from news and government websites that publish documents in two or more languages. Given a document in German and English, and possibly a bilingual dictionary, we can automatically pair up the sentences, a process called `text alignment`. Once we have a million or more sentence pairs, we can detect corresponding words and phrases, and build a model that can be used for translating new text."
      ]
    },
    {
      "cell_type": "markdown",
      "metadata": {
        "id": "s3hojaWyrMnh"
      },
      "source": [
        "<img src=\"http://www.nltk.org/images/dialogue.png\" width=800 height=400>\n",
        "\n",
        "(_Simple Pipeline Architecture for a Spoken Dialogue System: Spoken input (top left) is analyzed, words are recognized, sentences are parsed and interpreted in context, application-specific actions take place (top right); a response is planned, realized as a syntactic structure, then to suitably inflected words, and finally to spoken output; different types of linguistic knowledge inform each stage of the process._)"
      ]
    },
    {
      "cell_type": "markdown",
      "metadata": {
        "id": "uLDcpWURs_gE"
      },
      "source": [
        "For an example of a primitive dialogue system, try having a conversation with an NLTK chatbot. To see the available chatbots, run nltk.chat.chatbots()"
      ]
    },
    {
      "cell_type": "markdown",
      "metadata": {
        "id": "DQe0MZPJu7X9"
      },
      "source": [
        "**5.6   Textual Entailment**\n",
        "\n",
        "The challenge of language understanding has been brought into focus in recent years by a public \"shared task\" called `Recognizing Textual Entailment (RTE)`. The basic scenario is simple... \n",
        "\n",
        "Suppose you want to find evidence to support the hypothesis: Sandra Goudie was defeated by Max Purnell, and that you have another short text that seems to be relevant, for example, Sandra Goudie was first elected to Parliament in the 2002 elections, narrowly winning the seat of Coromandel by defeating Labour candidate Max Purnell and pushing incumbent Green MP Jeanette Fitzsimons into third place. Does the text provide enough evidence for you to accept the hypothesis? In this particular case, the answer will be \"No.\" You can draw this conclusion easily, but it is very hard to come up with automated methods for making the right decision. The RTE Challenges provide data that allow competitors to develop their systems, but not enough data for \"brute force\" machine learning techniques."
      ]
    },
    {
      "cell_type": "code",
      "metadata": {
        "id": "g-DelE1RFicQ"
      },
      "source": [
        "# nltk.chat.chatbots()"
      ],
      "execution_count": 76,
      "outputs": []
    },
    {
      "cell_type": "markdown",
      "metadata": {
        "id": "UUm06eklvvnb"
      },
      "source": [
        "**5.7   Limitations of NLP**\n",
        "\n",
        "Despite the research-led advances in tasks like RTE `(Recognizing Textual Entailment)`, natural language systems that have been deployed for real-world applications still cannot perform common-sense reasoning or draw on world knowledge in a general and robust manner. We can wait for these difficult artificial intelligence problems to be solved, but in the meantime it is necessary to live with some severe limitations on the reasoning and knowledge capabilities of natural language systems... \n",
        "\n",
        "Accordingly, right from the beginning, an important goal of NLP research has been to make progress on the difficult task of building technologies that \"understand language,\" using superficial yet powerful techniques instead of unrestricted knowledge and reasoning capabilities. Indeed, this is one of the goals of this book, and we hope to equip you with the knowledge and skills to build useful NLP systems, and to contribute to the long-term aspiration of building intelligent machines."
      ]
    },
    {
      "cell_type": "markdown",
      "metadata": {
        "id": "0TpPHXOoxJXM"
      },
      "source": [
        "**6   Summary**\n",
        "\n",
        "* Texts are represented in Python using lists: `['Monty', 'Python']`. We can use indexing, slicing, and the len() function on lists.\n",
        "* A word \"token\" is a particular appearance of a given word in a text; a word \"type\" is the unique form of the word as a particular sequence of letters. We count word tokens using `len(text)` and word types using `len(set(text))`.\n",
        "* We obtain the vocabulary of a text $t$ using sorted(set($t$)).\n",
        "We operate on each item of a text using `[f(x) for x in text]`.\n",
        "* To derive the vocabulary, collapsing case distinctions and ignoring punctuation, we can write `set(w.lower() for w in text if w.isalpha())`.\n",
        "* We process each word in a text using a for statement, such as `for w in t:` or `for word in text:`. This must be followed by the colon character and an indented block of code, to be executed each time through the loop.\n",
        "* We test a condition using an if statement: `if len(word) < 5:`. This must be followed by the colon character and an indented block of code, to be executed only if the condition is true.\n",
        "* A frequency distribution is a collection of items along with their frequency counts (e.g., the words of a text and their frequency of appearance).\n",
        "* A function is a block of code that has been assigned a name and can be reused. Functions are defined using the def keyword, as in `def mult(x, y)`; `x` and `y` are parameters of the function, and act as placeholders for actual data values.\n",
        "* A function is called by specifying its name followed by zero or more arguments inside parentheses, like this: `texts()`, `mult(3, 4)`, `len(text1)`."
      ]
    },
    {
      "cell_type": "code",
      "metadata": {
        "id": "XaAAlv9fv1ig"
      },
      "source": [
        ""
      ],
      "execution_count": null,
      "outputs": []
    }
  ]
}