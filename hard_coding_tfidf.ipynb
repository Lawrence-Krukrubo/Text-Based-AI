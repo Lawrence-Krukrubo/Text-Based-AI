{
 "cells": [
  {
   "cell_type": "markdown",
   "metadata": {
    "id": "uuAr0PR4P1Z4"
   },
   "source": [
    "<h2>Performing Basic Frequency Analysis</h2>\n",
    "Let's start by using some very basic frequency analysis on a document to see if we can determine what the document is about based on word frequency."
   ]
  },
  {
   "cell_type": "markdown",
   "metadata": {},
   "source": [
    "**Load a Text Document**\n",
    "<br>Run the cell below to load a document and view the text it contains."
   ]
  },
  {
   "cell_type": "code",
   "execution_count": 5,
   "metadata": {},
   "outputs": [
    {
     "name": "stdout",
     "output_type": "stream",
     "text": [
      "We set sail on this new sea because there is new knowledge to be gained, and new rights to be won, and they must be won and used for the progress of all people. For space science, like nuclear science and all technology, has no conscience of its own. Whether it will become a force for good or ill depends on man, and only if the United States occupies a position of pre-eminence can we help decide whether this new ocean will be a sea of peace or a new terrifying theater of war. I do not say that we should or will go unprotected against the hostile misuse of space any more than we go unprotected against the hostile use of land or sea, but I do say that space can be explored and mastered without feeding the fires of war, without repeating the mistakes that man has made in extending his writ around this globe of ours.\n",
      "There is no strife, no prejudice, no national conflict in outer space as yet. Its hazards are hostile to us all. Its conquest deserves the best of all mankind, and its opportunity for peaceful cooperation may never come again. But why, some say, the Moon? Why choose this as our goal? And they may well ask, why climb the highest mountain? Why, 35 years ago, fly the Atlantic? Why does Rice play Texas?\n",
      "We choose to go to the Moon! We choose to go to the Moon in this decade and do the other things, not because they are easy, but because they are hard; because that goal will serve to organize and measure the best of our energies and skills, because that challenge is one that we are willing to accept, one we are unwilling to postpone, and one we intend to win!\n"
     ]
    }
   ],
   "source": [
    "with open('Moon.txt', 'r') as doc1:\n",
    "    # Read the document\n",
    "    doc1Txt = doc1.read()\n",
    "    \n",
    "# print its contents\n",
    "print(doc1Txt)"
   ]
  },
  {
   "cell_type": "markdown",
   "metadata": {},
   "source": [
    "<h3><b>Normalizing the Text:</b></h3>\n",
    "\n",
    "Text Normalization is often the next step after loading the text document, text-normalization is the process of transforming a piece of text into a canonical (official) form. Normalization includes a variety activities such as:-\n",
    "* Tokenization\n",
    "* Parts of speech tagging\n",
    "* Phrase chunking\n",
    "* Remove Punctuations\n",
    "* Stemming\n",
    "* Lemmatization\n",
    "* Spell check\n",
    "* Lowercase\n",
    "* Remove Stopwords\n",
    "* Expand Contractions"
   ]
  },
  {
   "cell_type": "markdown",
   "metadata": {},
   "source": [
    "Stemming usually refers to a crude heuristic process that chops off the ends of words and often includes the removal of derivational affixes. Lemmatization usually refers to the use of a vocabulary and morphological analysis of words, normally aiming to remove inflections only and to return the base or dictionary form of a word, which is known as the lemma.\n",
    "<br> [link](https://nlp.stanford.edu/IR-book/html/htmledition/stemming-and-lemmatization-1.html)"
   ]
  },
  {
   "cell_type": "markdown",
   "metadata": {},
   "source": [
    "For this exercise, we shall perform the following text-normalization activities;-\n",
    "1. Remove Punctuation\n",
    "2. Change to Lowercase\n",
    "3. Remove Stopwords\n",
    "4. Stemming\n",
    "5. Tokenization."
   ]
  },
  {
   "cell_type": "code",
   "execution_count": 6,
   "metadata": {},
   "outputs": [
    {
     "name": "stdout",
     "output_type": "stream",
     "text": [
      "All modules imported!\n"
     ]
    }
   ],
   "source": [
    "# Let's import some much needed libraries\n",
    "\n",
    "from nltk.stem.porter import PorterStemmer  # for stemming the words\n",
    "from string import punctuation  # Import the string of punctuations\n",
    "import math\n",
    "from textblob import TextBlob as tb  # import textblob\n",
    "from nltk.corpus import stopwords  # import stopwords\n",
    "import matplotlib.pyplot as plt  # for plotting charts\n",
    "import nltk  # The natural language toolkit library\n",
    "import pandas as pd  # for making Dataframes\n",
    "from nltk.probability import FreqDist  # The frequency distribution module\n",
    "\n",
    "print('All modules imported!')"
   ]
  },
  {
   "cell_type": "markdown",
   "metadata": {},
   "source": [
    "<br>**1. Remove Punctuations and Digits:**<br>\n",
    "\n",
    "Text includes a lot of punctuation, which we need to remove if we want to work only with the actual words. We shall go  step further and also remove numbers from the text"
   ]
  },
  {
   "cell_type": "code",
   "execution_count": 7,
   "metadata": {},
   "outputs": [],
   "source": [
    "from string import punctuation\n",
    "\n",
    "# First remove digits\n",
    "doc1Txt = ''.join(c for c in doc1Txt if not c.isdigit())"
   ]
  },
  {
   "cell_type": "code",
   "execution_count": 8,
   "metadata": {},
   "outputs": [],
   "source": [
    "# Next we remove Punctuations\n",
    "doc1Txt = ''.join(c for c in doc1Txt if c not in punctuation)"
   ]
  },
  {
   "cell_type": "markdown",
   "metadata": {},
   "source": [
    "**2. Change to Lowercase:**"
   ]
  },
  {
   "cell_type": "code",
   "execution_count": 9,
   "metadata": {},
   "outputs": [],
   "source": [
    "doc1Txt = ''.join(c.lower() for c in doc1Txt)"
   ]
  },
  {
   "cell_type": "markdown",
   "metadata": {},
   "source": [
    "**3. Remove Stopwords:**\n",
    "\n",
    "<br>A large number of the words in the text are common words like \"the\" or \"and\". These \"stopwords\" add little in the way of semantic meaning to the text, and won't help us determine the subject matter - so run the cell below to remove them."
   ]
  },
  {
   "cell_type": "code",
   "execution_count": 10,
   "metadata": {},
   "outputs": [
    {
     "name": "stdout",
     "output_type": "stream",
     "text": [
      "\n",
      "\n",
      "set sail new sea new knowledge gained new rights must used progress people space science like nuclear science technology conscience whether become force good ill depends man united states occupies position preeminence help decide whether new ocean sea peace new terrifying theater war say go unprotected hostile misuse space go unprotected hostile use land sea say space explored mastered without feeding fires war without repeating mistakes man made extending writ around globe strife prejudice national conflict outer space yet hazards hostile us conquest deserves best mankind opportunity peaceful cooperation may never come say moon choose goal may well ask climb highest mountain years ago fly atlantic rice play texas choose go moon choose go moon decade things easy hard goal serve organize measure best energies skills challenge one willing accept one unwilling postpone one intend win\n"
     ]
    },
    {
     "name": "stderr",
     "output_type": "stream",
     "text": [
      "[nltk_data] Downloading package stopwords to\n",
      "[nltk_data]     C:\\Users\\sisok\\AppData\\Roaming\\nltk_data...\n",
      "[nltk_data]   Package stopwords is already up-to-date!\n"
     ]
    }
   ],
   "source": [
    "# Remove Stopwords\n",
    "\n",
    "# First download the 'stopwords' from nltk\n",
    "nltk.download(\"stopwords\")\n",
    "from nltk.corpus import stopwords\n",
    "doc1Txt = ' '.join(word for word in doc1Txt.split() if word not in (stopwords.words('english')))\n",
    "print(\"\\n\")\n",
    "print(doc1Txt)"
   ]
  },
  {
   "cell_type": "markdown",
   "metadata": {},
   "source": [
    "**4. Tokenization:**\n",
    "    \n",
    "Get the Frequency Distribution\n",
    "Now let's tokenize the text (split it into individual words), and count the number of times each word occurs."
   ]
  },
  {
   "cell_type": "code",
   "execution_count": 11,
   "metadata": {},
   "outputs": [
    {
     "name": "stderr",
     "output_type": "stream",
     "text": [
      "[nltk_data] Downloading package punkt to\n",
      "[nltk_data]     C:\\Users\\sisok\\AppData\\Roaming\\nltk_data...\n",
      "[nltk_data]   Package punkt is already up-to-date!\n"
     ]
    },
    {
     "data": {
      "text/plain": [
       "['set',\n",
       " 'sail',\n",
       " 'new',\n",
       " 'sea',\n",
       " 'new',\n",
       " 'knowledge',\n",
       " 'gained',\n",
       " 'new',\n",
       " 'rights',\n",
       " 'must',\n",
       " 'used',\n",
       " 'progress',\n",
       " 'people',\n",
       " 'space',\n",
       " 'science',\n",
       " 'like',\n",
       " 'nuclear',\n",
       " 'science',\n",
       " 'technology',\n",
       " 'conscience',\n",
       " 'whether',\n",
       " 'become',\n",
       " 'force',\n",
       " 'good',\n",
       " 'ill',\n",
       " 'depends',\n",
       " 'man',\n",
       " 'united',\n",
       " 'states',\n",
       " 'occupies',\n",
       " 'position',\n",
       " 'preeminence',\n",
       " 'help',\n",
       " 'decide',\n",
       " 'whether',\n",
       " 'new',\n",
       " 'ocean',\n",
       " 'sea',\n",
       " 'peace',\n",
       " 'new',\n",
       " 'terrifying',\n",
       " 'theater',\n",
       " 'war',\n",
       " 'say',\n",
       " 'go',\n",
       " 'unprotected',\n",
       " 'hostile',\n",
       " 'misuse',\n",
       " 'space',\n",
       " 'go',\n",
       " 'unprotected',\n",
       " 'hostile',\n",
       " 'use',\n",
       " 'land',\n",
       " 'sea',\n",
       " 'say',\n",
       " 'space',\n",
       " 'explored',\n",
       " 'mastered',\n",
       " 'without',\n",
       " 'feeding',\n",
       " 'fires',\n",
       " 'war',\n",
       " 'without',\n",
       " 'repeating',\n",
       " 'mistakes',\n",
       " 'man',\n",
       " 'made',\n",
       " 'extending',\n",
       " 'writ',\n",
       " 'around',\n",
       " 'globe',\n",
       " 'strife',\n",
       " 'prejudice',\n",
       " 'national',\n",
       " 'conflict',\n",
       " 'outer',\n",
       " 'space',\n",
       " 'yet',\n",
       " 'hazards',\n",
       " 'hostile',\n",
       " 'us',\n",
       " 'conquest',\n",
       " 'deserves',\n",
       " 'best',\n",
       " 'mankind',\n",
       " 'opportunity',\n",
       " 'peaceful',\n",
       " 'cooperation',\n",
       " 'may',\n",
       " 'never',\n",
       " 'come',\n",
       " 'say',\n",
       " 'moon',\n",
       " 'choose',\n",
       " 'goal',\n",
       " 'may',\n",
       " 'well',\n",
       " 'ask',\n",
       " 'climb',\n",
       " 'highest',\n",
       " 'mountain',\n",
       " 'years',\n",
       " 'ago',\n",
       " 'fly',\n",
       " 'atlantic',\n",
       " 'rice',\n",
       " 'play',\n",
       " 'texas',\n",
       " 'choose',\n",
       " 'go',\n",
       " 'moon',\n",
       " 'choose',\n",
       " 'go',\n",
       " 'moon',\n",
       " 'decade',\n",
       " 'things',\n",
       " 'easy',\n",
       " 'hard',\n",
       " 'goal',\n",
       " 'serve',\n",
       " 'organize',\n",
       " 'measure',\n",
       " 'best',\n",
       " 'energies',\n",
       " 'skills',\n",
       " 'challenge',\n",
       " 'one',\n",
       " 'willing',\n",
       " 'accept',\n",
       " 'one',\n",
       " 'unwilling',\n",
       " 'postpone',\n",
       " 'one',\n",
       " 'intend',\n",
       " 'win']"
      ]
     },
     "execution_count": 11,
     "metadata": {},
     "output_type": "execute_result"
    }
   ],
   "source": [
    "nltk.download(\"punkt\")\n",
    "\n",
    "# Tokenize the text into individual words\n",
    "moon_words = nltk.tokenize.word_tokenize(doc1Txt)\n",
    "moon_words"
   ]
  },
  {
   "cell_type": "markdown",
   "metadata": {},
   "source": [
    "**Let's get the frequency distribution count using the FreqDist service**"
   ]
  },
  {
   "cell_type": "code",
   "execution_count": 12,
   "metadata": {},
   "outputs": [
    {
     "data": {
      "text/plain": [
       "FreqDist({'new': 5, 'space': 4, 'go': 4, 'sea': 3, 'say': 3, 'hostile': 3, 'moon': 3, 'choose': 3, 'one': 3, 'science': 2, ...})"
      ]
     },
     "execution_count": 12,
     "metadata": {},
     "output_type": "execute_result"
    }
   ],
   "source": [
    "fdist = FreqDist(moon_words)\n",
    "fdist"
   ]
  },
  {
   "cell_type": "code",
   "execution_count": 13,
   "metadata": {},
   "outputs": [
    {
     "data": {
      "text/plain": [
       "nltk.probability.FreqDist"
      ]
     },
     "execution_count": 13,
     "metadata": {},
     "output_type": "execute_result"
    }
   ],
   "source": [
    "type(fdist)"
   ]
  },
  {
   "cell_type": "markdown",
   "metadata": {},
   "source": [
    "**Let's make it a DataFrame**"
   ]
  },
  {
   "cell_type": "code",
   "execution_count": 14,
   "metadata": {},
   "outputs": [
    {
     "data": {
      "text/html": [
       "<div>\n",
       "<style scoped>\n",
       "    .dataframe tbody tr th:only-of-type {\n",
       "        vertical-align: middle;\n",
       "    }\n",
       "\n",
       "    .dataframe tbody tr th {\n",
       "        vertical-align: top;\n",
       "    }\n",
       "\n",
       "    .dataframe thead th {\n",
       "        text-align: right;\n",
       "    }\n",
       "</style>\n",
       "<table border=\"1\" class=\"dataframe\">\n",
       "  <thead>\n",
       "    <tr style=\"text-align: right;\">\n",
       "      <th></th>\n",
       "      <th>Count</th>\n",
       "    </tr>\n",
       "  </thead>\n",
       "  <tbody>\n",
       "    <tr>\n",
       "      <th>set</th>\n",
       "      <td>1</td>\n",
       "    </tr>\n",
       "    <tr>\n",
       "      <th>sail</th>\n",
       "      <td>1</td>\n",
       "    </tr>\n",
       "    <tr>\n",
       "      <th>new</th>\n",
       "      <td>5</td>\n",
       "    </tr>\n",
       "    <tr>\n",
       "      <th>sea</th>\n",
       "      <td>3</td>\n",
       "    </tr>\n",
       "    <tr>\n",
       "      <th>knowledge</th>\n",
       "      <td>1</td>\n",
       "    </tr>\n",
       "  </tbody>\n",
       "</table>\n",
       "</div>"
      ],
      "text/plain": [
       "           Count\n",
       "set            1\n",
       "sail           1\n",
       "new            5\n",
       "sea            3\n",
       "knowledge      1"
      ]
     },
     "execution_count": 14,
     "metadata": {},
     "output_type": "execute_result"
    }
   ],
   "source": [
    "moon_df = pd.DataFrame(fdist, index=[0]).T\n",
    "moon_df.columns = ['Count']\n",
    "\n",
    "moon_df.head()"
   ]
  },
  {
   "cell_type": "markdown",
   "metadata": {},
   "source": [
    "**Visualize Word Frequency**\n",
    "\n",
    "It's often easier to analyze frequency by creating a visualization, such as a Pareto chart."
   ]
  },
  {
   "cell_type": "code",
   "execution_count": 15,
   "metadata": {},
   "outputs": [
    {
     "data": {
      "image/png": "[encoded data removed]",
      "text/plain": [
       "<Figure size 1152x648 with 1 Axes>"
      ]
     },
     "metadata": {
      "needs_background": "light"
     },
     "output_type": "display_data"
    }
   ],
   "source": [
    "moon_df.sort_values('Count', ascending = False, inplace=True)\n",
    "fig = plt.figure(figsize=(16, 9))\n",
    "ax = fig.gca()    \n",
    "moon_df['Count'][:60].plot(kind = 'bar', ax = ax, color=\"red\")\n",
    "ax.set_title('Frequency of the most common words')\n",
    "ax.set_ylabel('Frequency of word')\n",
    "ax.set_xlabel('Word')\n",
    "plt.show()"
   ]
  },
  {
   "cell_type": "markdown",
   "metadata": {},
   "source": [
    "We can now see the most common words of the Moon speech, in a pareto chart, showing the highest frequencies first. These words are:\n",
    "* new\n",
    "* go\n",
    "* space\n",
    "* hostile"
   ]
  },
  {
   "cell_type": "markdown",
   "metadata": {},
   "source": [
    "**5. Stemming**\n",
    "\n",
    "Until now, we've simply counted the number of occurrances of each word. This doesn't take into account the fact that sometimes multiple words may be based on the same common base, or stem; and may be semantically equivalent. For example, \"fishes\", \"fished\", \"fishing\", and \"fisher\" are all derived from the stem \"fish\".\n",
    "\n",
    "So let's stem the words so we can perform feature extraction"
   ]
  },
  {
   "cell_type": "code",
   "execution_count": 16,
   "metadata": {},
   "outputs": [],
   "source": [
    "# Get the word stems\n",
    "ps = PorterStemmer()\n",
    "doc1Txt = [ps.stem(word) for word in moon_words]"
   ]
  },
  {
   "cell_type": "code",
   "execution_count": 17,
   "metadata": {},
   "outputs": [
    {
     "data": {
      "image/png": "[encoded data removed]",
      "text/plain": [
       "<Figure size 1152x648 with 1 Axes>"
      ]
     },
     "metadata": {
      "needs_background": "light"
     },
     "output_type": "display_data"
    }
   ],
   "source": [
    "# Get Frequency distribution\n",
    "fdist = FreqDist(doc1Txt)\n",
    "moon_df = pd.DataFrame(fdist, index =[0]).T\n",
    "moon_df.columns = ['Count']\n",
    "\n",
    "# Plot frequency\n",
    "moon_df.sort_values('Count', ascending = False, inplace=True)\n",
    "fig = plt.figure(figsize=(16, 9))\n",
    "ax = fig.gca()    \n",
    "moon_df['Count'][:60].plot(kind = 'bar', ax = ax, color=\"red\")\n",
    "ax.set_title('Frequency of the most common words')\n",
    "ax.set_ylabel('Frequency of word')\n",
    "ax.set_xlabel('Word')\n",
    "plt.show()"
   ]
  },
  {
   "cell_type": "markdown",
   "metadata": {},
   "source": [
    "<h3><b>Feature Extraction:</b></h3>"
   ]
  },
  {
   "cell_type": "markdown",
   "metadata": {},
   "source": [
    "Feature extraction is the next process, after text-normalization phase. Generally, feature-extraction for text data has two main steps\n",
    "1. Define Vocabulary\n",
    "2. Vectorize Documents\n",
    "\n",
    "Step 1 basically has to do with identifying words based on their frequency and record them as a vocabulary, using a distribution, just as we did in tokenization and frequency distribution above. \n",
    "\n",
    "For step 2, we shall vectorize the text using TF-IDF algorithm."
   ]
  },
  {
   "cell_type": "markdown",
   "metadata": {},
   "source": [
    "As stated above, TF-IDF shows the relative importance of a word or words to a document, given a collection of documents. Therefore, we need to download a few more documents.\n",
    "<br>This also implies normalizing each downloaded document just as we did with the Moon.txt above. Remember that in programming, the moment you start repeating code, then it's time to write a function.\n",
    "\n",
    "So let's write a function that performs the five normalizing steps above for a list of documents, and for uniformity's sakes, let's apply it to all 4 documents"
   ]
  },
  {
   "cell_type": "code",
   "execution_count": 18,
   "metadata": {},
   "outputs": [],
   "source": [
    "def normalize_docs(doc_list):\n",
    "    \"\"\"Normalizes a list of text docs\n",
    "    \n",
    "    Normalization here includes 4 steps:\n",
    "    1. Removing Punctuations\n",
    "    2. Removing Numbers\n",
    "    3. Setting to Lowercase\n",
    "    4. Removing Stopwords\n",
    "    \n",
    "    :@Param doc: A list of text document\n",
    "    :@Return: The doc_list fully normalized\n",
    "    \"\"\"\n",
    "    normalized = []\n",
    "    \n",
    "    for doc in doc_list:\n",
    "        # To remove punctuations\n",
    "        doc = ''.join(c for c in doc if c not in punctuation)\n",
    "        # To remove Numbers\n",
    "        doc = ''.join(c for c in doc if not c.isdigit())\n",
    "        # To set to lowercase\n",
    "        doc = ''.join(c.lower() for c in doc)\n",
    "        # To remove stopwords\n",
    "        doc = ' '.join(word for word in doc.split() if word not in (stopwords.words('english')))\n",
    "        # append to normalised list\n",
    "        normalized.append(doc)\n",
    "        \n",
    "    return normalized\n",
    "    "
   ]
  },
  {
   "cell_type": "markdown",
   "metadata": {},
   "source": [
    "let's read in all the docs as follows, best to do so with a simple method."
   ]
  },
  {
   "cell_type": "code",
   "execution_count": 51,
   "metadata": {},
   "outputs": [],
   "source": [
    "doc_names = ['Moon.txt','Inaugural.txt','Cognitive.txt', 'Gettysburg.txt']\n",
    "\n",
    "def read_docs(doc_names):\n",
    "    \"\"\"Read bytes of documents from a list\n",
    "    \n",
    "    @Param doclist: List of documents\n",
    "    @return: read documents as texts\n",
    "    \"\"\"\n",
    "    output = []\n",
    "    for i in doc_names:\n",
    "        try:\n",
    "            with open(i, 'r', encoding='utf-16') as f:\n",
    "                docs = f.read()\n",
    "        except:\n",
    "            with open(i, 'r') as f:\n",
    "                docs = f.read()\n",
    "        output.append(docs)\n",
    "    return output"
   ]
  },
  {
   "cell_type": "code",
   "execution_count": 52,
   "metadata": {},
   "outputs": [],
   "source": [
    "doc_list = read_docs(doc_names)\n",
    "doc_list = normalize_docs(doc_list)"
   ]
  },
  {
   "cell_type": "code",
   "execution_count": 53,
   "metadata": {},
   "outputs": [],
   "source": [
    "doc1Txt, doc2Txt, doc3Txt, doc4Txt = doc_list"
   ]
  },
  {
   "cell_type": "code",
   "execution_count": 54,
   "metadata": {},
   "outputs": [
    {
     "data": {
      "text/plain": [
       "'four score seven years ago fathers brought forth continent new nation conceived liberty dedicated proposition men created equal engaged great civil war testing whether nation nation conceived dedicated long endure met great battlefield war come dedicate portion field final resting place gave lives nation might live altogether fitting proper larger sense dedicate consecrate hallow ground brave men living dead struggled consecrated far poor power add detract world little note long remember say never forget us living rather dedicated unfinished work fought thus far nobly advanced rather us dedicated great task remaining us honored dead take increased devotion cause gave last full measure devotion highly resolve dead shall died vain nation god shall new birth freedom government people people people shall perish earth'"
      ]
     },
     "execution_count": 54,
     "metadata": {},
     "output_type": "execute_result"
    }
   ],
   "source": [
    "# Let's see one of the documents\n",
    "\n",
    "doc4Txt"
   ]
  },
  {
   "cell_type": "code",
   "execution_count": 55,
   "metadata": {},
   "outputs": [
    {
     "data": {
      "text/plain": [
       "str"
      ]
     },
     "execution_count": 55,
     "metadata": {},
     "output_type": "execute_result"
    }
   ],
   "source": [
    "type(doc4Txt)"
   ]
  },
  {
   "cell_type": "markdown",
   "metadata": {},
   "source": [
    "<h3><b>Using Term Frequency - Inverse Document Frequency<b></h3>\n",
    "    \n",
    "In the previous example, we've used basic term frequency to determine each word's \"importance\" based on how often it appears in the document. When dealing with a large corpus of multiple documents, a more commonly used technique is term frequency, inverse document frequency (or TF-IDF) in which a score is calculated based on how often a word or term appears in one document compared to its more general frequency across the entire collection of documents. Using this technique, a high degree of relevance is assumed for words that appear frequently in a particular document, but relatively infrequently across a wide range of other documents."
   ]
  },
  {
   "cell_type": "markdown",
   "metadata": {},
   "source": [
    "**Get TF-IDF Values for the top five words in each document**"
   ]
  },
  {
   "cell_type": "code",
   "execution_count": 61,
   "metadata": {},
   "outputs": [],
   "source": [
    "\n",
    "class Tfidf(object):\n",
    "    \"\"\"instantiate a Tfidf object to compute TF-IDF scores\n",
    "        across a corpus of text documents.\n",
    "    \"\"\"\n",
    "    def __init__(self, docs, doc_names):\n",
    "        self.docs = docs\n",
    "        self.doc_names = doc_names\n",
    "        \n",
    "    def _tf(self, word, doc):\n",
    "        lenOfDoc = len(doc.words)\n",
    "        if lenOfDoc < 1: return 0\n",
    "        else: return doc.words.count(word) / lenOfDoc\n",
    "\n",
    "    def _contains(self, word, docs):\n",
    "        return sum(1 for doc in docs if word in doc.words)\n",
    "\n",
    "    def _idf(self, word, docs):\n",
    "        docsCount = self._contains(word, docs)\n",
    "        if docsCount < 1 : return 0\n",
    "        else: return math.log(len(docs) / docsCount)\n",
    "\n",
    "    def tfidf(self):\n",
    "        print('-----------------------------------------------------------')\n",
    "        for i, doc in enumerate(docs):\n",
    "            print(\"Top words in document {}\".format(doc_names[i]))\n",
    "            scores = {word: (self._tf(word,doc) * self._idf(word, docs)) for word in doc.words}\n",
    "            sorted_words = sorted(scores.items(), key=lambda x: x[1], reverse=True)\n",
    "            for word, score in sorted_words[:5]:\n",
    "                print(\"\\tWord: {}, TF-IDF: {}\".format(word, round(score, 5)))\n",
    "            print()"
   ]
  },
  {
   "cell_type": "code",
   "execution_count": 62,
   "metadata": {},
   "outputs": [],
   "source": [
    "# Create a collection of documents as textblobs\n",
    "doc1 = tb(doc1Txt)\n",
    "doc2 = tb(doc2Txt)\n",
    "doc3 = tb(doc3Txt)\n",
    "doc4 = tb(doc4Txt)\n",
    "docs = [doc1, doc2, doc3, doc4]"
   ]
  },
  {
   "cell_type": "code",
   "execution_count": 63,
   "metadata": {},
   "outputs": [
    {
     "data": {
      "text/plain": [
       "textblob.blob.TextBlob"
      ]
     },
     "execution_count": 63,
     "metadata": {},
     "output_type": "execute_result"
    }
   ],
   "source": [
    "type(doc1)"
   ]
  },
  {
   "cell_type": "markdown",
   "metadata": {},
   "source": [
    "Next, instantiate an object of the Tfidf class() and pass the list of documents to it"
   ]
  },
  {
   "cell_type": "code",
   "execution_count": 64,
   "metadata": {},
   "outputs": [],
   "source": [
    "text_docs = Tfidf(docs, doc_names)"
   ]
  },
  {
   "cell_type": "markdown",
   "metadata": {},
   "source": [
    "Next, call the tfidf() function on the object and have it print out the Top 5 TF-IDF words per document.\n",
    "These are the wwords that are peculiar to the document and define the specific theme of the document."
   ]
  },
  {
   "cell_type": "code",
   "execution_count": 65,
   "metadata": {},
   "outputs": [
    {
     "name": "stdout",
     "output_type": "stream",
     "text": [
      "-----------------------------------------------------------\n",
      "Top words in document Moon.txt\n",
      "\tWord: space, TF-IDF: 0.04077\n",
      "\tWord: sea, TF-IDF: 0.03058\n",
      "\tWord: moon, TF-IDF: 0.03058\n",
      "\tWord: choose, TF-IDF: 0.03058\n",
      "\tWord: go, TF-IDF: 0.02039\n",
      "\n",
      "Top words in document Inaugural.txt\n",
      "\tWord: let, TF-IDF: 0.03187\n",
      "\tWord: sides, TF-IDF: 0.01593\n",
      "\tWord: pledge, TF-IDF: 0.01394\n",
      "\tWord: citizens, TF-IDF: 0.00996\n",
      "\tWord: free, TF-IDF: 0.00996\n",
      "\n",
      "Top words in document Cognitive.txt\n",
      "\tWord: services, TF-IDF: 0.07296\n",
      "\tWord: microsoft, TF-IDF: 0.04864\n",
      "\tWord: cognitive, TF-IDF: 0.04864\n",
      "\tWord: apis, TF-IDF: 0.04864\n",
      "\tWord: developers, TF-IDF: 0.04864\n",
      "\n",
      "Top words in document Gettysburg.txt\n",
      "\tWord: dedicated, TF-IDF: 0.04545\n",
      "\tWord: dead, TF-IDF: 0.03409\n",
      "\tWord: nation, TF-IDF: 0.02841\n",
      "\tWord: conceived, TF-IDF: 0.02273\n",
      "\tWord: dedicate, TF-IDF: 0.02273\n",
      "\n"
     ]
    }
   ],
   "source": [
    "text_docs.tfidf()"
   ]
  },
  {
   "cell_type": "code",
   "execution_count": null,
   "metadata": {},
   "outputs": [],
   "source": []
  }
 ],
 "metadata": {
  "colab": {
   "name": "Untitled0.ipynb",
   "provenance": []
  },
  "kernelspec": {
   "display_name": "Python 3",
   "language": "python",
   "name": "python3"
  },
  "language_info": {
   "codemirror_mode": {
    "name": "ipython",
    "version": 3
   },
   "file_extension": ".py",
   "mimetype": "text/x-python",
   "name": "python",
   "nbconvert_exporter": "python",
   "pygments_lexer": "ipython3",
   "version": "3.8.5"
  }
 },
 "nbformat": 4,
 "nbformat_minor": 1
}
