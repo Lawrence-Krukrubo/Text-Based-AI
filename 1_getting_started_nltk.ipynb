{
  "nbformat": 4,
  "nbformat_minor": 0,
  "metadata": {
    "colab": {
      "name": "1_getting_started_nltk.ipynb",
      "provenance": [],
      "collapsed_sections": [],
      "mount_file_id": "1HTt1mxwu19-g5PmSJSJMIuvvTH3fjjYN",
      "authorship_tag": "ABX9TyNtoVindHexhLcetsZA8id5",
      "include_colab_link": true
    },
    "kernelspec": {
      "name": "python3",
      "display_name": "Python 3"
    }
  },
  "cells": [
    {
      "cell_type": "markdown",
      "metadata": {
        "id": "view-in-github",
        "colab_type": "text"
      },
      "source": [
        "<a href=\"https://colab.research.google.com/github/Lawrence-Krukrubo/Text-Based-AI/blob/master/1_getting_started_nltk.ipynb\" target=\"_parent\"><img src=\"https://colab.research.google.com/assets/colab-badge.svg\" alt=\"Open In Colab\"/></a>"
      ]
    },
    {
      "cell_type": "code",
      "metadata": {
        "id": "AGGS_jsdfAKA",
        "outputId": "21a6ada4-edfd-40d1-d421-98e1d7f09ae8",
        "colab": {
          "base_uri": "https://localhost:8080/",
          "height": 34
        }
      },
      "source": [
        "% cd \"/content/drive/My Drive/Colab_Notebooks/data_tools/nltk\""
      ],
      "execution_count": null,
      "outputs": [
        {
          "output_type": "stream",
          "text": [
            "/content/drive/My Drive/Colab_Notebooks/data_tools/nltk\n"
          ],
          "name": "stdout"
        }
      ]
    },
    {
      "cell_type": "markdown",
      "metadata": {
        "id": "cgR4Cc5bAZ2m"
      },
      "source": [
        "[**NLTK-Book**](http://www.nltk.org/book/)"
      ]
    },
    {
      "cell_type": "markdown",
      "metadata": {
        "id": "ZPVAdpn_29Zb"
      },
      "source": [
        "<h2>1. Downloads and Imports</h2>"
      ]
    },
    {
      "cell_type": "code",
      "metadata": {
        "id": "uTc8CJm2cuOf",
        "outputId": "98edb7e5-9560-485b-a38a-950041575aa2",
        "colab": {
          "base_uri": "https://localhost:8080/",
          "height": 34
        }
      },
      "source": [
        "import nltk\n",
        "import seaborn as sns\n",
        "import matplotlib.pyplot as plt\n",
        "import pandas as pd\n",
        "from collections import Counter, defaultdict\n",
        "\n",
        "print(f'nltk version: {nltk.__version__}')"
      ],
      "execution_count": null,
      "outputs": [
        {
          "output_type": "stream",
          "text": [
            "nltk version: 3.2.5\n"
          ],
          "name": "stdout"
        }
      ]
    },
    {
      "cell_type": "code",
      "metadata": {
        "id": "qiOh8SbigjtV",
        "outputId": "16433acf-6160-4f11-9c9a-1581487e3300",
        "colab": {
          "base_uri": "https://localhost:8080/",
          "height": 1000
        }
      },
      "source": [
        "nltk.download()\n",
        "from nltk.book import *"
      ],
      "execution_count": null,
      "outputs": [
        {
          "output_type": "stream",
          "text": [
            "NLTK Downloader\n",
            "---------------------------------------------------------------------------\n",
            "    d) Download   l) List    u) Update   c) Config   h) Help   q) Quit\n",
            "---------------------------------------------------------------------------\n",
            "Downloader> book\n",
            "Command 'book' unrecognized\n",
            "\n",
            "---------------------------------------------------------------------------\n",
            "    d) Download   l) List    u) Update   c) Config   h) Help   q) Quit\n",
            "---------------------------------------------------------------------------\n",
            "Downloader> d\n",
            "\n",
            "Download which package (l=list; x=cancel)?\n",
            "  Identifier> book\n",
            "    Downloading collection 'book'\n",
            "       | \n",
            "       | Downloading package abc to /root/nltk_data...\n",
            "       |   Unzipping corpora/abc.zip.\n",
            "       | Downloading package brown to /root/nltk_data...\n",
            "       |   Unzipping corpora/brown.zip.\n",
            "       | Downloading package chat80 to /root/nltk_data...\n",
            "       |   Unzipping corpora/chat80.zip.\n",
            "       | Downloading package cmudict to /root/nltk_data...\n",
            "       |   Unzipping corpora/cmudict.zip.\n",
            "       | Downloading package conll2000 to /root/nltk_data...\n",
            "       |   Unzipping corpora/conll2000.zip.\n",
            "       | Downloading package conll2002 to /root/nltk_data...\n",
            "       |   Unzipping corpora/conll2002.zip.\n",
            "       | Downloading package dependency_treebank to /root/nltk_data...\n",
            "       |   Unzipping corpora/dependency_treebank.zip.\n",
            "       | Downloading package genesis to /root/nltk_data...\n",
            "       |   Unzipping corpora/genesis.zip.\n",
            "       | Downloading package gutenberg to /root/nltk_data...\n",
            "       |   Unzipping corpora/gutenberg.zip.\n",
            "       | Downloading package ieer to /root/nltk_data...\n",
            "       |   Unzipping corpora/ieer.zip.\n",
            "       | Downloading package inaugural to /root/nltk_data...\n",
            "       |   Unzipping corpora/inaugural.zip.\n",
            "       | Downloading package movie_reviews to /root/nltk_data...\n",
            "       |   Unzipping corpora/movie_reviews.zip.\n",
            "       | Downloading package nps_chat to /root/nltk_data...\n",
            "       |   Unzipping corpora/nps_chat.zip.\n",
            "       | Downloading package names to /root/nltk_data...\n",
            "       |   Unzipping corpora/names.zip.\n",
            "       | Downloading package ppattach to /root/nltk_data...\n",
            "       |   Unzipping corpora/ppattach.zip.\n",
            "       | Downloading package reuters to /root/nltk_data...\n",
            "       | Downloading package senseval to /root/nltk_data...\n",
            "       |   Unzipping corpora/senseval.zip.\n",
            "       | Downloading package state_union to /root/nltk_data...\n",
            "       |   Unzipping corpora/state_union.zip.\n",
            "       | Downloading package stopwords to /root/nltk_data...\n",
            "       |   Unzipping corpora/stopwords.zip.\n",
            "       | Downloading package swadesh to /root/nltk_data...\n",
            "       |   Unzipping corpora/swadesh.zip.\n",
            "       | Downloading package timit to /root/nltk_data...\n",
            "       |   Unzipping corpora/timit.zip.\n",
            "       | Downloading package treebank to /root/nltk_data...\n",
            "       |   Unzipping corpora/treebank.zip.\n",
            "       | Downloading package toolbox to /root/nltk_data...\n",
            "       |   Unzipping corpora/toolbox.zip.\n",
            "       | Downloading package udhr to /root/nltk_data...\n",
            "       |   Unzipping corpora/udhr.zip.\n",
            "       | Downloading package udhr2 to /root/nltk_data...\n",
            "       |   Unzipping corpora/udhr2.zip.\n",
            "       | Downloading package unicode_samples to /root/nltk_data...\n",
            "       |   Unzipping corpora/unicode_samples.zip.\n",
            "       | Downloading package webtext to /root/nltk_data...\n",
            "       |   Unzipping corpora/webtext.zip.\n",
            "       | Downloading package wordnet to /root/nltk_data...\n",
            "       |   Unzipping corpora/wordnet.zip.\n",
            "       | Downloading package wordnet_ic to /root/nltk_data...\n",
            "       |   Unzipping corpora/wordnet_ic.zip.\n",
            "       | Downloading package words to /root/nltk_data...\n",
            "       |   Unzipping corpora/words.zip.\n",
            "       | Downloading package maxent_treebank_pos_tagger to\n",
            "       |     /root/nltk_data...\n",
            "       |   Unzipping taggers/maxent_treebank_pos_tagger.zip.\n",
            "       | Downloading package maxent_ne_chunker to /root/nltk_data...\n",
            "       |   Unzipping chunkers/maxent_ne_chunker.zip.\n",
            "       | Downloading package universal_tagset to /root/nltk_data...\n",
            "       |   Unzipping taggers/universal_tagset.zip.\n",
            "       | Downloading package punkt to /root/nltk_data...\n",
            "       |   Unzipping tokenizers/punkt.zip.\n",
            "       | Downloading package book_grammars to /root/nltk_data...\n",
            "       |   Unzipping grammars/book_grammars.zip.\n",
            "       | Downloading package city_database to /root/nltk_data...\n",
            "       |   Unzipping corpora/city_database.zip.\n",
            "       | Downloading package tagsets to /root/nltk_data...\n",
            "       |   Unzipping help/tagsets.zip.\n",
            "       | Downloading package panlex_swadesh to /root/nltk_data...\n",
            "       | Downloading package averaged_perceptron_tagger to\n",
            "       |     /root/nltk_data...\n",
            "       |   Unzipping taggers/averaged_perceptron_tagger.zip.\n",
            "       | \n",
            "     Done downloading collection book\n",
            "\n",
            "---------------------------------------------------------------------------\n",
            "    d) Download   l) List    u) Update   c) Config   h) Help   q) Quit\n",
            "---------------------------------------------------------------------------\n",
            "Downloader> q\n",
            "*** Introductory Examples for the NLTK Book ***\n",
            "Loading text1, ..., text9 and sent1, ..., sent9\n",
            "Type the name of the text or sentence to view it.\n",
            "Type: 'texts()' or 'sents()' to list the materials.\n",
            "text1: Moby Dick by Herman Melville 1851\n",
            "text2: Sense and Sensibility by Jane Austen 1811\n",
            "text3: The Book of Genesis\n",
            "text4: Inaugural Address Corpus\n",
            "text5: Chat Corpus\n",
            "text6: Monty Python and the Holy Grail\n",
            "text7: Wall Street Journal\n",
            "text8: Personals Corpus\n",
            "text9: The Man Who Was Thursday by G . K . Chesterton 1908\n"
          ],
          "name": "stdout"
        }
      ]
    },
    {
      "cell_type": "markdown",
      "metadata": {
        "id": "fy_gF2SYiIDS"
      },
      "source": [
        "<h2>2. Searching Text:</h2>\n",
        "\n",
        "There are many ways to examine the context of a text apart from simply reading it. A concordance view shows us every occurrence of a given word, together with some context. Here we look up the word monstrous in Moby Dick.\n",
        "\n"
      ]
    },
    {
      "cell_type": "code",
      "metadata": {
        "id": "1F1L1E6Qgjfi",
        "outputId": "16054760-9c7e-4e97-e500-b63bd0701f6e",
        "colab": {
          "base_uri": "https://localhost:8080/",
          "height": 221
        }
      },
      "source": [
        "text1.concordance('monstrous')"
      ],
      "execution_count": null,
      "outputs": [
        {
          "output_type": "stream",
          "text": [
            "Displaying 11 of 11 matches:\n",
            "ong the former , one was of a most monstrous size . ... This came towards us , \n",
            "ON OF THE PSALMS . \" Touching that monstrous bulk of the whale or ork we have r\n",
            "ll over with a heathenish array of monstrous clubs and spears . Some were thick\n",
            "d as you gazed , and wondered what monstrous cannibal and savage could ever hav\n",
            "that has survived the flood ; most monstrous and most mountainous ! That Himmal\n",
            "they might scout at Moby Dick as a monstrous fable , or still worse and more de\n",
            "th of Radney .'\" CHAPTER 55 Of the Monstrous Pictures of Whales . I shall ere l\n",
            "ing Scenes . In connexion with the monstrous pictures of whales , I am strongly\n",
            "ere to enter upon those still more monstrous stories of them which are to be fo\n",
            "ght have been rummaged out of this monstrous cabinet there is no telling . But \n",
            "of Whale - Bones ; for Whales of a monstrous size are oftentimes cast up dead u\n"
          ],
          "name": "stdout"
        }
      ]
    },
    {
      "cell_type": "markdown",
      "metadata": {
        "id": "7G-BA8-0nwL-"
      },
      "source": [
        "What other words appear in a similar range of contexts as monstrous? We can find out by appending the term similar to the name of the text in question, then inserting the relevant word in parentheses:"
      ]
    },
    {
      "cell_type": "code",
      "metadata": {
        "id": "1P7nEYXKjc70",
        "outputId": "784c7cfc-d8d0-4458-db05-addb494385c0",
        "colab": {
          "base_uri": "https://localhost:8080/",
          "height": 68
        }
      },
      "source": [
        "text1.similar('monstrous')"
      ],
      "execution_count": null,
      "outputs": [
        {
          "output_type": "stream",
          "text": [
            "true contemptible christian abundant few part mean careful puzzled\n",
            "mystifying passing curious loving wise doleful gamesome singular\n",
            "delightfully perilous fearless\n"
          ],
          "name": "stdout"
        }
      ]
    },
    {
      "cell_type": "code",
      "metadata": {
        "id": "flBB9FCpogJj",
        "outputId": "5d865fe5-f4ff-4d5c-8353-96de61134375",
        "colab": {
          "base_uri": "https://localhost:8080/",
          "height": 221
        }
      },
      "source": [
        "text2.concordance('monstrous')"
      ],
      "execution_count": null,
      "outputs": [
        {
          "output_type": "stream",
          "text": [
            "Displaying 11 of 11 matches:\n",
            ". \" Now , Palmer , you shall see a monstrous pretty girl .\" He immediately went\n",
            "your sister is to marry him . I am monstrous glad of it , for then I shall have\n",
            "ou may tell your sister . She is a monstrous lucky girl to get him , upon my ho\n",
            "k how you will like them . Lucy is monstrous pretty , and so good humoured and \n",
            " Jennings , \" I am sure I shall be monstrous glad of Miss Marianne ' s company \n",
            " usual noisy cheerfulness , \" I am monstrous glad to see you -- sorry I could n\n",
            "t however , as it turns out , I am monstrous glad there was never any thing in \n",
            "so scornfully ! for they say he is monstrous fond of her , as well he may . I s\n",
            "possible that she should .\" \" I am monstrous glad of it . Good gracious ! I hav\n",
            "thing of the kind . So then he was monstrous happy , and talked on some time ab\n",
            "e very genteel people . He makes a monstrous deal of money , and they keep thei\n"
          ],
          "name": "stdout"
        }
      ]
    },
    {
      "cell_type": "code",
      "metadata": {
        "id": "87hfvjPPoPlO",
        "outputId": "0dd49b7f-ea8a-4410-d194-8bff1db530eb",
        "colab": {
          "base_uri": "https://localhost:8080/",
          "height": 51
        }
      },
      "source": [
        "text2.similar('monstrous')"
      ],
      "execution_count": null,
      "outputs": [
        {
          "output_type": "stream",
          "text": [
            "very so exceedingly heartily a as good great extremely remarkably\n",
            "sweet vast amazingly\n"
          ],
          "name": "stdout"
        }
      ]
    },
    {
      "cell_type": "markdown",
      "metadata": {
        "id": "1jd9ySAzpwwf"
      },
      "source": [
        "Observe that we get different results for different texts. Austen uses this word quite differently from Melville; for her, monstrous has positive connotations, and sometimes functions as an intensifier like the word very."
      ]
    },
    {
      "cell_type": "markdown",
      "metadata": {
        "id": "y4J_d0Wep7zw"
      },
      "source": [
        "The term common_contexts allows us to examine just the contexts that are shared by two or more words, such as monstrous and very"
      ]
    },
    {
      "cell_type": "code",
      "metadata": {
        "id": "q6GRP_qspxXB",
        "outputId": "34029933-c3db-4057-8cb9-a6e7bb43ab7e",
        "colab": {
          "base_uri": "https://localhost:8080/",
          "height": 34
        }
      },
      "source": [
        "text2.common_contexts(['monstrous','very'])"
      ],
      "execution_count": null,
      "outputs": [
        {
          "output_type": "stream",
          "text": [
            "a_pretty am_glad a_lucky is_pretty be_glad\n"
          ],
          "name": "stdout"
        }
      ]
    },
    {
      "cell_type": "code",
      "metadata": {
        "id": "3IL2Iplbqhlx",
        "outputId": "a3c92997-1164-401e-baa5-94612a9fbbd2",
        "colab": {
          "base_uri": "https://localhost:8080/",
          "height": 34
        }
      },
      "source": [
        "text1.common_contexts(['monstrous', 'perilous'])"
      ],
      "execution_count": null,
      "outputs": [
        {
          "output_type": "stream",
          "text": [
            "most_and\n"
          ],
          "name": "stdout"
        }
      ]
    },
    {
      "cell_type": "markdown",
      "metadata": {
        "id": "5FQKD0L5r256"
      },
      "source": [
        "we can also determine the location of a word in the text: how many words from the beginning it appears. This positional information can be displayed using a dispersion plot. Each stripe represents an instance of a word, and each row represents the entire text"
      ]
    },
    {
      "cell_type": "markdown",
      "metadata": {
        "id": "YgUA4vozwSza"
      },
      "source": [
        "Lexical Dispersion Plot for Words in U.S. Presidential Inaugural Addresses: This can be used to investigate changes in language use over time"
      ]
    },
    {
      "cell_type": "code",
      "metadata": {
        "id": "6KEOG_0Dr6cj",
        "outputId": "8c1dd4a2-374d-4452-8147-75a829981650",
        "colab": {
          "base_uri": "https://localhost:8080/",
          "height": 295
        }
      },
      "source": [
        "sns.set_style('ticks')\n",
        "text4.dispersion_plot(['nation', 'citizens', 'America', 'right'])"
      ],
      "execution_count": null,
      "outputs": [
        {
          "output_type": "display_data",
          "data": {
            "image/png": "[encoded data removed]",
            "text/plain": [
              "<Figure size 432x288 with 1 Axes>"
            ]
          },
          "metadata": {
            "tags": []
          }
        }
      ]
    },
    {
      "cell_type": "markdown",
      "metadata": {
        "id": "FbBVPAYZ03pA"
      },
      "source": [
        "<h2>3. Counting Vocabulary:</h2>\n",
        "\n",
        "In this section we will see how to use the computer to count the words in a text in a variety of useful ways"
      ]
    },
    {
      "cell_type": "code",
      "metadata": {
        "id": "AvADi-B8r6xe",
        "outputId": "89e86e57-41ac-402d-9947-b8871a395d3c",
        "colab": {
          "base_uri": "https://localhost:8080/",
          "height": 34
        }
      },
      "source": [
        "len(text3)"
      ],
      "execution_count": null,
      "outputs": [
        {
          "output_type": "execute_result",
          "data": {
            "text/plain": [
              "44764"
            ]
          },
          "metadata": {
            "tags": []
          },
          "execution_count": 13
        }
      ]
    },
    {
      "cell_type": "markdown",
      "metadata": {
        "id": "8Z3TWuM04GK0"
      },
      "source": [
        "So Genesis has 44,764 words and punctuation symbols, or **`\"tokens.\"`** A token is the technical name for a sequence of characters — such as hairy, his, or...<br>How many distinct words does the book of Genesis contain?  The vocabulary of a text is just the set of tokens that it uses, since in a set, all duplicates are collapsed together. We can find this with `set(text3)`"
      ]
    },
    {
      "cell_type": "code",
      "metadata": {
        "id": "GjvHhfzP5X66",
        "outputId": "4c41fc8c-14e6-4ce7-8734-ce5239a2bfd3",
        "colab": {
          "base_uri": "https://localhost:8080/",
          "height": 34
        }
      },
      "source": [
        "type(text1)"
      ],
      "execution_count": null,
      "outputs": [
        {
          "output_type": "execute_result",
          "data": {
            "text/plain": [
              "nltk.text.Text"
            ]
          },
          "metadata": {
            "tags": []
          },
          "execution_count": 80
        }
      ]
    },
    {
      "cell_type": "code",
      "metadata": {
        "id": "OB0eDdEmtruD"
      },
      "source": [
        "def get_unique_tokens(text):\n",
        "    \"\"\"Find the unique tokens in a text\n",
        "\n",
        "    @param text: an nltk.text.Text object\n",
        "    @return: two items, first is the count,\n",
        "            second is a list of unique items\n",
        "    \"\"\"\n",
        "    unique_list = list(sorted(set(text)))\n",
        "    return len(unique_list), unique_list"
      ],
      "execution_count": null,
      "outputs": []
    },
    {
      "cell_type": "code",
      "metadata": {
        "id": "eEyJCndhr62T",
        "outputId": "e9cc08bd-531f-400e-945c-035d7f599f01",
        "colab": {
          "base_uri": "https://localhost:8080/",
          "height": 391
        }
      },
      "source": [
        "unique_text3 = get_unique_tokens(text3)\n",
        "print(f'Genesis contains {unique_text3[0]} unique tokens\\n')\n",
        "unique_text3[1][:20]"
      ],
      "execution_count": null,
      "outputs": [
        {
          "output_type": "stream",
          "text": [
            "Genesis contains 2789 unique tokens\n",
            "\n"
          ],
          "name": "stdout"
        },
        {
          "output_type": "execute_result",
          "data": {
            "text/plain": [
              "['!',\n",
              " \"'\",\n",
              " '(',\n",
              " ')',\n",
              " ',',\n",
              " ',)',\n",
              " '.',\n",
              " '.)',\n",
              " ':',\n",
              " ';',\n",
              " ';)',\n",
              " '?',\n",
              " '?)',\n",
              " 'A',\n",
              " 'Abel',\n",
              " 'Abelmizraim',\n",
              " 'Abidah',\n",
              " 'Abide',\n",
              " 'Abimael',\n",
              " 'Abimelech']"
            ]
          },
          "metadata": {
            "tags": []
          },
          "execution_count": 82
        }
      ]
    },
    {
      "cell_type": "markdown",
      "metadata": {
        "id": "jfVJIBhz6oZM"
      },
      "source": [
        "Although it has 44,764 tokens, this book has only 2,789 distinct words, or \"word types.\" A word type is the form or spelling of the word independently of its specific occurrences in a text — that is, the word considered as a unique item of vocabulary. Our count of 2,789 items will include punctuation symbols, so we will generally call these unique items types instead of word types."
      ]
    },
    {
      "cell_type": "markdown",
      "metadata": {
        "id": "Yk9ucIuk7WLU"
      },
      "source": [
        "**lexical richness of the text:**<br>\n",
        "The lexical richness of the text computes the ratio of unique words to the number of distinct words in the text.\n",
        "Let's write a function to print the lexical richness for all texts here"
      ]
    },
    {
      "cell_type": "code",
      "metadata": {
        "id": "t0KeVXYMr6gg"
      },
      "source": [
        "# First get the titles\n",
        "titles = ['text1: Moby Dick by Herman Melville 1851', \\\n",
        "          'text2: Sense and Sensibility by Jane Austen 1811', \\\n",
        "          'text3: The Book of Genesis', \\\n",
        "          'text4: Inaugural Address Corpus', \\\n",
        "          'text5: Chat Corpus', \\\n",
        "          'text6: Monty Python and the Holy Grail', \\\n",
        "          'text7: Wall Street Journal', \\\n",
        "          'text8: Personals Corpus', \\\n",
        "          'text9: The Man Who Was Thursday by G . K . Chesterton 1908']\n",
        "texts = [text1, text2, text3, text4, text5, text6, text7, text8, text9]"
      ],
      "execution_count": null,
      "outputs": []
    },
    {
      "cell_type": "code",
      "metadata": {
        "id": "D-hwLTHEuloh"
      },
      "source": [
        "def lexical_richness(texts=texts, titles=titles):\n",
        "    dictt = {}\n",
        "    for text, title in zip(texts, titles):\n",
        "        key = title[:5]\n",
        "        unique_tokens = get_unique_tokens(text)[0]\n",
        "        total_tokens = len(text)\n",
        "        richness = round((unique_tokens / total_tokens)*100, 2)\n",
        "        dictt[key] = richness\n",
        "\n",
        "    return dictt"
      ],
      "execution_count": null,
      "outputs": []
    },
    {
      "cell_type": "code",
      "metadata": {
        "id": "ehZYmj8TyAEZ",
        "outputId": "5542e6eb-0f7c-40fe-ac3c-9ca1e5378b9e",
        "colab": {
          "base_uri": "https://localhost:8080/",
          "height": 34
        }
      },
      "source": [
        "lex_richness = lexical_richness()\n",
        "print(lex_richness)"
      ],
      "execution_count": null,
      "outputs": [
        {
          "output_type": "stream",
          "text": [
            "{'text1': 7.41, 'text2': 4.83, 'text3': 6.23, 'text4': 6.62, 'text5': 13.48, 'text6': 12.77, 'text7': 12.32, 'text8': 22.77, 'text9': 9.83}\n"
          ],
          "name": "stdout"
        }
      ]
    },
    {
      "cell_type": "markdown",
      "metadata": {
        "id": "J_DkdlFs4KVR"
      },
      "source": [
        "Now to identify the text that has the highest lexical richness, simply use the max()."
      ]
    },
    {
      "cell_type": "code",
      "metadata": {
        "id": "MXHx9Xzh0t51",
        "outputId": "c16e39a0-33b3-4b0c-a547-dcfdc551236c",
        "colab": {
          "base_uri": "https://localhost:8080/",
          "height": 35
        }
      },
      "source": [
        "max(lex_richness, key=lex_richness.get)"
      ],
      "execution_count": null,
      "outputs": [
        {
          "output_type": "execute_result",
          "data": {
            "application/vnd.google.colaboratory.intrinsic+json": {
              "type": "string"
            },
            "text/plain": [
              "'text8'"
            ]
          },
          "metadata": {
            "tags": []
          },
          "execution_count": 85
        }
      ]
    },
    {
      "cell_type": "markdown",
      "metadata": {
        "id": "6EM-9wIKsFsm"
      },
      "source": [
        "<h2>A Closer Look at Python: Texts as Lists of Words</h2>"
      ]
    },
    {
      "cell_type": "code",
      "metadata": {
        "id": "51uwwqp1_6TU"
      },
      "source": [
        ""
      ],
      "execution_count": null,
      "outputs": []
    }
  ]
}