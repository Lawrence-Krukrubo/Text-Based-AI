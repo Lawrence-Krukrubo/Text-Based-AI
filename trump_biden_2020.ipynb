{
  "nbformat": 4,
  "nbformat_minor": 0,
  "metadata": {
    "colab": {
      "name": "trump_biden_2020.ipynb",
      "provenance": [],
      "mount_file_id": "1qTNi5iPim77sJa7oROwXKiI2p-jgfARS",
      "authorship_tag": "ABX9TyOT8YwVTXpgisIe9geqsDnG",
      "include_colab_link": true
    },
    "kernelspec": {
      "name": "python3",
      "display_name": "Python 3"
    }
  },
  "cells": [
    {
      "cell_type": "markdown",
      "metadata": {
        "id": "view-in-github",
        "colab_type": "text"
      },
      "source": [
        "<a href=\"https://colab.research.google.com/github/Lawrence-Krukrubo/Text-Based-AI/blob/master/trump_biden_2020.ipynb\" target=\"_parent\"><img src=\"https://colab.research.google.com/assets/colab-badge.svg\" alt=\"Open In Colab\"/></a>"
      ]
    },
    {
      "cell_type": "markdown",
      "metadata": {
        "id": "MXb_DLZ_3ddJ"
      },
      "source": [
        "This Exercise performs some basic Text Processing on the Last 2 Presidential debates between President Trump and Joe Biden.<br>It involves scraping the data and performing some text-preprocessing tasks to understand more about the words spoken by these two Aspirants, during the 2020 Presidential Debates."
      ]
    },
    {
      "cell_type": "markdown",
      "metadata": {
        "id": "XKOrS7dL96zH"
      },
      "source": [
        "[Debate_1](https://www.rev.com/blog/transcripts/donald-trump-joe-biden-1st-presidential-debate-transcript-2020)\n",
        "\n",
        "[Debate_2](https://www.rev.com/blog/transcripts/donald-trump-joe-biden-final-presidential-debate-transcript-2020/amp)"
      ]
    },
    {
      "cell_type": "code",
      "metadata": {
        "id": "olW6CjgM9_ow",
        "outputId": "426e1080-147f-4489-a649-d41157fa3799",
        "colab": {
          "base_uri": "https://localhost:8080/",
          "height": 34
        }
      },
      "source": [
        "import numpy as np\n",
        "import pandas as pd\n",
        "import matplotlib.pyplot as plt\n",
        "import seaborn as sns\n",
        "import nltk\n",
        "import spacy\n",
        "from collections import defaultdict, Counter\n",
        "from bs4 import BeautifulSoup\n",
        "import requests\n",
        "print('All Imported!')"
      ],
      "execution_count": 2,
      "outputs": [
        {
          "output_type": "stream",
          "text": [
            "All Imported!\n"
          ],
          "name": "stdout"
        }
      ]
    },
    {
      "cell_type": "code",
      "metadata": {
        "id": "5bwi_aQAc6L6"
      },
      "source": [
        "debate_1 = \"https://www.rev.com/blog/transcripts/donald-trump-joe-biden-1st-presidential-debate-transcript-2020\"\n",
        "debate_2 = 'https://www.rev.com/blog/transcripts/donald-trump-joe-biden-final-presidential-debate-transcript-2020/amp'"
      ],
      "execution_count": 35,
      "outputs": []
    },
    {
      "cell_type": "markdown",
      "metadata": {
        "id": "fSKWf54ndHca"
      },
      "source": [
        "We need to scrape the data containing the texts from both debates.\n",
        "Lets define a method that uses beautiful soup to parse the text data and returns two lists, of the interactions of both Trump and Biden."
      ]
    },
    {
      "cell_type": "code",
      "metadata": {
        "id": "yp19o77Oqinh"
      },
      "source": [
        "def scrape_parse(link):\n",
        "    \"\"\"Scrape and preprocess text from rev.com,\n",
        "        For Trump/Biden Presidential Debates\n",
        "    \n",
        "    @param,link: URL link to the website(rev.com)\n",
        "    @return: Two lists (trump and biden)\n",
        "    \"\"\"\n",
        "    source = requests.get(link).text\n",
        "    soup = BeautifulSoup(source, 'lxml')\n",
        "    texts = soup.findAll('p')\n",
        "    corpus = [txt.text for txt in texts]\n",
        "\n",
        "    if len(link) > 100:\n",
        "        trump = [i for i in corpus if i.startswith('Donald')]\n",
        "        biden = [i for i in corpus if i.startswith('Joe')]\n",
        "    else:\n",
        "        trump = [i for i in corpus if i.startswith('President')]\n",
        "        biden = [i for i in corpus if i.startswith('Vice')]\n",
        "        \n",
        "    return trump, biden"
      ],
      "execution_count": 55,
      "outputs": []
    },
    {
      "cell_type": "code",
      "metadata": {
        "id": "Tuxbw0DaiM0V"
      },
      "source": [
        "trump_debate_1, biden_debate_1 = scrape_parse(debate_1)"
      ],
      "execution_count": 56,
      "outputs": []
    },
    {
      "cell_type": "code",
      "metadata": {
        "id": "TWSV4MOIpEpA"
      },
      "source": [
        "trump_debate_2, biden_debate_2 = scrape_parse(debate_2)"
      ],
      "execution_count": 57,
      "outputs": []
    },
    {
      "cell_type": "code",
      "metadata": {
        "id": "3mjt5CuMuqD2",
        "outputId": "33c21689-8b8b-463a-fa1f-e699713b9d03",
        "colab": {
          "base_uri": "https://localhost:8080/",
          "height": 51
        }
      },
      "source": [
        "print(f'Trump spoke {len(trump_debate_1)} times in debate one and {len(trump_debate_2)} times in two.')\n",
        "print(f'Biden spoke {len(biden_debate_1)} times in debate one and {len(biden_debate_2)} times in two.')"
      ],
      "execution_count": 58,
      "outputs": [
        {
          "output_type": "stream",
          "text": [
            "Trump spoke 314 times in debate one and 195 times in two.\n",
            "Biden spoke 250 times in debate one and 131 times in two.\n"
          ],
          "name": "stdout"
        }
      ]
    },
    {
      "cell_type": "code",
      "metadata": {
        "id": "o22EN3TmlwqT"
      },
      "source": [
        "from nltk.text import Text, TextCollection"
      ],
      "execution_count": 23,
      "outputs": []
    },
    {
      "cell_type": "code",
      "metadata": {
        "id": "t52jrQ990RVJ"
      },
      "source": [
        ""
      ],
      "execution_count": 59,
      "outputs": []
    }
  ]
}